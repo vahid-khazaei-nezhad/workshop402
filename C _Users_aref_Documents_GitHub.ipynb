{
 "cells": [
  {
   "cell_type": "markdown",
   "id": "shaped-fitting",
   "metadata": {},
   "source": [
    "<div style=\"direction:ltr; color:blue; font-size:200%; text-align: center; font-weight: bold;\">\n",
    "\n",
    "<head> Workshop 2: Decision Making & Loops </head>\n",
    "    \n",
    "</div>"
   ]
  },
  {
   "cell_type": "markdown",
   "id": "informal-boulder",
   "metadata": {},
   "source": [
    "## \n",
    "<br>\n",
    "<div style=\"direction:rtl; color:blue; font-size:150%;\"> \n",
    "برنامه ای بنویسید که 5 عدد متوالی را از کاربر دریافت نموده و مشخص نماید ورودی کاربر زوج یا فرد است.\n",
    "</div>"
   ]
  },
  {
   "cell_type": "code",
   "execution_count": 11,
   "id": "3dd92b9b",
   "metadata": {},
   "outputs": [
    {
     "name": "stdout",
     "output_type": "stream",
     "text": [
      "Enter multiple value: 2 5 6 7\n",
      " add  2   Zoj ast\n",
      " add  5   Fard ast\n",
      " add  6   Zoj ast\n",
      " add  7   Fard ast\n"
     ]
    }
   ],
   "source": [
    "data_list = [ int(x) for x in input(\"Enter multiple value: \").split() ]\n",
    "\n",
    "for i in range(len(data_list)):\n",
    "    if (((data_list[i])%2)==0):\n",
    "        print(' add ',data_list[i],'  Zoj ast')\n",
    "    else:\n",
    "        print(' add ',data_list[i],'  Fard ast')"
   ]
  },
  {
   "cell_type": "markdown",
   "id": "further-tracker",
   "metadata": {},
   "source": [
    "## \n",
    "<br>\n",
    "<div style=\"direction:rtl; color:blue; font-size:150%;\"> \n",
    "برنامه ای بنویسید که از کاربر یک کلمه را دریافت نماید و مشخص کند کدامیک از کاراکترهای آن صدا دار و کدامیک بی صدا هستند. کاراکترهای صدا دار شامل e, a, i, o, u هستند\n",
    "</div>"
   ]
  },
  {
   "cell_type": "code",
   "execution_count": 13,
   "id": "2c8e79ce",
   "metadata": {},
   "outputs": [
    {
     "name": "stdout",
     "output_type": "stream",
     "text": [
      " word : erfan\n",
      "e seda dar \n",
      "------------\n",
      "r be seda \n",
      "------------\n",
      "f be seda \n",
      "------------\n",
      "a seda dar \n",
      "------------\n",
      "n be seda \n",
      "------------\n"
     ]
    }
   ],
   "source": [
    "word = input(' word : ')\n",
    "\n",
    "for i in word:\n",
    "    if (i == \"a\")or(i == 'e')or(i == 'i')or(i == 'o')or(i == 'u'):\n",
    "        print(i,\"seda dar \")\n",
    "        print('-'*12)\n",
    "    else:\n",
    "         print(i,\"be seda \")\n",
    "         print('-'*12)"
   ]
  },
  {
   "cell_type": "markdown",
   "id": "tough-burner",
   "metadata": {},
   "source": [
    "## \n",
    "<br>\n",
    "<div style=\"direction:rtl; color:blue; font-size:150%;\">\n",
    "برنامه ای بنویسید که مطابق جدول زیر شدت زلزه را توصیف نماید\n",
    "</div>\n",
    "\n",
    "<div>\n",
    "<br>\n",
    "<br>\n",
    "<img src=\"richter.png\" alt=\"Richter intensity\" width=\"500\" height=\"600\">\n",
    "</div>"
   ]
  },
  {
   "cell_type": "code",
   "execution_count": 14,
   "id": "d1538e36",
   "metadata": {},
   "outputs": [
    {
     "name": "stdout",
     "output_type": "stream",
     "text": [
      " Enter the number :4.6\n",
      " light \n"
     ]
    }
   ],
   "source": [
    "mag=float(input(' Enter the number :'))\n",
    "if mag>= 10.0:\n",
    "    print (' meteoric ')\n",
    "elif mag>=8.0 and mag<10.0:\n",
    "    print (' great ')\n",
    "elif mag>=7.0 and mag<8.0:\n",
    "    print (' major ')\n",
    "elif mag>=6.0 and mag<7.0:\n",
    "     print ('strong  ')\n",
    "elif mag>=5.0 and mag<6.0:\n",
    "     print (' moderate ')\n",
    "elif mag>=4.0 and mag<5.0:\n",
    "     print (' light ')\n",
    "elif mag>=3.0 and mag<4.0:\n",
    "     print (' minor ')\n",
    "elif mag>=2.0 and mag<3.0:\n",
    "     print (' veir minor ')\n",
    "elif  mag<2.0:\n",
    "    print (' mioro ')"
   ]
  },
  {
   "cell_type": "markdown",
   "id": "engaging-edmonton",
   "metadata": {},
   "source": [
    "## \n",
    "<br>\n",
    "<div style=\"direction:rtl; color:blue; font-size:150%;\">\n",
    "برنامه ای بنویسید که از کاربر تعدادی ورودی را دریافت نماید و دریافت ورودی از کاربر را تا زمان ورود کاراکتر e یا E ادامه دهد. سپس میانگین، ماکزیمم و مینیمم ورودی های کاربر را در خروجی نمایش دهد.\n",
    "</div>"
   ]
  },
  {
   "cell_type": "code",
   "execution_count": 10,
   "id": "c9313fa2",
   "metadata": {},
   "outputs": [
    {
     "name": "stdout",
     "output_type": "stream",
     "text": [
      "enter number and e or E to exit : 12\n",
      "enter new number and e or E to exit : 10\n",
      "enter new number and e or E to exit : e\n",
      "12.0\n",
      "10.0\n",
      "11.0\n"
     ]
    }
   ],
   "source": [
    "counter =0\n",
    "suma =0\n",
    "ch=\"\"\n",
    "ch=input('enter number and e or E to exit : ')\n",
    "\n",
    "maxa=float(ch)\n",
    "mina=float(ch)\n",
    "\n",
    "while ch != 'e' and ch != 'E':\n",
    "    x = float(ch)\n",
    "    suma=suma+x\n",
    "    if x>maxa:\n",
    "        maxa=x\n",
    "    if x<mina:\n",
    "        mina=x\n",
    "    counter +=1\n",
    "    ch = input('enter new number and e or E to exit : ')\n",
    "print( maxa)\n",
    "print( mina)\n",
    "print( suma/counter)"
   ]
  },
  {
   "cell_type": "markdown",
   "id": "auburn-celebration",
   "metadata": {},
   "source": [
    "## \n",
    "<br>\n",
    "<div style=\"direction:rtl; color:blue; font-size:150%;\">\n",
    "برنامه ای بنویسید شامل ده سطر و دو ستون، ستون اول دارای هدر سلسیوس و ستون دوم دارای هدر فارنهایت باشد. در هر سطر معادل سلسیوس و فارنهایت ده عدد تصائفی بین 0 تا صد درجه را نمایش دهد.\n",
    "</div>"
   ]
  },
  {
   "cell_type": "code",
   "execution_count": 10,
   "id": "d27a3c62",
   "metadata": {},
   "outputs": [
    {
     "name": "stdout",
     "output_type": "stream",
     "text": [
      " C 71 ->F 159.8\n",
      " C 85 ->F 185.0\n",
      " C 20 ->F 68.0\n",
      " C 22 ->F 71.6\n",
      " C 16 ->F 60.8\n",
      " C 89 ->F 192.2\n",
      " C 40 ->F 104.0\n",
      " C 80 ->F 176.0\n",
      " C 17 ->F 62.6\n",
      " C 52 ->F 125.6\n"
     ]
    }
   ],
   "source": [
    "import random\n",
    "\n",
    "for i in range(10):\n",
    "  c = random.randint(0, 100)\n",
    "  f=c*9/5+32\n",
    "  print (' C',c,'->F',f)"
   ]
  },
  {
   "cell_type": "markdown",
   "id": "intermediate-reality",
   "metadata": {},
   "source": [
    "## \n",
    "<br>\n",
    "<div style=\"direction:rtl; color:blue; font-size:150%;\">\n",
    "برنامه ای بنویسید که کاربر رشته های باینری 9 بیتی را وارد کند و برنامه بررسی کند که آیا رشته باینری وارد شده even parity هست یا نه؟ \n",
    "\n",
    "در رشته های باینری even parity تعداد یک ها باید زوج باشد در اینصورت بیت نهم رشته باینری به گونه ای تنظیم می شود که این زوج بودن تعداد یک ها حفظ شود\n",
    "\n",
    "</div>\n",
    "<div style=\"direction:ltr; color:green; font-size:150%;\">\n",
    "<br>\n",
    "<br>\n",
    "\"111010101\" -> True even parity\n",
    "<br>\n",
    "\"010001111\" -> False\n",
    "<br>\n",
    "\"110000010\" -> False\n",
    "</div>"
   ]
  },
  {
   "cell_type": "code",
   "execution_count": 11,
   "id": "f9b83eab",
   "metadata": {},
   "outputs": [
    {
     "name": "stdout",
     "output_type": "stream",
     "text": [
      " enter : 110000000\n",
      " True even parity \n"
     ]
    }
   ],
   "source": [
    "a=input(' enter : ')\n",
    "one=0\n",
    "for i in range(len(a)):\n",
    "  if a[i]==1:\n",
    "   one +=1 \n",
    "if one%2==0:\n",
    "    print(' True even parity ')\n",
    "else:\n",
    "    print(' False ')"
   ]
  },
  {
   "cell_type": "markdown",
   "id": "quantitative-bracelet",
   "metadata": {},
   "source": [
    "## \n",
    "<br>\n",
    "<div style=\"direction:rtl; color:blue; font-size:150%;\">\n",
    "  می دانیم که هر عدد هر عدد بزرگتر و مساوی یک را می توان به صورت حاصلضرب اعداد اول نوشت. برنامه ای بنویسید که از ورودی یک عدد صحیح بزگتر از یک را دریافت کرده و آن را به اعداد اول تجزیه کند\n",
    "\n",
    "</div>\n"
   ]
  },
  {
   "cell_type": "code",
   "execution_count": 4,
   "id": "38c7336e",
   "metadata": {},
   "outputs": [
    {
     "name": "stdout",
     "output_type": "stream",
     "text": [
      "enter an integer number greater than one7\n",
      "its a prime number\n"
     ]
    }
   ],
   "source": [
    "a=int(input('enter an integer number greater than one'))\n",
    "n1=0\n",
    "for i in range (1, a+1):\n",
    "    if a%i==0:\n",
    "        n1+=1\n",
    "if n1==2:\n",
    "    print('its a prime number')\n",
    "else:\n",
    "    ('its not a prime number')"
   ]
  },
  {
   "cell_type": "markdown",
   "id": "sapphire-update",
   "metadata": {},
   "source": [
    "## \n",
    "<br>\n",
    "<div style=\"direction:rtl; color:blue; font-size:150%;\">\n",
    "برنامه ای بنویسید که پرتاب یک سکه را شبیه سازی کند. برای پرتاب سکه از کاربر تعداد دفعات پرتاب پرسیده می شود و سپس رشته ای به طول خواسته شده با ترکیب حروف H, T تولید می شود. حرف H نشان گر Head و T نشانگر Tail است   \n",
    "</div>\n"
   ]
  },
  {
   "cell_type": "code",
   "execution_count": 5,
   "id": "4a188951",
   "metadata": {},
   "outputs": [
    {
     "name": "stdout",
     "output_type": "stream",
     "text": [
      "Enter the number :: 3\n",
      "[T]\n",
      "[T]\n",
      "[H]\n"
     ]
    }
   ],
   "source": [
    "import random\n",
    "n = int (input('Enter the number :: '))\n",
    "for i in range(n):\n",
    "  x = random.randint(0, 1)\n",
    "  if x==1:\n",
    "        print ('[H]')\n",
    "  else:\n",
    "    print ('[T]')"
   ]
  },
  {
   "cell_type": "markdown",
   "id": "analyzed-rover",
   "metadata": {},
   "source": [
    "## \n",
    "<br>\n",
    "<div style=\"direction:rtl; color:blue; font-size:150%;\">\n",
    "برنامه ای بنویسید که از کاربر یک رشته را دریافت نموده و بگوید رشته ی ورودی پالیندروم هست یا خیر\n",
    "رشته پالیندروم رشته ای است که اگر کاراکترهای آن از چب به راست و یا راست به چپ خوانده شود رشته ای یکسان بدست بیاید\n",
    "</div>"
   ]
  },
  {
   "cell_type": "code",
   "execution_count": 6,
   "id": "fc196bda",
   "metadata": {},
   "outputs": [
    {
     "name": "stdout",
     "output_type": "stream",
     "text": [
      " word :ava\n",
      " its Palindrom \n"
     ]
    }
   ],
   "source": [
    "a = input(\" word :\")\n",
    "areversed=a[:: 1]\n",
    "if a==areversed:\n",
    "   print(' its Palindrom ')\n",
    "else:\n",
    "   print(' it is not Palindrom ')"
   ]
  },
  {
   "cell_type": "markdown",
   "id": "associate-jones",
   "metadata": {},
   "source": [
    "## \n",
    "<br>\n",
    "<div style=\"direction:rtl; color:blue; font-size:150%;\">\n",
    "شبه کد زیر را به کمک زبان پایتون پیاده سازی نمائید.\n",
    "در این روش شرط خاتمه حلقه را برابر abs(guess * guess - x) < 0.001 \n",
    "</div>\n",
    "<br>\n",
    "<div style=\"direction:ltr; color:green; font-size:150%;\">\n",
    "Read x from the user <br>\n",
    "Initialize guess to x/2 <br>\n",
    "While guess is not good enough do <br>\n",
    "Update guess to be the average of guess and x/guess\n",
    "</div>"
   ]
  },
  {
   "cell_type": "code",
   "execution_count": 7,
   "id": "documentary-reproduction",
   "metadata": {},
   "outputs": [
    {
     "name": "stdout",
     "output_type": "stream",
     "text": [
      "enter x : 784\n",
      "enter youre guess : 20\n",
      "youre guess is smaller than x\n",
      "enter new youre guess : 900\n",
      "youre guess is bigger than x\n",
      "enter new youre guess : 784\n",
      "youre guess is right\n"
     ]
    }
   ],
   "source": [
    "x = float(input('enter x : '))\n",
    "guess = float(input('enter youre guess : '))\n",
    "\n",
    "while abs(guess*(guess-x))>0.001 :\n",
    "    if guess > x :\n",
    "        print('youre guess is bigger than x')\n",
    "        guess = float(input('enter new youre guess : '))\n",
    "    else :\n",
    "        print('youre guess is smaller than x')\n",
    "        guess = float(input('enter new youre guess : '))\n",
    "print('youre guess is right')"
   ]
  },
  {
   "cell_type": "code",
   "execution_count": null,
   "id": "7deb9627",
   "metadata": {},
   "outputs": [],
   "source": []
  }
 ],
 "metadata": {
  "kernelspec": {
   "display_name": "Python 3 (ipykernel)",
   "language": "python",
   "name": "python3"
  },
  "language_info": {
   "codemirror_mode": {
    "name": "ipython",
    "version": 3
   },
   "file_extension": ".py",
   "mimetype": "text/x-python",
   "name": "python",
   "nbconvert_exporter": "python",
   "pygments_lexer": "ipython3",
   "version": "3.9.7"
  },
  "toc": {
   "base_numbering": 1,
   "nav_menu": {},
   "number_sections": true,
   "sideBar": true,
   "skip_h1_title": false,
   "title_cell": "Table of Contents",
   "title_sidebar": "Contents",
   "toc_cell": false,
   "toc_position": {},
   "toc_section_display": true,
   "toc_window_display": false
  },
  "varInspector": {
   "cols": {
    "lenName": 16,
    "lenType": 16,
    "lenVar": 40
   },
   "kernels_config": {
    "python": {
     "delete_cmd_postfix": "",
     "delete_cmd_prefix": "del ",
     "library": "var_list.py",
     "varRefreshCmd": "print(var_dic_list())"
    },
    "r": {
     "delete_cmd_postfix": ") ",
     "delete_cmd_prefix": "rm(",
     "library": "var_list.r",
     "varRefreshCmd": "cat(var_dic_list()) "
    }
   },
   "types_to_exclude": [
    "module",
    "function",
    "builtin_function_or_method",
    "instance",
    "_Feature"
   ],
   "window_display": false
  }
 },
 "nbformat": 4,
 "nbformat_minor": 5
}
