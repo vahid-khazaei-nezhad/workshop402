{
 "cells": [
  {
   "cell_type": "code",
   "execution_count": 1,
   "id": "dd4dadcb",
   "metadata": {},
   "outputs": [
    {
     "name": "stdout",
     "output_type": "stream",
     "text": [
      "Enter string : arman\n",
      ".---.---.--."
     ]
    }
   ],
   "source": [
    "#Question1\n",
    "\n",
    "morse_code = { 'A' : \".-\" , 'B' : \"-...\" , 'C' : \"-.-.\" , 'D' : \"-..\" , 'E' : '.'\n",
    "    \n",
    ",'F' : \"..-.\" , 'G' : \"--.\" , 'H' : \"....\" , 'I' : \"..\" , 'J' : \".---\" , 'K' : \"-.-\"   \n",
    "    \n",
    ", 'L' : \".-..\" , 'M' : \"--\" , 'N' : \"-.\" , 'o' : \"---\" , 'P' : \".--.\" , 'Q' : \"--.-\"\n",
    "\n",
    ", 'R' : \"--.-\" , 'S' : \".-.\" , 'T' : '-' , 'U' : \"..-\" , 'V' : \"...-\" , 'W' : \".--\"\n",
    "\n",
    ", 'X' : \"-..-\" , 'Y' : \"-.--\" , 'Z' : \"--..\" , '0' : \"-----\" , '1' : \".----\" , '2' : \"..---\"\n",
    "\n",
    ", '3' : \"...--\" , '4' : \"....-\" , '5' : \".....\" , '6' : \"-....\" , '7' : \"--...\"\n",
    "\n",
    ", '8' : \"---..\" , '9' : \"----.\"}\n",
    "\n",
    "string = input(\"Enter string : \")\n",
    "\n",
    "capitalized_string = string.upper()\n",
    "\n",
    "for character in capitalized_string :\n",
    "    \n",
    "    print(morse_code[character] , end = '')"
   ]
  },
  {
   "cell_type": "code",
   "execution_count": 22,
   "id": "60c1787d",
   "metadata": {},
   "outputs": [
    {
     "name": "stdout",
     "output_type": "stream",
     "text": [
      "Enter a number from 0 - 999 : 810\n",
      "Eight hundred ten\n"
     ]
    }
   ],
   "source": [
    "#Question2\n",
    "\n",
    "dictionary_three_digit_numbers = {\"hundred\" : {'1' : \"One hundred\" , '2' : \"Two hundred\" , '3' : \"Three hundred\" , '4' : \"Four hundred\" , '5' : \"Five hundred\" , '6' : \"Six hundred\" , '7' : \"Seven hundred\" , '8' : \"Eight hundred\" , '9' : \"Nine hundred\"}\n",
    "                                  \n",
    "                                , \"ten\" : {'0' : {'0' : \"\" , '1' : \"one\" , '2' : \"two\" , '3' : \"three\" , '4' : \"four\" , '5' : \"five\" , '6' : \"six\" , '7' : \"seven\" , '8' : \"eight\" , '9' : \"nine\"} , '1' : {'0' : \"ten\" , '1' : \"eleven\" , '2' : \"twelve\" , '3' : \"thirteen\" , '4' : \"fourteen\" , '5' : \"fifteen\" , '6' : \"sixteen\" , '7' : \"seventeen\" , '8' : \"eighteen\" , '9' : \"nineteen\"} , '2' : \"twenty\" , '3' : \"thirty\" , '4' : \"Fourty\" , '5' : \"Fifty\" , '6' : \"Sixty\" , '7' : \"Seventy\" , '8' : \"Eighty\" , '9' : \"Ninety\"}                                  \n",
    "                                \n",
    "                                , \"one\" : {'0' : \"\" , '1' : \"one\" , '2' : \"two\" , '3' : \"three\" , '4' : \"four\" , '5' : \"five\" , '6' : \"six\" , '7' : \"seven\" , '8' : \"eight\" , '9' : \"nine\"}\n",
    "                                \n",
    "                                 }\n",
    "\n",
    "dictionary_two_digit_numbers = {\"ten\" : {'1' : {'0' : \"Ten\" , '1' : \"Eleven\" , '2' : \"Twelve\" , '3' : \"Thirteen\" , '4' : \"Fourteen\" , '5' : \"Fifteen\" , '6' : \"Sixteen\" , '7' : \"Seventeen\" , '8' : \"Eighteen\" , '9' : \"Nineteen\"} , '2' : \"Twenty\" , '3' : \"Thirty\" , '4' : \"Fourty\" , '5' : \"Fifty\" , '6' : \"Sixty\" , '7' : \"Seventy\" , '8' : \"Eighty\" , '9' : \"Ninety\"}\n",
    "    \n",
    "                                , \"one\" : {'0' : \"\" , '1' : \"one\" , '2' : \"two\" , '3' : \"three\" , '4' : \"four\" , '5' : \"five\" , '6' : \"six\" , '7' : \"seven\" , '8' : \"eight\" , '9' : \"nine\"}\n",
    "    \n",
    "                               }\n",
    "\n",
    "dictionary_one_digit_numbers = {\"one\" : {'0' : \"Zero\" , '1' : \"One\" , '2' : \"Two\" , '3' : \"Three\" , '4' : \"Four\" , '5' : \"Five\" , '6' : \"Six\" , '7' : \"Seven\" , '8' : \"Eight\" , '9' : \"Nine\"}}\n",
    "\n",
    "number = input(\"Enter a number from 0 - 999 : \")\n",
    "\n",
    "if len(number) == 3 :\n",
    "    \n",
    "    for i in range(3) :\n",
    "        \n",
    "        if i == 0 :\n",
    "            \n",
    "            print(dictionary_three_digit_numbers[\"hundred\"][number[i]] , end = \" \")\n",
    "            \n",
    "        if i == 1 :\n",
    "            \n",
    "            if number[i] == '0' :\n",
    "                    \n",
    "                 print(dictionary_three_digit_numbers[\"ten\"]['0'][number[i + 1]])\n",
    "                 \n",
    "                 break  \n",
    "                \n",
    "            elif number[i] == '1' :\n",
    "               \n",
    "                 print(dictionary_three_digit_numbers[\"ten\"]['1'][number[i + 1]])\n",
    "                 \n",
    "                 break\n",
    "                 \n",
    "            else :    \n",
    "            \n",
    "                 print(dictionary_three_digit_numbers[\"ten\"][number[i]] , end = \" \")\n",
    "            \n",
    "        if i == 2 :\n",
    "            \n",
    "            print(dictionary_three_digit_numbers[\"one\"][number[i]])\n",
    "            \n",
    "if len(number) == 2 :\n",
    "    \n",
    "    for j in range(2) :\n",
    "    \n",
    "       if j == 0 :\n",
    "           \n",
    "           if number[j] == '0' :\n",
    "                   \n",
    "                print(dictionary_two_digit_numbers[\"ten\"]['0'][number[j + 1]])\n",
    "                \n",
    "                break  \n",
    "               \n",
    "           elif number[j] == '1' :\n",
    "              \n",
    "                print(dictionary_two_digit_numbers[\"ten\"]['1'][number[j + 1]])\n",
    "                \n",
    "                break\n",
    "                \n",
    "           else :    \n",
    "\n",
    "               print(dictionary_two_digit_numbers[\"ten\"][number[j]] , end = \" \")\n",
    "        \n",
    "       if j == 1 :\n",
    "          \n",
    "          print(dictionary_two_digit_numbers[\"one\"][number[j]])\n",
    "          \n",
    "if len(number) == 1 :\n",
    "    \n",
    "    print(dictionary_one_digit_numbers[\"one\"][number])"
   ]
  },
  {
   "cell_type": "code",
   "execution_count": 21,
   "id": "ba83ed8a",
   "metadata": {},
   "outputs": [
    {
     "name": "stdout",
     "output_type": "stream",
     "text": [
      "Enter string 1 : wewef\n",
      "Enter string 2 : ujuj\n",
      "Different\n"
     ]
    }
   ],
   "source": [
    "#Question3\n",
    "\n",
    "x = set(input('Enter string 1 : '))\n",
    "y = set(input('Enter string 2 : '))\n",
    "c= x & y\n",
    "if len(c) == len(x):\n",
    "    print('Same')\n",
    "else :\n",
    "    print('Different')"
   ]
  },
  {
   "cell_type": "code",
   "execution_count": 5,
   "id": "7f6032a4",
   "metadata": {},
   "outputs": [
    {
     "name": "stdout",
     "output_type": "stream",
     "text": [
      "Enter string : arman\n",
      "27776266"
     ]
    }
   ],
   "source": [
    "#Question3\n",
    "\n",
    "mobile_key = {'.' : \"1\" , ',' : \"11\" , '?' : \"111\" , '!' : \"1111\" , ':' : \"11111\"\n",
    "              \n",
    "             , 'A' : \"2\" , 'B' : \"22\" , 'C' : \"222\"\n",
    "             \n",
    "             , 'D' : \"3\" , 'E' : \"33\" , 'F' : \"333\"\n",
    "             \n",
    "             , 'G' : \"4\" , 'H' : \"44\" , 'I' : \"444\"\n",
    "             \n",
    "             , 'J' : \"5\" , 'K' : \"55\" , 'l' : \"555\"\n",
    "             \n",
    "             , 'M' : \"6\" , 'N' : \"66\" , 'O' : \"666\"\n",
    "             \n",
    "             , 'P' : \"7\" , 'Q' : \"77\" , 'R' : \"777\" , \"S\" : \"7777\"\n",
    "             \n",
    "             , 'T' : \"8\" , 'U' : \"88\" , 'V' : \"888\"\n",
    "             \n",
    "             , 'W' : \"9\" , 'X' : \"99\" , 'Y' : \"999\" , 'Z' : \"9999\"\n",
    "    \n",
    "             , ' ' : \"0\"\n",
    "    \n",
    "             }\n",
    "\n",
    "string = input(\"Enter string : \")\n",
    "\n",
    "capitalized_string = string.upper()\n",
    "\n",
    "for character in capitalized_string :\n",
    "    \n",
    "    print(mobile_key[character] , end = '')   "
   ]
  },
  {
   "cell_type": "code",
   "execution_count": 7,
   "id": "7244dfc3",
   "metadata": {},
   "outputs": [
    {
     "name": "stdout",
     "output_type": "stream",
     "text": [
      "Enter a positive_integer : 15\n",
      "It is not prime number\n",
      "Enter a positive_integer again : 29\n",
      "It is prime number\n",
      "Next prime number is : 31\n"
     ]
    }
   ],
   "source": [
    "#Question5\n",
    "\n",
    "def prime_numbers() :\n",
    "    \n",
    "    '''\n",
    "    descriptions : This function calculates prime numbers 1 - 1000 \n",
    "    \n",
    "        parameters :\n",
    "        \n",
    "        returns : prime numbers 1 - 1000\n",
    "    \n",
    "    '''\n",
    "    \n",
    "    prime_numbers_list = []\n",
    "\n",
    "    for i in range(2 , 1000) :\n",
    "        \n",
    "        Divisible_other_than_itself_and_1 = 0\n",
    "        \n",
    "        for j in range(2 , i) :\n",
    "            \n",
    "            if i % j == 0 :\n",
    "                \n",
    "                Divisible_other_than_itself_and_1 += 1\n",
    "        \n",
    "        if  Divisible_other_than_itself_and_1 == 0 :\n",
    "            \n",
    "            prime_numbers_list.append(i)\n",
    "            \n",
    "    return  prime_numbers_list\n",
    "\n",
    "prime_numbers_list = prime_numbers()\n",
    "\n",
    "number = int(input(\"Enter a positive_integer : \"))\n",
    "\n",
    "while number not in prime_numbers_list :\n",
    "    \n",
    "    print(\"It is not prime number\")\n",
    "    \n",
    "    number = int(input(\"Enter a positive_integer again : \"))\n",
    "\n",
    "if number in prime_numbers_list :\n",
    "    \n",
    "    print(\"It is prime number\")\n",
    "    \n",
    "    print(\"Next prime number is :\" , prime_numbers_list[prime_numbers_list.index(number) + 1])            "
   ]
  },
  {
   "cell_type": "code",
   "execution_count": null,
   "id": "65248112",
   "metadata": {},
   "outputs": [],
   "source": []
  }
 ],
 "metadata": {
  "kernelspec": {
   "display_name": "Python 3 (ipykernel)",
   "language": "python",
   "name": "python3"
  },
  "language_info": {
   "codemirror_mode": {
    "name": "ipython",
    "version": 3
   },
   "file_extension": ".py",
   "mimetype": "text/x-python",
   "name": "python",
   "nbconvert_exporter": "python",
   "pygments_lexer": "ipython3",
   "version": "3.9.7"
  }
 },
 "nbformat": 4,
 "nbformat_minor": 5
}
