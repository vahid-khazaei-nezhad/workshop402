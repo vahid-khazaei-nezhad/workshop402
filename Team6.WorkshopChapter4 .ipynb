{
 "cells": [
  {
   "cell_type": "markdown",
   "id": "a898c945",
   "metadata": {},
   "source": [
    "# برنامه ای بنویسید که یک متن را از کاربر دریافت کرده و تعداد تکرار هر یک از کلمات پاراگراف را در خروجی نمایش دهد."
   ]
  },
  {
   "cell_type": "code",
   "execution_count": 94,
   "id": "e03b50a0",
   "metadata": {},
   "outputs": [
    {
     "name": "stdout",
     "output_type": "stream",
     "text": [
      "Enter Your String: hello hi hi lol hello jajaja hello\n",
      "{'hello': 3, 'hi': 2, 'lol': 1, 'jajaja': 1}\n"
     ]
    }
   ],
   "source": [
    "s = input( \"Enter Your String: \" )\n",
    "\n",
    "s = list(s.split())\n",
    "\n",
    "dic_count = {}\n",
    "\n",
    "for i in s:\n",
    "    dic_count[i] = s.count(i)\n",
    "    \n",
    "print(dic_count)\n"
   ]
  },
  {
   "cell_type": "markdown",
   "id": "d3fd8288",
   "metadata": {},
   "source": [
    "# یک متن از کاربر دریافت کرده و آن را براساس علائم نگارشی {., -, ?, ! } و ویرگول توکنایز کند."
   ]
  },
  {
   "cell_type": "code",
   "execution_count": 47,
   "id": "7ca7e99f",
   "metadata": {},
   "outputs": [
    {
     "name": "stdout",
     "output_type": "stream",
     "text": [
      "Enter Your String: hello! hi lol. hoho? booo\n",
      "['hello', ' hi lol', ' hoho', ' booo']\n"
     ]
    }
   ],
   "source": [
    "import re\n",
    "\n",
    "s = input( \"Enter Your String: \" )\n",
    "\n",
    "print( re.split( '\\?|\\-|\\!|,|\\.',s ) )"
   ]
  },
  {
   "cell_type": "markdown",
   "id": "fa1ac659",
   "metadata": {},
   "source": [
    "# برنامه ای بنوسید که یک دنباله ی عددی از اعداد صحیح مثبت را از کاربر دریافت نموده و خروجی های زیر را تولید نماید:\n",
    "a.\tمیانگین اعداد\n",
    "b.\tواریانس اعداد\n",
    "c.\tانحراف معیار\n",
    "d.\tبزرگترین و کمترین عدد\n",
    "e.\tفراوانی اعداد یا هیستوگرام\n",
    "f.\tمد\n",
    "g.\tمقادیر چارک اول و دوم و سوم"
   ]
  },
  {
   "cell_type": "code",
   "execution_count": null,
   "id": "8ddcde9a",
   "metadata": {},
   "outputs": [],
   "source": [
    "##3\n",
    "import statistics\n",
    "\n",
    "List = []\n",
    " \n",
    "n = int( input( \"Enter number of elements : \" ) )\n",
    " \n",
    "for i in range(0, n):\n",
    "    \n",
    "    value = int( input() )\n",
    " \n",
    "    List.append(value)\n",
    "    \n",
    "List.sort()\n",
    "\n",
    "##3a\n",
    "\n",
    "print( \"The Average Is :\", sum(List) / len(List) )\n",
    "\n",
    "\n",
    "\n",
    "##3b\n",
    "\n",
    "print( \"The Variance Is :\", statistics.variance(List) )\n",
    "\n",
    "\n",
    "\n",
    "##3c\n",
    "\n",
    "stdev = statistics.stdev(List)\n",
    "\n",
    "print( \"The Standard deviation Is :\", round( stdev, 2 ) )\n",
    "\n",
    "\n",
    "##3d\n",
    "\n",
    "print(\"Max is: \", max(List))\n",
    "print(\"Min is: \", min(List))\n",
    "\n",
    "\n",
    "##3e\n",
    "\n",
    "dic_count_Lists = {}\n",
    "\n",
    "for i in List:\n",
    "    dic_count_Lists[i] = List.count(i)\n",
    "    \n",
    "for k, v in dic_count_Lists.items():\n",
    "    \n",
    "    print(k, ':' , v*'*')\n",
    "    \n",
    "    \n",
    "    \n",
    "##3f\n",
    "\n",
    "print(\"The Mode Is :\", statistics.mode(List))\n",
    "\n",
    "      \n",
    "           \n",
    "##3g\n",
    "\n",
    "med = statistics.median(List)\n",
    "\n",
    "q1 = []\n",
    "\n",
    "q3 = []\n",
    "\n",
    "for i in range(len(List)):\n",
    "    \n",
    "    if List[i] < med:\n",
    "        \n",
    "        q1.append(i)\n",
    "\n",
    "Q1 = statistics.median(q1)\n",
    "       \n",
    "\n",
    "for i in range(len(List)):\n",
    "    \n",
    "    if List[i] > med:\n",
    "        \n",
    "        q3.append(i)\n",
    "\n",
    "Q3 = statistics.median(q3)\n",
    "\n",
    "print(\" Q1 is: \", Q1, \"\\n Q2 is: \", med, \"\\n Q3 is: \", Q3)\n",
    "\n",
    "     "
   ]
  },
  {
   "cell_type": "markdown",
   "id": "66752dbe",
   "metadata": {},
   "source": [
    "# برنامه ای بنویسید که لیست فایل های موجود در یک دایرکتوری را از کاربر دریافت نموده و سپس آن ها را براساس extension شان دسته بندی و نمایش دهد"
   ]
  },
  {
   "cell_type": "code",
   "execution_count": null,
   "id": "df2769a4",
   "metadata": {},
   "outputs": [],
   "source": [
    "##4\n",
    "\n",
    "Files = []\n",
    "\n",
    "n = int (str (input (\"Enter the number of files: \")))\n",
    "\n",
    "for i in range (0, n):\n",
    "    \n",
    "    userinput = str (input (\"Enter the file name: \"))\n",
    "\n",
    "    Files.append (userinput) \n",
    "    \n",
    "Extentions = list (map (lambda y : y.split ('.')[1] , Files)) \n",
    "\n",
    "FileNames = list (map (lambda y : y.split ('.') [0] , Files))\n",
    "\n",
    "for i in range (len (Extentions)):\n",
    "    \n",
    "    print ( \".\", Extentions[i], \":\")\n",
    "    \n",
    "    for x in range (len (Files)):\n",
    "        \n",
    "        if Extentions[i] in Files [x]:\n",
    "            \n",
    "            print (FileNames[x])"
   ]
  },
  {
   "cell_type": "markdown",
   "id": "08506440",
   "metadata": {},
   "source": [
    "# برنامه ای بنویسید که بتواند یک دیکشنری را براساس مقادیر (value) به صورت صعودی / نزولی مرتب نماید"
   ]
  },
  {
   "cell_type": "code",
   "execution_count": null,
   "id": "6c2ba57a",
   "metadata": {},
   "outputs": [],
   "source": [
    "##5\n",
    "\n",
    "dict = {1: 1, 2: 9, 3: 4}\n",
    "sorted_values = sorted(dict.values()) \n",
    "sorted_dict = {}\n",
    "\n",
    "for i in sorted_values:\n",
    "    for k in dict.keys():\n",
    "        if dict1[k] == i:\n",
    "            sorted_dict[k] = dict1[k]\n",
    "            break\n",
    "\n",
    "print(sorted_dict)"
   ]
  }
 ],
 "metadata": {
  "kernelspec": {
   "display_name": "Python 3 (ipykernel)",
   "language": "python",
   "name": "python3"
  },
  "language_info": {
   "codemirror_mode": {
    "name": "ipython",
    "version": 3
   },
   "file_extension": ".py",
   "mimetype": "text/x-python",
   "name": "python",
   "nbconvert_exporter": "python",
   "pygments_lexer": "ipython3",
   "version": "3.9.7"
  }
 },
 "nbformat": 4,
 "nbformat_minor": 5
}
