{
 "cells": [
  {
   "cell_type": "markdown",
   "id": "f19f0959",
   "metadata": {},
   "source": [
    "# Excersize \n",
    "<br>\n",
    "<div style=\"direction:rtl; color:blue; font-size:150%;\">\n",
    "تابعی بنویسید که دو ضلع کوتاه تر یک مثلث قائم الزاویه را از ورودی دریافت کرده و اندازه وتر را برگرداند.\n",
    "<br>\n"
   ]
  },
  {
   "cell_type": "code",
   "execution_count": 8,
   "id": "7ccdce77",
   "metadata": {},
   "outputs": [],
   "source": [
    "import math\n",
    "def myfunc(a,b):\n",
    "    \n",
    "    c=(a*a)+(b*b)\n",
    "    print(\"The chord of a triangle is equal to\",math.sqrt(c))"
   ]
  },
  {
   "cell_type": "code",
   "execution_count": 9,
   "id": "bfec0016",
   "metadata": {},
   "outputs": [
    {
     "name": "stdout",
     "output_type": "stream",
     "text": [
      "Enter one of the sides of the ruler : 3\n",
      "Enter another side of the ruler :4\n",
      "The chord of a triangle is equal to 5.0\n"
     ]
    }
   ],
   "source": [
    "x=float(input(\"Enter one of the sides of the ruler : \"))\n",
    "y=float(input(\"Enter another side of the ruler :\"))\n",
    "myfunc(x,y)"
   ]
  },
  {
   "cell_type": "markdown",
   "id": "31dbd3b2",
   "metadata": {},
   "source": [
    "# Excersize \n",
    "<br>\n",
    "<div style=\"direction:rtl; color:blue; font-size:150%;\">\n",
    "نحوه محاسبه کرایه تاکسی براساس مسافت طی شده بر حسب کیلومتر است. به این صورت که مبلغ ورودی و برای 10 کیلومتر اول معادل 4 دلار و به ازای هر کیلومتر اضافی 0.25 دلار به کرایه افزوده می شود. برنامه ای بنویسید که کرایه تاکسی(تاکسی متر) را محاسبه نماید. \n",
    "<br>\n"
   ]
  },
  {
   "cell_type": "code",
   "execution_count": 5,
   "id": "4ca58b84",
   "metadata": {},
   "outputs": [],
   "source": [
    "\n",
    "def myfuncto(a):\n",
    "    \n",
    "    if a==10:\n",
    "        print('The fare is equal to the distance of 10Km :: 4 $$')\n",
    "    else:\n",
    "        b=(a-10)*0.25\n",
    "        print(\"The fare is equal to the distance of\",a,\"km :: \",b+4,\"$$\")\n"
   ]
  },
  {
   "cell_type": "code",
   "execution_count": 6,
   "id": "d69391be",
   "metadata": {},
   "outputs": [
    {
     "name": "stdout",
     "output_type": "stream",
     "text": [
      "Enter the distance traveled : 12\n",
      "The fare is equal to the distance of 12 km ::  4.5 $$\n"
     ]
    }
   ],
   "source": [
    "d=int(input('Enter the distance traveled : '))\n",
    "myfuncto(d)"
   ]
  },
  {
   "cell_type": "markdown",
   "id": "4640c233",
   "metadata": {
    "run_control": {
     "marked": true
    }
   },
   "source": [
    "# Excersize \n",
    "<br>\n",
    "<div style=\"direction:rtl; color:blue; font-size:150%;\">\n",
    "برنامه ای بنویسید که سه عدد از ورودی را دریافت نموده و مقدار میانه \n",
    "(Median)\n",
    "را به عنوان نتیجه در خروجی بازگرداند.\n",
    "    برنامه را در قالب یک \n",
    "    main\n",
    "    فایل پیاده سازی نمائید که بتوان آن را در برنامه \n",
    "    import \n",
    "    نمود.\n",
    "</div>\n",
    "    "
   ]
  },
  {
   "cell_type": "code",
   "execution_count": 15,
   "id": "fd4d4c53",
   "metadata": {},
   "outputs": [],
   "source": [
    "   def Median(a,b,c):\n",
    "    \n",
    "    if (a<b and a>c)or(a>b and a<c):\n",
    "        print(\"The number a is the Median\")\n",
    "    elif (b>a and c>b)or(a<b and b<c):\n",
    "         print(\"The number b is the Median\")      \n",
    "    elif (c>a and c<b)or(c>b and a>c):\n",
    "         print(\"The number c is the Median\")"
   ]
  },
  {
   "cell_type": "code",
   "execution_count": 16,
   "id": "ac739051",
   "metadata": {},
   "outputs": [],
   "source": [
    "def main():\n",
    "    \n",
    "    a1=int(input(\"Enter the first number (a): \"))\n",
    "    b1=int(input(\"Enter the second number(b): \"))\n",
    "    c1=int(input(\"Enter the third number (c): \"))\n",
    "    Median(a1,b1,c1)\n",
    "   "
   ]
  },
  {
   "cell_type": "code",
   "execution_count": 17,
   "id": "74ebbe92",
   "metadata": {},
   "outputs": [
    {
     "name": "stdout",
     "output_type": "stream",
     "text": [
      "Enter the first number (a): 3\n",
      "Enter the second number(b): 14\n",
      "Enter the third number (c): 5\n",
      "The number c is the Median\n"
     ]
    }
   ],
   "source": [
    "main()"
   ]
  },
  {
   "cell_type": "markdown",
   "id": "53e92f2f",
   "metadata": {},
   "source": [
    "# Excersize \n",
    "<br>\n",
    "<div style=\"direction:rtl; color:blue; font-size:150%;\">\n",
    "برنامه ای بنویسید که یک متن رشته ای از کاربر دریافت نموده و آن را درست در وسط ترمینال خروجی چاپ نماید. برای این کار تابعی بنویسید که به عنوان پارامتر اول رشته و به عنوان پارامتر دوم عرض ترمینال برجسب کاراکتر را دریافت نماید و خروجی تابع یک رشته است که متن  در وسط ان قرار داده شده است.\n",
    "</div>"
   ]
  },
  {
   "cell_type": "code",
   "execution_count": 80,
   "id": "a23bb7a8",
   "metadata": {},
   "outputs": [
    {
     "name": "stdout",
     "output_type": "stream",
     "text": [
      "enter the str :helo\n"
     ]
    }
   ],
   "source": [
    "a=input(\"enter the str :\")\n",
    "\n"
   ]
  },
  {
   "cell_type": "code",
   "execution_count": 111,
   "id": "682a3dbc",
   "metadata": {},
   "outputs": [
    {
     "name": "stdout",
     "output_type": "stream",
     "text": [
      "                                                888                                                 \n"
     ]
    }
   ],
   "source": [
    "\n",
    "\n",
    "Formatted =str( \"{:^100,d}\")\n",
    "\n",
    "print(Formatted.format(888))\n"
   ]
  },
  {
   "cell_type": "markdown",
   "id": "ccfbfed6",
   "metadata": {},
   "source": [
    "# Excersize \n",
    "<br>\n",
    "<div style=\"direction:rtl; color:blue; font-size:150%;\">\n",
    "برنامه ای بنویسید که طول سه ضلع را از ورودی دریافت کرده و در خروجی نشان دهد آیا با آن سه ضلع می توان یک مثلث رسم نمود یا نه\n",
    "</div>"
   ]
  },
  {
   "cell_type": "code",
   "execution_count": 53,
   "id": "c3d19b02",
   "metadata": {},
   "outputs": [],
   "source": [
    "def myfunc3(a,b,c):\n",
    "\n",
    "    if (a<b+c)and(b<a+c)and(c<a+b):\n",
    "         print('*Yes*You can draw a triangle with these numbers')\n",
    "    else:\n",
    "         print('*No*It is not possible to draw a triangle with these numbers')"
   ]
  },
  {
   "cell_type": "code",
   "execution_count": 20,
   "id": "5079fd9a",
   "metadata": {},
   "outputs": [
    {
     "name": "stdout",
     "output_type": "stream",
     "text": [
      "Enter the first number (a): 2\n",
      "Enter the second number(b): 3\n",
      "Enter the third number (c): 5\n",
      "*No*It is not possible to draw a triangle with these numbers\n"
     ]
    }
   ],
   "source": [
    "a1=float(input(\"Enter the first number (a): \"))\n",
    "b1=float(input(\"Enter the second number(b): \"))\n",
    "c1=float(input(\"Enter the third number (c): \"))\n",
    "myfunc3(a1,b1,c1)"
   ]
  },
  {
   "cell_type": "markdown",
   "id": "7e3b75e7",
   "metadata": {
    "run_control": {
     "marked": true
    }
   },
   "source": [
    "# Excersize \n",
    "<br>\n",
    "<div style=\"direction:rtl; color:blue; font-size:150%;\">\n",
    "برنامه ای بنویسید که یک رشته به زبان انگلیسی را از ورودی دریافت نموده و در خروجی کاراکترهای زیر را به حروف بزرگ\n",
    "Capitalize\n",
    "کرده باشد.\n",
    "</div>\n",
    "<div style=\"direction:rtl; color:blue; font-size:150%;\">\n",
    "    <br>\n",
    "    • Capitalize the first non-space character in the string,\n",
    "    <br>\n",
    "    • Capitalize the first non-space character after a period, exclamationmark or question\n",
    "        mark, and\n",
    "    <br>\n",
    "    • Capitalize a lowercase “i” if it is preceded by a space and followed by a space,\n",
    "        period, exclamation mark, question mark or apostrophe.\n",
    "    <br>\n",
    "    \n",
    "</div>\n",
    "<br>\n"
   ]
  },
  {
   "cell_type": "code",
   "execution_count": 82,
   "id": "24cd6c3a",
   "metadata": {},
   "outputs": [
    {
     "name": "stdout",
     "output_type": "stream",
     "text": [
      "Enter the stringmohamma .lagare. ferozga\n",
      "Mohamma.Lagare.Ferozga."
     ]
    }
   ],
   "source": [
    "\n",
    "    string = input('Enter the string')\n",
    "sentence = string.split('.')\n",
    "for i in sentence:\n",
    "  print(i.strip().capitalize()+'.',end='')"
   ]
  },
  {
   "cell_type": "code",
   "execution_count": 94,
   "id": "977aada1",
   "metadata": {},
   "outputs": [
    {
     "name": "stdout",
     "output_type": "stream",
     "text": [
      "Enter the stringmoh?amm!ad.laga?rfero\n"
     ]
    },
    {
     "ename": "AttributeError",
     "evalue": "'list' object has no attribute 'split'",
     "output_type": "error",
     "traceback": [
      "\u001b[1;31m---------------------------------------------------------------------------\u001b[0m",
      "\u001b[1;31mAttributeError\u001b[0m                            Traceback (most recent call last)",
      "\u001b[1;32m~\\AppData\\Local\\Temp/ipykernel_11460/4152396917.py\u001b[0m in \u001b[0;36m<module>\u001b[1;34m\u001b[0m\n\u001b[0;32m      1\u001b[0m \u001b[0mstring\u001b[0m \u001b[1;33m=\u001b[0m \u001b[0minput\u001b[0m\u001b[1;33m(\u001b[0m\u001b[1;34m'Enter the string'\u001b[0m\u001b[1;33m)\u001b[0m\u001b[1;33m\u001b[0m\u001b[1;33m\u001b[0m\u001b[0m\n\u001b[0;32m      2\u001b[0m \u001b[0msentence\u001b[0m \u001b[1;33m=\u001b[0m \u001b[0mstring\u001b[0m\u001b[1;33m.\u001b[0m\u001b[0msplit\u001b[0m\u001b[1;33m(\u001b[0m\u001b[1;34m'.'\u001b[0m\u001b[1;33m)\u001b[0m\u001b[1;31m#+string.split('?')+string.split('!')\u001b[0m\u001b[1;33m\u001b[0m\u001b[1;33m\u001b[0m\u001b[0m\n\u001b[1;32m----> 3\u001b[1;33m \u001b[0msentence\u001b[0m \u001b[1;33m=\u001b[0m \u001b[0msentence\u001b[0m\u001b[1;33m.\u001b[0m\u001b[0msplit\u001b[0m\u001b[1;33m(\u001b[0m\u001b[1;34m'?'\u001b[0m\u001b[1;33m)\u001b[0m\u001b[1;33m\u001b[0m\u001b[1;33m\u001b[0m\u001b[0m\n\u001b[0m\u001b[0;32m      4\u001b[0m \u001b[1;31m#for i in sentence:\u001b[0m\u001b[1;33m\u001b[0m\u001b[1;33m\u001b[0m\u001b[0m\n\u001b[0;32m      5\u001b[0m  \u001b[1;31m# print(i.strip().capitalize()+'.',end='')\u001b[0m\u001b[1;33m\u001b[0m\u001b[1;33m\u001b[0m\u001b[0m\n",
      "\u001b[1;31mAttributeError\u001b[0m: 'list' object has no attribute 'split'"
     ]
    }
   ],
   "source": [
    "\n",
    "    string = input('Enter the string')\n",
    "sentence = string.split('.')#+string.split('?')+string.split('!')\n",
    "sentence = sentence.split('?')\n",
    "#for i in sentence:\n",
    " # print(i.strip().capitalize()+'.',end='')\n",
    "\n",
    "print('*',sentence)\n",
    "#print(string)\n",
    "#sentence = string.split('?')\n",
    "#for i in sentence:\n",
    "#  print(i.strip().capitalize()+'.',end='')\n"
   ]
  },
  {
   "cell_type": "markdown",
   "id": "54d7083a",
   "metadata": {},
   "source": [
    "# Excersize \n",
    "<br>\n",
    "<div style=\"direction:rtl; color:blue; font-size:150%;\">\n",
    "برنامه ای بنویسید که یک رشته را از ورودی دریافت نموده و بررسی نماید که آیا تمام کاراکترهای موجود در آن مقادیر اینتیجر هستند یا نه؟\n",
    "برای بررسی رشته حتما ابتدا فضای خالی ابتدا و انتهای رشته را حذف نمائید.\n",
    "</div>\n"
   ]
  },
  {
   "cell_type": "code",
   "execution_count": 42,
   "id": "43274cb1",
   "metadata": {},
   "outputs": [
    {
     "name": "stdout",
     "output_type": "stream",
     "text": [
      "enter the str : 989897\n"
     ]
    }
   ],
   "source": [
    "a=int(input(\"enter the str : \"))\n"
   ]
  },
  {
   "cell_type": "markdown",
   "id": "6bf1e98c",
   "metadata": {},
   "source": [
    "# Excersize \n",
    "<br>\n",
    "<div style=\"direction:rtl; color:blue; font-size:150%;\">\n",
    "برنامه ای بنویسید که یک پسورد تصادفی به طول 7 الی 10 کاراکتر تولید کند. پسورد باید براساس کد اسکی حاوی حروف کوچک، حروف بزرگ، اعداد و کاراکترهای زیر باشد\n",
    "{-, _, *, @, #, ~, !, +, *}\n",
    "</div>"
   ]
  },
  {
   "cell_type": "markdown",
   "id": "bdecda6d",
   "metadata": {},
   "source": [
    "# Excersize \n",
    "<br>\n",
    "<div style=\"direction:rtl; color:blue; font-size:150%;\">\n",
    "برنامه ای بنویسید که معتبر بودن یک پسور را براساس قوانین زیر بررسی کند.\n",
    "    1- طول پسورد حداقل 8 کاراکتر باشد\n",
    "    2- پسورد حتما حاوی حروف کوچک، بزرگ، اعداد و کاراکترهای خاص تمرین 8 باشد\n",
    "</div>"
   ]
  },
  {
   "cell_type": "markdown",
   "id": "49fc2c8f",
   "metadata": {},
   "source": [
    "# Excersize \n",
    "<br>\n",
    "<div style=\"direction:rtl; color:blue; font-size:150%;\">\n",
    "ماژولی پیاده سازی نمائید شامل توابع زیر که بتواند کلیه اعمال مربوط به اعتبارسنجی ورودی توسط کاربر را انجام دهد.\n",
    "    1- بررسی کلیه کارکترهای ورودی عددی باشد\n",
    "    2- بررسی کلیه کاراکترهای ورودی حروف الفبا باشد\n",
    "    3- شماره تلفن فرمت درستی داشته باشد\n",
    "    4- شماره موبایل فرمت درستی داشته باشد\n",
    "    5- آدرس ایمیل فرمت درستی داشته باشد\n",
    "    6- پسورد ورودی مطابق قوانین تعریف شده در تمرین های 7و 8 باشد\n",
    "    7- آدرس پستی شامل کاراکتر، عدد و خط تیره باشد\n",
    "    8- کدپستی مطابق استاندارد ده رقمی و حاوی عدد باشد\n",
    "</div>"
   ]
  }
 ],
 "metadata": {
  "kernelspec": {
   "display_name": "Python 3 (ipykernel)",
   "language": "python",
   "name": "python3"
  },
  "language_info": {
   "codemirror_mode": {
    "name": "ipython",
    "version": 3
   },
   "file_extension": ".py",
   "mimetype": "text/x-python",
   "name": "python",
   "nbconvert_exporter": "python",
   "pygments_lexer": "ipython3",
   "version": "3.9.7"
  },
  "toc": {
   "base_numbering": 1,
   "nav_menu": {
    "height": "180px",
    "width": "202px"
   },
   "number_sections": true,
   "sideBar": true,
   "skip_h1_title": false,
   "title_cell": "Table of Contents",
   "title_sidebar": "Contents",
   "toc_cell": false,
   "toc_position": {},
   "toc_section_display": true,
   "toc_window_display": false
  },
  "varInspector": {
   "cols": {
    "lenName": 16,
    "lenType": 16,
    "lenVar": 40
   },
   "kernels_config": {
    "python": {
     "delete_cmd_postfix": "",
     "delete_cmd_prefix": "del ",
     "library": "var_list.py",
     "varRefreshCmd": "print(var_dic_list())"
    },
    "r": {
     "delete_cmd_postfix": ") ",
     "delete_cmd_prefix": "rm(",
     "library": "var_list.r",
     "varRefreshCmd": "cat(var_dic_list()) "
    }
   },
   "types_to_exclude": [
    "module",
    "function",
    "builtin_function_or_method",
    "instance",
    "_Feature"
   ],
   "window_display": false
  }
 },
 "nbformat": 4,
 "nbformat_minor": 5
}
