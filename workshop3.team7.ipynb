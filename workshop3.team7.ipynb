{
 "cells": [
  {
   "cell_type": "markdown",
   "metadata": {},
   "source": [
    "# Excersize \n",
    "<br>\n",
    "<div style=\"direction:rtl; color:blue; font-size:150%;\">\n",
    "تابعی بنویسید که دو ضلع کوتاه تر یک مثلث قائم الزاویه را از ورودی دریافت کرده و اندازه وتر را برگرداند.\n",
    "<br>\n"
   ]
  },
  {
   "cell_type": "code",
   "execution_count": 4,
   "metadata": {},
   "outputs": [
    {
     "name": "stdout",
     "output_type": "stream",
     "text": [
      "Andaze zel e ghaem1 ra benvisid : 3\n",
      "Andaze zel e ghaem2 ra benvisid : 4\n",
      "5.0\n"
     ]
    }
   ],
   "source": [
    "import math\n",
    "def mosalas(b,c):\n",
    "  b = Zele_ghaem1\n",
    "  c = Zele_ghaem2\n",
    "  a = (b**2 + c**2)\n",
    "  print(math.sqrt(a))\n",
    "Zele_ghaem1 = float(input(\"Andaze zel e ghaem1 ra benvisid : \"))\n",
    "Zele_ghaem2 = float(input(\"Andaze zel e ghaem2 ra benvisid : \"))\n",
    "mosalas(Zele_ghaem1,Zele_ghaem2)\n"
   ]
  },
  {
   "cell_type": "markdown",
   "metadata": {},
   "source": [
    "# Excersize \n",
    "<br>\n",
    "<div style=\"direction:rtl; color:blue; font-size:150%;\">\n",
    "نحوه محاسبه کرایه تاکسی براساس مسافت طی شده بر حسب کیلومتر است. به این صورت که مبلغ ورودی و برای 10 کیلومتر اول معادل 4 دلار و به ازای هر کیلومتر اضافی 0.25 دلار به کرایه افزوده می شود. برنامه ای بنویسید که کرایه تاکسی(تاکسی متر) را محاسبه نماید. \n",
    "<br>\n"
   ]
  },
  {
   "cell_type": "code",
   "execution_count": 13,
   "metadata": {},
   "outputs": [
    {
     "name": "stdout",
     "output_type": "stream",
     "text": [
      "Masafat mored nazar ra vared konid : 15\n",
      "5.25$\n"
     ]
    }
   ],
   "source": [
    "def taxi_meter(a):\n",
    "    if a <= 10:\n",
    "        print(\"4$\")\n",
    "    else:\n",
    "       ccc = a - 10\n",
    "       a = 4\n",
    "       bbb = (a+ccc*0.25)\n",
    "       print(f\"{bbb}$\")\n",
    "    \n",
    "masafat = float(input(\"Masafat mored nazar ra vared konid : \"))\n",
    "taxi_meter(masafat)"
   ]
  },
  {
   "cell_type": "markdown",
   "metadata": {
    "run_control": {
     "marked": true
    }
   },
   "source": [
    "# Excersize \n",
    "<br>\n",
    "<div style=\"direction:rtl; color:blue; font-size:150%;\">\n",
    "برنامه ای بنویسید که سه عدد از ورودی را دریافت نموده و مقدار میانه \n",
    "(Median)\n",
    "را به عنوان نتیجه در خروجی بازگرداند.\n",
    "    برنامه را در قالب یک \n",
    "    main\n",
    "    فایل پیاده سازی نمائید که بتوان آن را در برنامه \n",
    "    import \n",
    "    نمود.\n",
    "</div>\n",
    "    "
   ]
  },
  {
   "cell_type": "code",
   "execution_count": 15,
   "metadata": {},
   "outputs": [
    {
     "name": "stdout",
     "output_type": "stream",
     "text": [
      "Adad vared konid : 514561231\n",
      "Adad vared konid : 4872\n",
      "Adad vared konid : 487894\n",
      "Median mosavi ast ba = 487894\n"
     ]
    }
   ],
   "source": [
    "def median(fname):\n",
    "    listma.sort()\n",
    "    aaa,bbb,ccc = listma\n",
    "    print(f\"Median mosavi ast ba = {bbb}\")\n",
    "for i in range(1):\n",
    "    a = int(input(\"Adad vared konid : \"))\n",
    "    b = int(input(\"Adad vared konid : \"))\n",
    "    c = int(input(\"Adad vared konid : \"))\n",
    "    listma=[a,b,c]\n",
    "\n",
    "median(listma)"
   ]
  },
  {
   "cell_type": "markdown",
   "metadata": {},
   "source": [
    "# Excersize \n",
    "<br>\n",
    "<div style=\"direction:rtl; color:blue; font-size:150%;\">\n",
    "برنامه ای بنویسید که یک متن رشته ای از کاربر دریافت نموده و آن را درست در وسط ترمینال خروجی چاپ نماید. برای این کار تابعی بنویسید که به عنوان پارامتر اول رشته و به عنوان پارامتر دوم عرض ترمینال برجسب کاراکتر را دریافت نماید و خروجی تابع یک رشته است که متن  در وسط ان قرار داده شده است.\n",
    "</div>"
   ]
  },
  {
   "cell_type": "code",
   "execution_count": 16,
   "metadata": {},
   "outputs": [
    {
     "name": "stdout",
     "output_type": "stream",
     "text": [
      "Ye matni ro inja benvis lotfan : Shhhriyr\n",
      "\t\t\t\t\t\t\t\tShhhriyr\n"
     ]
    }
   ],
   "source": [
    "def tabeye(Reshte,Arze_terminal):\n",
    "    fasele=\"\\t\"\n",
    "    print(fasele*Arze_terminal+Reshte)\n",
    "\n",
    "matn = input(\"Ye matni ro inja benvis lotfan : \")\n",
    "toole_matn = int(len(matn))\n",
    "tabeye(matn,toole_matn)"
   ]
  },
  {
   "cell_type": "markdown",
   "metadata": {},
   "source": [
    "# Excersize \n",
    "<br>\n",
    "<div style=\"direction:rtl; color:blue; font-size:150%;\">\n",
    "برنامه ای بنویسید که طول سه ضلع را از ورودی دریافت کرده و در خروجی نشان دهد آیا با آن سه ضلع می توان یک مثلث رسم نمود یا نه\n",
    "</div>"
   ]
  },
  {
   "cell_type": "code",
   "execution_count": 17,
   "metadata": {},
   "outputs": [
    {
     "name": "stdout",
     "output_type": "stream",
     "text": [
      "Adad vared konid baraye toole zel : 100\n",
      "Adad vared konid baraye toole zel : 20\n",
      "Adad vared konid baraye toole zel : 30\n",
      "ma mosalase bermoda nadarim\n"
     ]
    }
   ],
   "source": [
    "def mosalase_bermoda(fname):\n",
    "    Angle_bermoda.sort()\n",
    "    aaa,bbb,ccc = Angle_bermoda\n",
    "    if aaa+bbb >= ccc:\n",
    "        print(\"ma mosalase bermoda darim\")\n",
    "    else:\n",
    "        print(\"ma mosalase bermoda nadarim\")\n",
    "for i in range(1):\n",
    "    a = int(input(\"Adad vared konid baraye toole zel : \"))\n",
    "    b = int(input(\"Adad vared konid baraye toole zel : \"))\n",
    "    c = int(input(\"Adad vared konid baraye toole zel : \"))\n",
    "    Angle_bermoda=[a,b,c]\n",
    "\n",
    "mosalase_bermoda(Angle_bermoda)"
   ]
  },
  {
   "cell_type": "markdown",
   "metadata": {
    "run_control": {
     "marked": true
    }
   },
   "source": [
    "# Excersize \n",
    "<br>\n",
    "<div style=\"direction:rtl; color:blue; font-size:150%;\">\n",
    "برنامه ای بنویسید که یک رشته به زبان انگلیسی را از ورودی دریافت نموده و در خروجی کاراکترهای زیر را به حروف بزرگ\n",
    "Capitalize\n",
    "کرده باشد.\n",
    "</div>\n",
    "<div style=\"direction:rtl; color:blue; font-size:150%;\">\n",
    "    <br>\n",
    "    • Capitalize the first non-space character in the string,\n",
    "    <br>\n",
    "    • Capitalize the first non-space character after a period, exclamationmark or question\n",
    "        mark, and\n",
    "    <br>\n",
    "    • Capitalize a lowercase “i” if it is preceded by a space and followed by a space,\n",
    "        period, exclamation mark, question mark or apostrophe.\n",
    "    <br>\n",
    "    \n",
    "</div>\n",
    "<br>\n"
   ]
  },
  {
   "cell_type": "code",
   "execution_count": null,
   "metadata": {},
   "outputs": [],
   "source": [
    "def capitalize(s):\n",
    "    result = s\n",
    "    pos = 0\n",
    "    while pos < len(s) and result[pos] == \"   \":\n",
    "        pos = pos + 1\n",
    "    if pos < len(s):\n",
    "        result = result[0: pos] + result[pos].upper() + result[pos + 1: len(result)]\n",
    "        return result\n",
    "    pos = 0\n",
    "    while pos < len(s):\n",
    "        if result[pos] == \".\" or result[pos] == \"!\" or \\\n",
    "                result[pos] == \"?\":\n",
    "            pos = pos + 1\n",
    "            while pos < len(s) and result[pos] == \" \":\n",
    "                pos = pos + 1\n",
    "            if pos < len(s):\n",
    "                result = result[0: pos] + \\\n",
    "                result[pos].upper() + \\\n",
    "                result[pos + 1: len(result)]\n",
    "        pos = pos + 1\n",
    "\n",
    "    pos = 1\n",
    "    while pos < len(s) - 1:\n",
    "        if result[pos - 1] == \" \" and result[pos] == \"i\" and \\\n",
    "                (result[pos + 1] == \" \" or result[pos + 1] == \".\" or \\\n",
    "                 result[pos + 1] == \"!\" or result[pos + 1] == \"?\" or \\\n",
    "                 result[pos + 1] == \"’\"):\n",
    "            result = result[0: pos] + \"I\" + result[pos + 1: len(result)]\n",
    "        pos = pos + 1\n",
    "    return result\n",
    "def main():\n",
    "    s = input(\"Matn ro vared konid :  \")\n",
    "    capitalized = capitalize(s)\n",
    "    print(\"Capitalize shode =>\", capitalized)\n",
    "main()"
   ]
  },
  {
   "cell_type": "markdown",
   "metadata": {},
   "source": [
    "# Excersize \n",
    "<br>\n",
    "<div style=\"direction:rtl; color:blue; font-size:150%;\">\n",
    "برنامه ای بنویسید که یک رشته را از ورودی دریافت نموده و بررسی نماید که آیا تمام کاراکترهای موجود در آن مقادیر اینتیجر هستند یا نه؟\n",
    "برای بررسی رشته حتما ابتدا فضای خالی ابتدا و انتهای رشته را حذف نمائید.\n",
    "</div>\n"
   ]
  },
  {
   "cell_type": "code",
   "execution_count": null,
   "metadata": {},
   "outputs": [],
   "source": [
    "import re\n",
    "x = input(\"text mored nazar ro vared konid : \")\n",
    "if re.search(\"[a-z]\", x):\n",
    "    print(\"Kheir\")\n",
    "elif re.search(\"[A-Z]\",x):\n",
    "    print(\"Kheir\")\n",
    "else:\n",
    "    print(\"Kamelan integer ast.\")\n"
   ]
  },
  {
   "cell_type": "markdown",
   "metadata": {},
   "source": [
    "# Excersize \n",
    "<br>\n",
    "<div style=\"direction:rtl; color:blue; font-size:150%;\">\n",
    "برنامه ای بنویسید که یک پسورد تصادفی به طول 7 الی 10 کاراکتر تولید کند. پسورد باید براساس کد اسکی حاوی حروف کوچک، حروف بزرگ، اعداد و کاراکترهای زیر باشد\n",
    "{-, _, *, @, #, ~, !, +, *}\n",
    "</div>"
   ]
  },
  {
   "cell_type": "code",
   "execution_count": 47,
   "metadata": {},
   "outputs": [
    {
     "name": "stdout",
     "output_type": "stream",
     "text": [
      "YaUoP,9Qun\n"
     ]
    }
   ],
   "source": [
    "import string\n",
    "import random\n",
    "for f in range(7,11,1):\n",
    "    continue\n",
    "def pass_random():\n",
    "    password = []\n",
    "    random.shuffle(characters)\n",
    "    for i in range(f):\n",
    "        password.append(random.choice(characters))\n",
    "    random.shuffle(password)\n",
    "    print(\"\".join(password))\n",
    "characters = list(string.ascii_letters + string.digits + \"-,_,*,@,#,~,!,+,\")\n",
    "pass_random()"
   ]
  },
  {
   "cell_type": "markdown",
   "metadata": {},
   "source": [
    "# Excersize \n",
    "<br>\n",
    "<div style=\"direction:rtl; color:blue; font-size:150%;\">\n",
    "برنامه ای بنویسید که معتبر بودن یک پسور را براساس قوانین زیر بررسی کند.\n",
    "    1- طول پسورد حداقل 8 کاراکتر باشد\n",
    "    2- پسورد حتما حاوی حروف کوچک، بزرگ، اعداد و کاراکترهای خاص تمرین 8 باشد\n",
    "</div>"
   ]
  },
  {
   "cell_type": "code",
   "execution_count": 43,
   "metadata": {},
   "outputs": [
    {
     "name": "stdout",
     "output_type": "stream",
     "text": [
      "Enter Your Password : 8974654tfyg\n",
      "Not a Valid Password\n"
     ]
    }
   ],
   "source": [
    "import re\n",
    "password = input(\"Enter Your Password : \")\n",
    "flag = 0\n",
    "while True:\n",
    "    if (len(password) <= 8):\n",
    "        flag = 1\n",
    "        break\n",
    "    elif not re.search(\"[a-z]\", password):\n",
    "        flag = 1\n",
    "        break\n",
    "    elif not re.search(\"[A-Z]\", password):\n",
    "        flag = 1\n",
    "        break\n",
    "    elif not re.search(\"[0-9]\", password):\n",
    "        flag = 1\n",
    "        break\n",
    "    elif not re.search(\"[-, _, *, @, #, ~, !, +, *]\", password):\n",
    "        flag = 1\n",
    "        break\n",
    "    elif re.search(\"\\s\", password):\n",
    "        flag = 1\n",
    "        break\n",
    "    else:\n",
    "        flag = 0\n",
    "        print(\"Valid Password\")\n",
    "        break\n",
    "\n",
    "if flag == 1:\n",
    "    print(\"Not a Valid Password\")"
   ]
  },
  {
   "cell_type": "markdown",
   "metadata": {},
   "source": [
    "# Excersize \n",
    "<br>\n",
    "<div style=\"direction:rtl; color:blue; font-size:150%;\">\n",
    "ماژولی پیاده سازی نمائید شامل توابع زیر که بتواند کلیه اعمال مربوط به اعتبارسنجی ورودی توسط کاربر را انجام دهد.\n",
    "    1- بررسی کلیه کارکترهای ورودی عددی باشد\n",
    "    2- بررسی کلیه کاراکترهای ورودی حروف الفبا باشد\n",
    "    3- شماره تلفن فرمت درستی داشته باشد\n",
    "    4- شماره موبایل فرمت درستی داشته باشد\n",
    "    5- آدرس ایمیل فرمت درستی داشته باشد\n",
    "    6- پسورد ورودی مطابق قوانین تعریف شده در تمرین های 7و 8 باشد\n",
    "    7- آدرس پستی شامل کاراکتر، عدد و خط تیره باشد\n",
    "    8- کدپستی مطابق استاندارد ده رقمی و حاوی عدد باشد\n",
    "</div>"
   ]
  },
  {
   "cell_type": "code",
   "execution_count": null,
   "metadata": {},
   "outputs": [],
   "source": [
    "import re\n",
    "global z\n",
    "moshakhasat= {}\n",
    "names = {}\n",
    "tel_numbers = {}\n",
    "phone_number = {}\n",
    "email = {}\n",
    "password = {}\n",
    "address = {}\n",
    "postal_code = {}\n",
    "x=1\n",
    "flag=0\n",
    "z=10\n",
    "def tabe_name(fname):\n",
    "    if re.search(\"[a-z][A-Z]\", fname):\n",
    "        names1 = input(\"Esm Ra dorost vared konid : \")\n",
    "    else:\n",
    "        pass\n",
    "def tabe_tel(fname):\n",
    "    if not re.search(\"[a-z][A-Z]\", fname):\n",
    "        tel_numbers1 = input(\"shomare telephone nabayad daraye character bashad :\")\n",
    "    else:\n",
    "        pass\n",
    "def tabe_pho(fname):\n",
    "    if not re.search(\"[a-z][A-Z]\", fname):\n",
    "        phone_number1 = input(\"shomare telephone nabayad daraye character bashad :\")\n",
    "    else:\n",
    "        pass\n",
    "def tabe_ema(fname):\n",
    "    if re.search(\"[@]\", fname):\n",
    "        pass\n",
    "    else:\n",
    "        email1 = input(\"Address email shoma eshtebah mibashad dobare vared konid :\")\n",
    "def tabe_pass(fname):\n",
    "    while True:\n",
    "        if (len(password) <= 8):\n",
    "            flag = 1\n",
    "            break\n",
    "        elif not re.search(\"[a-z]\", fname):\n",
    "            flag = 1\n",
    "            break\n",
    "        elif not re.search(\"[A-Z]\", fname):\n",
    "            flag = 1\n",
    "            break\n",
    "        elif not re.search(\"[0-9]\", fname):\n",
    "            flag = 1\n",
    "            break\n",
    "        elif not re.search(\"[-, _, *, @, #, ~, !, +, *]\", fname):\n",
    "            flag = 1\n",
    "            break\n",
    "        elif re.search(\"\\s\", fname):\n",
    "            flag = 1\n",
    "            break\n",
    "        else:\n",
    "            flag = 0\n",
    "            print(\"Valid Password\")\n",
    "            break\n",
    "\n",
    "    if flag == 1:\n",
    "        password1 = input(\"dobare Password vared konid **password must include [a-z] [A-Z] [0-9] [characters]**  : \")\n",
    "def tabe_add(fname):\n",
    "    if re.search(\"[-][ ][0-9]\", fname):\n",
    "        pass\n",
    "    else:\n",
    "        address1 = input(\"Address bayad daraye adad - fasele bashad :\")\n",
    "def tabe_postal(fname):\n",
    "    if re.search(\"[0-9]\", fname):\n",
    "        pass\n",
    "    elif 10 == len(fname):\n",
    "        pass\n",
    "    else:\n",
    "        postal_code1 = input(\"code postal bayad 10 raghami bashad :\")\n",
    "while(x == 1):\n",
    "    names1 = input(\"Enter the name : \")\n",
    "    tabe_name(names1)\n",
    "    tel_numbers1 = input(\"Enter your Telephone number : \")\n",
    "    tabe_tel(tel_numbers1)\n",
    "    phone_number1 = input(\"Enter your phone number : \")\n",
    "    tabe_pho(phone_number1)\n",
    "    email1 = input(\"Enter your email address : \")\n",
    "    tabe_ema(email1)\n",
    "    password1 = input(\"Enter your password **password must include [a-z] [A-Z] [0-9] [characters]**  : \")\n",
    "    tabe_pass(password1)\n",
    "    address1 = input(\"Enter Your Home Address :  \")\n",
    "    tabe_add(address1)\n",
    "    postal_code1 = input(\"Enter your Postal_code : \")\n",
    "    tabe_postal(postal_code1)\n",
    "    x = int(input(\"keep on : 1 , cancel the loop : 0 : \"))\n",
    "    names = names1\n",
    "    tel_numbers = tel_numbers1\n",
    "    phone_number = phone_number1\n",
    "    email = email1\n",
    "    password = password1\n",
    "    address = address1\n",
    "    postal_code = postal_code1\n",
    "    moshakhasat[names] = tel_numbers, phone_number, email, password, address, postal_code\n",
    "print(moshakhasat)"
   ]
  }
 ],
 "metadata": {
  "kernelspec": {
   "display_name": "Python 3",
   "language": "python",
   "name": "python3"
  },
  "language_info": {
   "codemirror_mode": {
    "name": "ipython",
    "version": 3
   },
   "file_extension": ".py",
   "mimetype": "text/x-python",
   "name": "python",
   "nbconvert_exporter": "python",
   "pygments_lexer": "ipython3",
   "version": "3.7.6"
  },
  "toc": {
   "base_numbering": 1,
   "nav_menu": {
    "height": "180px",
    "width": "202px"
   },
   "number_sections": true,
   "sideBar": true,
   "skip_h1_title": false,
   "title_cell": "Table of Contents",
   "title_sidebar": "Contents",
   "toc_cell": false,
   "toc_position": {},
   "toc_section_display": true,
   "toc_window_display": false
  },
  "varInspector": {
   "cols": {
    "lenName": 16,
    "lenType": 16,
    "lenVar": 40
   },
   "kernels_config": {
    "python": {
     "delete_cmd_postfix": "",
     "delete_cmd_prefix": "del ",
     "library": "var_list.py",
     "varRefreshCmd": "print(var_dic_list())"
    },
    "r": {
     "delete_cmd_postfix": ") ",
     "delete_cmd_prefix": "rm(",
     "library": "var_list.r",
     "varRefreshCmd": "cat(var_dic_list()) "
    }
   },
   "types_to_exclude": [
    "module",
    "function",
    "builtin_function_or_method",
    "instance",
    "_Feature"
   ],
   "window_display": false
  }
 },
 "nbformat": 4,
 "nbformat_minor": 5
}
