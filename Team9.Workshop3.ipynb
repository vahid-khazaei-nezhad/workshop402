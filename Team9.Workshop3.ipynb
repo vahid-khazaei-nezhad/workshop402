{
 "cells": [
  {
   "cell_type": "markdown",
   "id": "8490ef21",
   "metadata": {},
   "source": [
    "# Excersize \n",
    "<br>\n",
    "<div style=\"direction:rtl; color:blue; font-size:150%;\">\n",
    "تابعی بنویسید که دو ضلع کوتاه تر یک مثلث قائم الزاویه را از ورودی دریافت کرده و اندازه وتر را برگرداند.\n",
    "<br>"
   ]
  },
  {
   "cell_type": "code",
   "execution_count": null,
   "id": "6ce7363e",
   "metadata": {},
   "outputs": [],
   "source": [
    "# Defining a function to calculate the hypotenuse of the right angled triangle by using its two other sides\n",
    "\n",
    "def  hypotenuse(side1,side2):\n",
    "    \n",
    "    from math import sqrt, pow\n",
    "    \n",
    "    return (sqrt(pow(side1 , 2) + pow(side2 , 2)))"
   ]
  },
  {
   "cell_type": "code",
   "execution_count": 12,
   "id": "6a7fc606",
   "metadata": {},
   "outputs": [
    {
     "name": "stdout",
     "output_type": "stream",
     "text": [
      "Enter First side : 3\n",
      "Enter Second side : 4\n"
     ]
    },
    {
     "data": {
      "text/plain": [
       "5.0"
      ]
     },
     "execution_count": 12,
     "metadata": {},
     "output_type": "execute_result"
    }
   ],
   "source": [
    "# Reciving Values\n",
    "side1 = float(input(\"Enter First side : \"))\n",
    "\n",
    "side2 = float(input(\"Enter Second side : \"))\n",
    "\n",
    "# Calling the function\n",
    "\n",
    "hypotenuse(side1,side2)\n",
    "\n"
   ]
  },
  {
   "cell_type": "markdown",
   "id": "5fcdaefc",
   "metadata": {},
   "source": [
    "# Excersize \n",
    "<br>\n",
    "<div style=\"direction:rtl; color:blue; font-size:150%;\">\n",
    "نحوه محاسبه کرایه تاکسی براساس مسافت طی شده بر حسب کیلومتر است. به این صورت که مبلغ ورودی و برای 10 کیلومتر اول معادل 4 دلار و به ازای هر کیلومتر اضافی 0.25 دلار به کرایه افزوده می شود. برنامه ای بنویسید که کرایه تاکسی(تاکسی متر) را محاسبه نماید. \n",
    "<br>\n"
   ]
  },
  {
   "cell_type": "code",
   "execution_count": 32,
   "id": "ec446be2",
   "metadata": {},
   "outputs": [
    {
     "name": "stdout",
     "output_type": "stream",
     "text": [
      " Enter the traveled distance in kilometers: 30\n",
      " The fee is :  9.0 $\n"
     ]
    }
   ],
   "source": [
    "distance = int(input(\" Enter the traveled distance in kilometers: \"))\n",
    "\n",
    "if distance < 10 :\n",
    "    print(\" The fee is : 4$ \")\n",
    "    \n",
    "else:\n",
    "    distance = distance - 10\n",
    "    fee = float(4 + ( distance * 0.25 ))\n",
    "    print(\" The fee is : \", fee , \"$\" )\n",
    "    "
   ]
  },
  {
   "cell_type": "markdown",
   "id": "6ad027dc",
   "metadata": {},
   "source": [
    "# Excersize \n",
    "<br>\n",
    "<div style=\"direction:rtl; color:blue; font-size:150%;\">\n",
    "برنامه ای بنویسید که یک متن رشته ای از کاربر دریافت نموده و آن را درست در وسط ترمینال خروجی چاپ نماید. برای این کار تابعی بنویسید که به عنوان پارامتر اول رشته و به عنوان پارامتر دوم عرض ترمینال برجسب کاراکتر را دریافت نماید و خروجی تابع یک رشته است که متن  در وسط ان قرار داده شده است.\n",
    "</div>"
   ]
  },
  {
   "cell_type": "code",
   "execution_count": 36,
   "id": "18d15a21",
   "metadata": {},
   "outputs": [
    {
     "name": "stdout",
     "output_type": "stream",
     "text": [
      " Type Somthing : Team9\n",
      " Enter the width : 7\n",
      "~~~~ Team9 ~~~~\n"
     ]
    }
   ],
   "source": [
    "# Defining a function where the given string will be put in the middle of given width of a specific terminal :\n",
    "def print_in_middle(string , width):\n",
    "# To make the terminal even on sides, we need to round the given width to an even number afterwards(or we can do it downwards):\n",
    "    if width % 2 == 1:\n",
    "        width = width + 1\n",
    "    x = width / 2\n",
    "    \n",
    "    print(f'{\"~\"}'*int(x), string, f'{\"~\"}'*int(x))\n",
    "\n",
    "given_string = str(input(\" Type Somthing : \"))\n",
    "\n",
    "given_width = int(input(\" Enter the width : \"))\n",
    "\n",
    "print_in_middle(given_string,given_width)"
   ]
  },
  {
   "cell_type": "markdown",
   "id": "7645ad79",
   "metadata": {},
   "source": [
    "# Excersize \n",
    "<br>\n",
    "<div style=\"direction:rtl; color:blue; font-size:150%;\">\n",
    "برنامه ای بنویسید که طول سه ضلع را از ورودی دریافت کرده و در خروجی نشان دهد آیا با آن سه ضلع می توان یک مثلث رسم نمود یا نه\n",
    "</div>"
   ]
  },
  {
   "cell_type": "code",
   "execution_count": null,
   "id": "fb2ce7ca",
   "metadata": {},
   "outputs": [],
   "source": [
    "# Defining a function to check if possible to any triangles with such given side's lengths :\n",
    "def check_triangle_lengths(a,b,c):\n",
    "\n",
    "    if  a <= b + c and b <= a + c and c <= a + b:\n",
    "        print(\"Triangle could be made.\")\n",
    "        \n",
    "    else:\n",
    "        print(\"Triangle couldn\\'t be made\")\n",
    "\n",
    "    break"
   ]
  },
  {
   "cell_type": "code",
   "execution_count": null,
   "id": "72c7f04d",
   "metadata": {},
   "outputs": [
    {
     "name": "stdout",
     "output_type": "stream",
     "text": [
      "Enter the first Length: 3\n",
      "Enter the second Length: 6\n",
      "Enter the third Length: 4\n",
      "Triangle could be made.\n"
     ]
    }
   ],
   "source": [
    "    first_length = float(input(\"Enter the first Length: \"))\n",
    "    \n",
    "    second_length = float(input(\"Enter the second Length: \"))\n",
    "    \n",
    "    third_length = float(input(\"Enter the third Length: \"))\n",
    "    \n",
    "check_triangle_lengths(first_length, second_length, third_length)"
   ]
  },
  {
   "cell_type": "markdown",
   "id": "0d8567af",
   "metadata": {},
   "source": [
    "# Excersize \n",
    "<br>\n",
    "<div style=\"direction:rtl; color:blue; font-size:150%;\">\n",
    "برنامه ای بنویسید که یک رشته را از ورودی دریافت نموده و بررسی نماید که آیا تمام کاراکترهای موجود در آن مقادیر اینتیجر هستند یا نه؟\n",
    "برای بررسی رشته حتما ابتدا فضای خالی ابتدا و انتهای رشته را حذف نمائید.\n",
    "</div>\n"
   ]
  },
  {
   "cell_type": "code",
   "execution_count": 46,
   "id": "69315e1a",
   "metadata": {},
   "outputs": [
    {
     "name": "stdout",
     "output_type": "stream",
     "text": [
      " Type Somethng (to check if its integer only or not) : 12432523s\n",
      "No, {string} is not integer only\n"
     ]
    }
   ],
   "source": [
    "string = input(\" Type Somethng (to check if its integer only or not) : \")\n",
    "    \n",
    "if string.isnumeric():\n",
    "    \n",
    "    print('Yes, {string} is integer only')\n",
    "\n",
    "else:\n",
    "    \n",
    "    print('No, {string} is not integer only')"
   ]
  },
  {
   "cell_type": "markdown",
   "id": "02af2267",
   "metadata": {},
   "source": [
    "# Excersize \n",
    "<br>\n",
    "<div style=\"direction:rtl; color:blue; font-size:150%;\">\n",
    "برنامه ای بنویسید که معتبر بودن یک پسور را براساس قوانین زیر بررسی کند.\n",
    "    1- طول پسورد حداقل 8 کاراکتر باشد\n",
    "    2- پسورد حتما حاوی حروف کوچک، بزرگ، اعداد و کاراکترهای خاص تمرین 8 باشد\n",
    "</div>"
   ]
  },
  {
   "cell_type": "code",
   "execution_count": null,
   "id": "624eff2c",
   "metadata": {},
   "outputs": [],
   "source": [
    "import re\n",
    "password = input(\"Enter Your Password : \")\n",
    "flag = 0\n",
    "while True:\n",
    "    if (len(password) <= 8):\n",
    "        flag = 1\n",
    "        break\n",
    "    elif not re.search(\"[a-z]\", password):\n",
    "        flag = 1\n",
    "        break\n",
    "    elif not re.search(\"[A-Z]\", password):\n",
    "        flag = 1\n",
    "        break\n",
    "    elif not re.search(\"[0-9]\", password):\n",
    "        flag = 1\n",
    "        break\n",
    "    elif not re.search(\"[-, _, *, @, #, ~, !, +, *]\", password):\n",
    "        flag = 1\n",
    "        break\n",
    "    elif re.search(\"\\s\", password):\n",
    "        flag = 1\n",
    "        break\n",
    "    else:\n",
    "        flag = 0\n",
    "        print(\"Valid Password\")\n",
    "        break\n",
    "\n",
    "if flag == 1:\n",
    "    print(\"Not a Valid Password\")"
   ]
  }
 ],
 "metadata": {
  "kernelspec": {
   "display_name": "Python 3 (ipykernel)",
   "language": "python",
   "name": "python3"
  },
  "language_info": {
   "codemirror_mode": {
    "name": "ipython",
    "version": 3
   },
   "file_extension": ".py",
   "mimetype": "text/x-python",
   "name": "python",
   "nbconvert_exporter": "python",
   "pygments_lexer": "ipython3",
   "version": "3.9.7"
  }
 },
 "nbformat": 4,
 "nbformat_minor": 5
}
