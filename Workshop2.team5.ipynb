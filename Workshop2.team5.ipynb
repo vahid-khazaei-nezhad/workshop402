{
 "cells": [
  {
   "cell_type": "markdown",
   "id": "shaped-fitting",
   "metadata": {},
   "source": [
    "<div style=\"direction:ltr; color:blue; font-size:200%; text-align: center; font-weight: bold;\">\n",
    "\n",
    "<head> Workshop 2: Decision Making & Loops </head>\n",
    "    \n",
    "</div>"
   ]
  },
  {
   "cell_type": "markdown",
   "id": "informal-boulder",
   "metadata": {},
   "source": [
    "## \n",
    "<br>\n",
    "<div style=\"direction:rtl; color:blue; font-size:150%;\"> \n",
    "برنامه ای بنویسید که 5 عدد متوالی را از کاربر دریافت نموده و مشخص نماید ورودی کاربر زوج یا فرد است.\n",
    "</div>"
   ]
  },
  {
   "cell_type": "code",
   "execution_count": 21,
   "id": "13c5cc18",
   "metadata": {},
   "outputs": [
    {
     "name": "stdout",
     "output_type": "stream",
     "text": [
      "a is odd\n",
      "b is odd\n",
      "c is odd\n",
      "d is odd\n",
      "e is odd\n"
     ]
    }
   ],
   "source": [
    "a = int(input(\"enter first number : \"))\n",
    "if (a % 2 == 0):\n",
    "  print(\"a is even\")\n",
    "else:\n",
    "  print(\"a is odd\")  \n",
    "\n",
    "b = int(input(\"enter second number :\"))\n",
    "if (a % 2 == 0):\n",
    "  print(\"b is even\")\n",
    "else:\n",
    "  print(\"b is odd\")  \n",
    "\n",
    "c = int(input(\"enter 3th number :\"))\n",
    "if (a % 2 == 0):\n",
    "  print(\"c is even\")\n",
    "else:\n",
    "  print(\"c is odd\")  \n",
    "\n",
    "d = int(input(\"enter 4th  number : \"))\n",
    "if (a % 2 == 0):\n",
    "  print(\"d is even\")\n",
    "else:\n",
    "  print(\"d is odd\")  \n",
    "\n",
    "e = int(input(\"enter 5th number : \"))\n",
    "if (a % 2 == 0):\n",
    "  print(\"e is even\")\n",
    "else:\n",
    "  print(\"e is odd\")  "
   ]
  },
  {
   "cell_type": "markdown",
   "id": "further-tracker",
   "metadata": {},
   "source": [
    "## \n",
    "<br>\n",
    "<div style=\"direction:rtl; color:blue; font-size:150%;\"> \n",
    "برنامه ای بنویسید که از کاربر یک کلمه را دریافت نماید و مشخص کند کدامیک از کاراکترهای آن صدا دار و کدامیک بی صدا هستند. کاراکترهای صدا دار شامل e, a, i, o, u هستند\n",
    "</div>"
   ]
  },
  {
   "cell_type": "code",
   "execution_count": 20,
   "id": "ad294ca8",
   "metadata": {},
   "outputs": [
    {
     "name": "stdout",
     "output_type": "stream",
     "text": [
      "bi seda\n",
      "seda dar\n",
      "bi seda\n",
      "bi seda\n",
      "seda dar\n",
      "seda dar\n"
     ]
    }
   ],
   "source": [
    "\n",
    "for name in input('enter a character: '):\n",
    "    if name in ['e', 'a', 'i', 'o', 'u']:\n",
    "        print('seda dar')\n",
    "    else:\n",
    "        print('bi seda')\n",
    "\n"
   ]
  },
  {
   "cell_type": "markdown",
   "id": "tough-burner",
   "metadata": {},
   "source": [
    "## \n",
    "<br>\n",
    "<div style=\"direction:rtl; color:blue; font-size:150%;\">\n",
    "برنامه ای بنویسید که مطابق جدول زیر شدت زلزه را توصیف نماید\n",
    "</div>\n",
    "\n",
    "<div>\n",
    "<br>\n",
    "<br>\n",
    "<img src=\"richter.png\" alt=\"Richter intensity\" width=\"500\" height=\"600\">\n",
    "</div>"
   ]
  },
  {
   "cell_type": "code",
   "execution_count": 1,
   "id": "d5c2c3ca",
   "metadata": {},
   "outputs": [
    {
     "name": "stdout",
     "output_type": "stream",
     "text": [
      "micro\n"
     ]
    }
   ],
   "source": [
    "a=float(input(\"zlzle chnd rishtr ast?\"))\n",
    "\n",
    "if(a<2.0):\n",
    "    print(\"micro\")\n",
    "    \n",
    "if(2.0<=a<=3.0):\n",
    "    print(\"very minor\")\n",
    "    \n",
    "if(3.0<a<=4.0):\n",
    "    print(\"minor\")\n",
    "    \n",
    "if(4.0<a<=5.0):\n",
    "    print(\"light\")\n",
    "    \n",
    "if(5.0<a<=6.0):\n",
    "    print(\"moderate\")\n",
    "    \n",
    "       \n",
    "if(6.0<a<=7.0):\n",
    "    print(\"strong\")\n",
    "    \n",
    "       \n",
    "if(7.0<a<=8.0):\n",
    "    print(\"major\")\n",
    "    \n",
    "       \n",
    "if(8.0<a<=10.0):\n",
    "    print(\"great\")\n",
    "    \n",
    "           \n",
    "if(a>10.0):\n",
    "    print(\"meteoric\")\n",
    "    \n"
   ]
  },
  {
   "cell_type": "markdown",
   "id": "engaging-edmonton",
   "metadata": {},
   "source": [
    "## \n",
    "<br>\n",
    "<div style=\"direction:rtl; color:blue; font-size:150%;\">\n",
    "برنامه ای بنویسید که از کاربر تعدادی ورودی را دریافت نماید و دریافت ورودی از کاربر را تا زمان ورود کاراکتر e یا E ادامه دهد. سپس میانگین، ماکزیمم و مینیمم ورودی های کاربر را در خروجی نمایش دهد.\n",
    "</div>"
   ]
  },
  {
   "cell_type": "code",
   "execution_count": 18,
   "id": "bfd51adc",
   "metadata": {},
   "outputs": [
    {
     "name": "stdout",
     "output_type": "stream",
     "text": [
      "max is 54\n",
      "min is 4\n",
      "average is 21.666666666666668\n"
     ]
    }
   ],
   "source": [
    "n = (input(\"adad mord nazar ra vared konin\"))\n",
    "min = int(n); max =int (n)\n",
    "sum =int (0);  z=int(0)\n",
    "\n",
    "while n not in [\"e\" , \"E\"]:\n",
    "    if int(n) > max:\n",
    "        max = int(n)\n",
    "    if int(n) < min:\n",
    "        min = int(n)\n",
    "    sum = sum + int(n)\n",
    "    z = z + 1\n",
    "    n = (input('please input a number: '))\n",
    "\n",
    "print('max is', max)\n",
    "print('min is', min)\n",
    "print('average is', sum/z)"
   ]
  },
  {
   "cell_type": "markdown",
   "id": "auburn-celebration",
   "metadata": {},
   "source": [
    "## \n",
    "<br>\n",
    "<div style=\"direction:rtl; color:blue; font-size:150%;\">\n",
    "برنامه ای بنویسید شامل ده سطر و دو ستون، ستون اول دارای هدر سلسیوس و ستون دوم دارای هدر فارنهایت باشد. در هر سطر معادل سلسیوس و فارنهایت ده عدد تصائفی بین 0 تا صد درجه را نمایش دهد.\n",
    "</div>"
   ]
  },
  {
   "cell_type": "code",
   "execution_count": 19,
   "id": "652569f5",
   "metadata": {},
   "outputs": [
    {
     "name": "stdout",
     "output_type": "stream",
     "text": [
      "silisios\tfarenhit\n",
      "100 \t\t 32.0\n",
      "54 \t\t 32.0\n",
      "12 \t\t 32.0\n",
      "3 \t\t 32.0\n",
      "24 \t\t 32.0\n",
      "68 \t\t 32.0\n",
      "56 \t\t 32.0\n",
      "91 \t\t 32.0\n",
      "48 \t\t 32.0\n",
      "76 \t\t 32.0\n"
     ]
    }
   ],
   "source": [
    "from random import randint\n",
    "\n",
    "print (\"silisios\\tfarenhit\")\n",
    "\n",
    "for i in range(10):\n",
    "\n",
    "    s = (randint(0, 100))\n",
    "   \n",
    "    f = ((x*(9/5))+32) \n",
    "    \n",
    "    print(s,\"\\t\\t\",f) "
   ]
  },
  {
   "cell_type": "markdown",
   "id": "intermediate-reality",
   "metadata": {},
   "source": [
    "## \n",
    "<br>\n",
    "<div style=\"direction:rtl; color:blue; font-size:150%;\">\n",
    "برنامه ای بنویسید که کاربر رشته های باینری 9 بیتی را وارد کند و برنامه بررسی کند که آیا رشته باینری وارد شده even parity هست یا نه؟ \n",
    "\n",
    "در رشته های باینری even parity تعداد یک ها باید زوج باشد در اینصورت بیت نهم رشته باینری به گونه ای تنظیم می شود که این زوج بودن تعداد یک ها حفظ شود\n",
    "\n",
    "</div>\n",
    "<div style=\"direction:ltr; color:green; font-size:150%;\">\n",
    "<br>\n",
    "<br>\n",
    "\"111010101\" -> True even parity\n",
    "<br>\n",
    "\"010001111\" -> False\n",
    "<br>\n",
    "\"110000010\" -> False\n",
    "</div>"
   ]
  },
  {
   "cell_type": "code",
   "execution_count": 1,
   "id": "6d82699b",
   "metadata": {},
   "outputs": [
    {
     "name": "stdout",
     "output_type": "stream",
     "text": [
      "reshte vared shode bineri nist\n"
     ]
    }
   ],
   "source": [
    "m = (input(\"reshte tashkil shode az 1 va 0 vares konin(9bit): \"))\n",
    "\n",
    "c = 0\n",
    "\n",
    "for i in range(9):\n",
    "    \n",
    "    if m[i] == \"1\":\n",
    "        c = c + 1\n",
    "\n",
    "if c % 2 == 0:\n",
    "    \n",
    "    print (\"reshte vared shode binerist\")\n",
    "\n",
    "else:\n",
    "    print (\"reshte vared shode bineri nist\")\n",
    "        \n",
    "\n"
   ]
  },
  {
   "cell_type": "markdown",
   "id": "quantitative-bracelet",
   "metadata": {},
   "source": [
    "## \n",
    "<br>\n",
    "<div style=\"direction:rtl; color:blue; font-size:150%;\">\n",
    "  می دانیم که هر عدد هر عدد بزرگتر و مساوی یک را می توان به صورت حاصلضرب اعداد اول نوشت. برنامه ای بنویسید که از ورودی یک عدد صحیح بزگتر از یک را دریافت کرده و آن را به اعداد اول تجزیه کند\n",
    "\n",
    "</div>\n"
   ]
  },
  {
   "cell_type": "code",
   "execution_count": 9,
   "id": "ee3f7cd4",
   "metadata": {},
   "outputs": [
    {
     "name": "stdout",
     "output_type": "stream",
     "text": [
      "2\n",
      "2\n",
      "2\n"
     ]
    }
   ],
   "source": [
    "\n",
    "n = int(input('adad mord nazar ra vared konin: '))\n",
    "\n",
    "i = 2\n",
    "\n",
    "while n != 1:\n",
    "    x = n % i\n",
    "    if x == 0:\n",
    "        n /= i\n",
    "        print(i)\n",
    "    else:\n",
    "        i += 1"
   ]
  },
  {
   "cell_type": "markdown",
   "id": "sapphire-update",
   "metadata": {},
   "source": [
    "## \n",
    "<br>\n",
    "<div style=\"direction:rtl; color:blue; font-size:150%;\">\n",
    "برنامه ای بنویسید که پرتاب یک سکه را شبیه سازی کند. برای پرتاب سکه از کاربر تعداد دفعات پرتاب پرسیده می شود و سپس رشته ای به طول خواسته شده با ترکیب حروف H, T تولید می شود. حرف H نشان گر Head و T نشانگر Tail است   \n",
    "</div>\n"
   ]
  },
  {
   "cell_type": "code",
   "execution_count": 8,
   "id": "8da81a89",
   "metadata": {},
   "outputs": [
    {
     "name": "stdout",
     "output_type": "stream",
     "text": [
      "HHHTTTT\n"
     ]
    }
   ],
   "source": [
    "import random\n",
    "a = str(\"\")\n",
    "Head = str(\"H\")\n",
    "Tail = str(\"T\")\n",
    "n = int((input(\"che tedad seke partab shavad?\")))\n",
    "while n > 0:\n",
    "    seke = (random.randint(0, 2))\n",
    "    if seke == 0:\n",
    "        a = a + Head\n",
    "    else:\n",
    "        a = a + Tail\n",
    "    n = n - 1\n",
    "        \n",
    "print(a)"
   ]
  },
  {
   "cell_type": "markdown",
   "id": "analyzed-rover",
   "metadata": {},
   "source": [
    "## \n",
    "<br>\n",
    "<div style=\"direction:rtl; color:blue; font-size:150%;\">\n",
    "برنامه ای بنویسید که از کاربر یک رشته را دریافت نموده و بگوید رشته ی ورودی پالیندروم هست یا خیر\n",
    "رشته پالیندروم رشته ای است که اگر کاراکترهای آن از چب به راست و یا راست به چپ خوانده شود رشته ای یکسان بدست بیاید\n",
    "</div>"
   ]
  },
  {
   "cell_type": "code",
   "execution_count": 38,
   "id": "31eb4b9f",
   "metadata": {},
   "outputs": [
    {
     "name": "stdout",
     "output_type": "stream",
     "text": [
      "This is Not a Palindrome String\n"
     ]
    }
   ],
   "source": [
    "string = input(\"Please enter your own String : \")\n",
    "\n",
    "if(string == string[:: - 1]):\n",
    "   print(\"This is a Palindrome String\")\n",
    "else:\n",
    "   print(\"This is Not a Palindrome String\")"
   ]
  },
  {
   "cell_type": "markdown",
   "id": "associate-jones",
   "metadata": {},
   "source": [
    "## \n",
    "<br>\n",
    "<div style=\"direction:rtl; color:blue; font-size:150%;\">\n",
    "شبه کد زیر را به کمک زبان پایتون پیاده سازی نمائید.\n",
    "در این روش شرط خاتمه حلقه را برابر abs(guess * guess - x) < 0.001 \n",
    "</div>\n",
    "<br>\n",
    "<div style=\"direction:ltr; color:green; font-size:150%;\">\n",
    "Read x from the user <br>\n",
    "Initialize guess to x/2 <br>\n",
    "While guess is not good enough do <br>\n",
    "Update guess to be the average of guess and x/guess\n",
    "</div>"
   ]
  },
  {
   "cell_type": "code",
   "execution_count": 2,
   "id": "documentary-reproduction",
   "metadata": {},
   "outputs": [
    {
     "name": "stdout",
     "output_type": "stream",
     "text": [
      "updated guess is  7.211102725835203\n"
     ]
    }
   ],
   "source": [
    "x = float(input(\"adad x ra hads bezanin :  \"))\n",
    "s = float(x/2)\n",
    "while abs(s * s - x) >= 0.001:\n",
    "   s = float((s + x/s)/2)\n",
    "\n",
    "print('updated guess is ', s)\n"
   ]
  }
 ],
 "metadata": {
  "kernelspec": {
   "display_name": "Python 3",
   "language": "python",
   "name": "python3"
  },
  "language_info": {
   "codemirror_mode": {
    "name": "ipython",
    "version": 3
   },
   "file_extension": ".py",
   "mimetype": "text/x-python",
   "name": "python",
   "nbconvert_exporter": "python",
   "pygments_lexer": "ipython3",
   "version": "3.10.2"
  },
  "toc": {
   "base_numbering": 1,
   "nav_menu": {},
   "number_sections": true,
   "sideBar": true,
   "skip_h1_title": false,
   "title_cell": "Table of Contents",
   "title_sidebar": "Contents",
   "toc_cell": false,
   "toc_position": {},
   "toc_section_display": true,
   "toc_window_display": false
  },
  "varInspector": {
   "cols": {
    "lenName": 16,
    "lenType": 16,
    "lenVar": 40
   },
   "kernels_config": {
    "python": {
     "delete_cmd_postfix": "",
     "delete_cmd_prefix": "del ",
     "library": "var_list.py",
     "varRefreshCmd": "print(var_dic_list())"
    },
    "r": {
     "delete_cmd_postfix": ") ",
     "delete_cmd_prefix": "rm(",
     "library": "var_list.r",
     "varRefreshCmd": "cat(var_dic_list()) "
    }
   },
   "types_to_exclude": [
    "module",
    "function",
    "builtin_function_or_method",
    "instance",
    "_Feature"
   ],
   "window_display": false
  }
 },
 "nbformat": 4,
 "nbformat_minor": 5
}
