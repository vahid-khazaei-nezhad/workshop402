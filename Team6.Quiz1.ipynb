{
 "cells": [
  {
   "cell_type": "markdown",
   "id": "ceb1dca7",
   "metadata": {},
   "source": [
    "# 1- برنامه ای بنویسید که یک رشته از کاربر دریافت نموده و آن را به کد مورس تبدیل نماید. جدول تبدیل کد مورس در زیر آمده است"
   ]
  },
  {
   "cell_type": "code",
   "execution_count": 5,
   "id": "5272f8fe",
   "metadata": {},
   "outputs": [
    {
     "data": {
      "text/plain": [
       "'.... . .-.. .-.. --- _ .-- --- .-. .-.. -.. '"
      ]
     },
     "execution_count": 5,
     "metadata": {},
     "output_type": "execute_result"
    }
   ],
   "source": [
    "dict_morse = {' ': '_', '0': '-----', '1': '.----', '2': '..---', '3': '...--', '4': '....-', '5': '.....', '6': '-....', \n",
    "'7': '--...', '8': '---..', '9': '----.', ':': '---...', ';': '-.-.-.', '?': '..--..', 'A': '.-', 'B': '-...', 'C': '-.-.', \n",
    "'D': '-..', 'E': '.', 'F': '..-.', 'G': '--.', 'H': '....', 'I': '..', 'J': '.---', 'K': '-.-', 'L': '.-..', 'M': '--', \n",
    "'N': '-.', 'O': '---', 'P': '.--.', 'Q': '--.-', 'R': '.-.', 'S': '...', 'T': '-', 'U': '..-', 'V': '...-', 'W': '.--', \n",
    "'X': '-..-', 'Y': '-.--', 'Z': '--..'}\n",
    " \n",
    "def morse_converter(user_string):\n",
    "    '''\n",
    "    \n",
    "    this is a function to convert a sentence to morse code\n",
    "    \n",
    "    parametrs:\n",
    "    \n",
    "            - user_string: The sentence that user inputs\n",
    "            \n",
    "    Returns:\n",
    "    \n",
    "            - morse_sentence: The sentence converted to morse code\n",
    "           \n",
    "    '''\n",
    "    user_string = user_string.upper()\n",
    "    morse_sentence = \"\"\n",
    "    for character in user_string:\n",
    "        morse_sentence = morse_sentence + dict_morse[character] + \" \" \n",
    "    return morse_sentence\n",
    "\n",
    "morse_converter(\"Hello World\")"
   ]
  },
  {
   "cell_type": "markdown",
   "id": "ae76b454",
   "metadata": {},
   "source": [
    "# - برنامه ای بنویسید که یک مقدار عددی بین 0 تا 999  را از ورودی دریافت نموده و معادل حرفی آن را بنویسید. به عنوان مثال 123 به عنوان ورودی و خروجی یکصد و بیست و سه\n"
   ]
  },
  {
   "cell_type": "code",
   "execution_count": 6,
   "id": "74bd85a2",
   "metadata": {},
   "outputs": [
    {
     "data": {
      "text/plain": [
       "'chaharsad v haftad v haft'"
      ]
     },
     "execution_count": 6,
     "metadata": {},
     "output_type": "execute_result"
    }
   ],
   "source": [
    "Dict_num = {0 : 'sefr', 1 : 'yek', 2 : 'do', 3 : 'se', 4 : 'chahar', 5 : 'panj',\n",
    "          6 : 'shesh', 7 : 'haft', 8 : 'hasht', 9 : 'noh', 10 : 'dah',\n",
    "          11 : 'yazdah', 12 : 'davazdah', 13 : 'sizdah', 14 : 'chahardah',\n",
    "          15 : 'panzdah', 16 : 'shanzdah', 17 : 'hefdah', 18 : 'hejdah',\n",
    "          19 : 'nuzdah', 20 : 'bist',\n",
    "          30 : 'si', 40 : 'chehel', 50 : 'panjah', 60 : 'shast',\n",
    "          70 : 'haftad', 80 : 'hashtad', 90 : 'navad', 100: 'yeksad', 200: 'devist', 300: 'sisad', 400: 'chaharsad', 500: 'pansad',\n",
    "           600: 'sheshsad', 700: 'haftsad', 800: 'hashtsad', 900:'nohsad'}\n",
    "\n",
    "def number_to_words(num):\n",
    "    '''\n",
    "    \n",
    "    this is a function to convert a number to words\n",
    "    \n",
    "    parametrs:\n",
    "    \n",
    "            - num: The number that user inputs\n",
    "            \n",
    "    Returns:\n",
    "    \n",
    "            - returns the number in words\n",
    "           \n",
    "    '''\n",
    "    \n",
    "    if (num <= 20):\n",
    "        \n",
    "        return Dict_num[num]\n",
    "\n",
    "    if (num <= 100):\n",
    "        \n",
    "        if num % 10 == 0: \n",
    "            \n",
    "            return Dict_num[num]\n",
    "        \n",
    "        else: \n",
    "            \n",
    "            return Dict_num[(num // 10) * 10] + ' v ' + Dict_num[num % 10]\n",
    "\n",
    "    if (num < 1000):\n",
    "        \n",
    "        if num % 100 == 0:\n",
    "            \n",
    "            return Dict_num[num]\n",
    "        \n",
    "        else: \n",
    "            \n",
    "            return Dict_num[(num // 100)*100] + ' v ' + number_to_words(num % 100)\n",
    "        \n",
    "        \n",
    "number_to_words(477)"
   ]
  },
  {
   "cell_type": "markdown",
   "id": "d994d7c9",
   "metadata": {},
   "source": [
    "# - برنامه ای بنویسید که دو یا چند رشته را از ورودی دریافت کرده و در خروجی نمایش دهد که آیا تمامی حروف بکار رفته در آن ها یکسان است یا خیر(same contain but different order). به عنوان مثال زیبا و بازی "
   ]
  },
  {
   "cell_type": "code",
   "execution_count": 27,
   "id": "f9410e23",
   "metadata": {},
   "outputs": [
    {
     "name": "stdout",
     "output_type": "stream",
     "text": [
      "How many strings? 3\n",
      "Enter your string  : loki\n",
      "Enter your string  : loka\n",
      "Enter your string  : liko\n",
      "string 0 contains same letters as string 2\n"
     ]
    }
   ],
   "source": [
    "def string_num(x):\n",
    "    \n",
    "    '''\n",
    "    this is a function to read the values that user inputs and list them\n",
    "    \n",
    "    parametrs:\n",
    "    \n",
    "            - x: The string that user inputs\n",
    "            \n",
    "    Returns:\n",
    "    \n",
    "            -(string_list): the listed version of the string\n",
    "    \n",
    "    '''\n",
    "    \n",
    "    y = [i for i in range(x)]\n",
    "\n",
    "    y\n",
    "\n",
    "    string_list = []\n",
    "\n",
    "    for i in range(x):\n",
    "    \n",
    "        string_list.append((input(\"Enter your string  : \")))\n",
    "    \n",
    "    return(string_list)\n",
    "\n",
    "\n",
    "\n",
    "def same_contain(user_string):\n",
    "    \n",
    "    '''\n",
    "    this is a function to find the parametrs that has the same characters\n",
    "    \n",
    "    parametrs:\n",
    "    \n",
    "            - user_string: the listed version of a string that user inputs\n",
    "            \n",
    "    '''\n",
    "    \n",
    "    length = len(user_string)\n",
    "    \n",
    "    for i in range(length):\n",
    "        \n",
    "        user_string[i] = sorted(list(user_string[i]))\n",
    "    \n",
    "        for i in range(length):\n",
    "            \n",
    "            for j in range(1,length):\n",
    "                \n",
    "                if i == j:\n",
    "                    \n",
    "                    break\n",
    "        \n",
    "                if user_string[i] == user_string[j]:\n",
    "               \n",
    "                    print('string', i , 'contains same letters as string', j)\n",
    "\n",
    "x = int(input(\"How many strings? \"))\n",
    "\n",
    "num = string_num(x)\n",
    "\n",
    "same_contain(num)"
   ]
  },
  {
   "cell_type": "markdown",
   "id": "fdc4d042",
   "metadata": {},
   "source": [
    "# - در گوشی های قدیمی(غیر هوشمند) برای ارسال پیام فرد می بایست برای تایپ کاراکتر مورد نظرش از جدول زیر استفاده نماید و به ازای تکرار فشردن یک عدد کاراکترهای متفاوت تایپ می شد. برنامه بنویسید که یک متن از کاربر دریافت نموده و براساس جدول زیر بگوید که برای هر کدام از کاراکترهای آن چه کلیدی و چند بار باید فشرده شود."
   ]
  },
  {
   "cell_type": "code",
   "execution_count": 7,
   "id": "971ae8a2",
   "metadata": {},
   "outputs": [
    {
     "name": "stdout",
     "output_type": "stream",
     "text": [
      "Please enter the character: K\n",
      "press 5, 2 time(s).\n"
     ]
    }
   ],
   "source": [
    "chars = [[\" \"] , [\".\" ,\",\" ,\"?\" ,\"!\",\":\"],[\"A\",\"B\",\"C\"],[\"D\",\"E\",\"F\"],[\"G\",\"H\",\"I\"],[\"J\",\"K\",\"L\"],[\"M\",\"N\",\"O\"],\n",
    "[\"P\",\"Q\",\"R\",\"S\"],[\"T\",\"U\", \"V\"],[\"W\",\"X\",\"Y\",\"Z\"]]\n",
    "\n",
    "userinput = input(\"Please enter the character: \")\n",
    "\n",
    "for i in range(len(chars)):\n",
    "    \n",
    "    if userinput in chars[i]:\n",
    "        \n",
    "        for x in range (0 , len(chars[i])):\n",
    "            if userinput in chars[i][x]:\n",
    "                print(f\"press {i}, {x+1} time(s).\")"
   ]
  },
  {
   "cell_type": "markdown",
   "id": "11b21a26",
   "metadata": {},
   "source": [
    "# - برنامه ای بنویسید که از کاربر یک عدد دریافت کند اگر عدد ورودی اول بود عدد اول بعدی را در خروجی نمایش دهد. در غیر این صورت مجدد درخواست ورودی از کاربر کند."
   ]
  },
  {
   "cell_type": "code",
   "execution_count": 1,
   "id": "4f3130f9",
   "metadata": {},
   "outputs": [
    {
     "name": "stdout",
     "output_type": "stream",
     "text": [
      "Enter a prime number: 4\n",
      "it is not prime, enter a prime number: 2\n",
      "3\n"
     ]
    }
   ],
   "source": [
    "import math\n",
    "\n",
    "def is_prime(num):\n",
    "    \n",
    "    '''\n",
    "    this is a function to find prime values\n",
    "    \n",
    "    parametrs:\n",
    "    \n",
    "            - num: The number that user inputs\n",
    "            \n",
    "    Returns:\n",
    "    \n",
    "            -returns true or false\n",
    "    '''\n",
    "     \n",
    "    if(num <= 1):\n",
    "        \n",
    "        return False\n",
    "    \n",
    "    if(num <= 3):\n",
    "        \n",
    "        return True\n",
    "     \n",
    "    if(num % 2 == 0 or num % 3 == 0):\n",
    "        \n",
    "        return False\n",
    "     \n",
    "    for i in range(5,int(math.sqrt(num) + 1)):\n",
    "        \n",
    "        if(num % i == 0 or num % (i + 2) == 0):\n",
    "            \n",
    "            return False\n",
    "     \n",
    "    return True\n",
    " \n",
    "\n",
    "def next_prime(number):\n",
    "    \n",
    "    '''\n",
    "    this is a function to find the next prime number of a given number\n",
    "    \n",
    "    parametrs:\n",
    "    \n",
    "            - number: The number that user inputs\n",
    "    '''\n",
    " \n",
    "    if (number <= 1):\n",
    "        \n",
    "        return 2\n",
    " \n",
    "    prime = number\n",
    "    \n",
    "    found = False\n",
    " \n",
    "    while(not found):\n",
    "        \n",
    "        prime = prime + 1\n",
    " \n",
    "        if(is_prime(prime) == True):\n",
    "        \n",
    "            found = True\n",
    " \n",
    "    print(prime) \n",
    "\n",
    "\n",
    "\n",
    "\n",
    "\n",
    "number = int(input(\"Enter a prime number: \"))\n",
    "\n",
    "\n",
    "if is_prime(number) == False:\n",
    "    \n",
    "    while is_prime(number) == False:\n",
    "        \n",
    "        number = int(input( \"it is not prime, enter a prime number: \"))\n",
    "\n",
    "        if is_prime(number) == True:\n",
    "            break\n",
    "            \n",
    "next_prime(number)"
   ]
  },
  {
   "cell_type": "code",
   "execution_count": null,
   "id": "55e87412",
   "metadata": {},
   "outputs": [],
   "source": []
  }
 ],
 "metadata": {
  "kernelspec": {
   "display_name": "Python 3 (ipykernel)",
   "language": "python",
   "name": "python3"
  },
  "language_info": {
   "codemirror_mode": {
    "name": "ipython",
    "version": 3
   },
   "file_extension": ".py",
   "mimetype": "text/x-python",
   "name": "python",
   "nbconvert_exporter": "python",
   "pygments_lexer": "ipython3",
   "version": "3.9.7"
  }
 },
 "nbformat": 4,
 "nbformat_minor": 5
}
