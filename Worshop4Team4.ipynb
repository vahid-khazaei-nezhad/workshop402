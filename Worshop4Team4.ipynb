{
 "cells": [
  {
   "cell_type": "code",
   "execution_count": 9,
   "metadata": {},
   "outputs": [
    {
     "name": "stdout",
     "output_type": "stream",
     "text": [
      "Duplicate words in a given string: \n",
      "twice\n"
     ]
    }
   ],
   "source": [
    "#tmrin 1\n",
    "\n",
    "user_input = input(\"Enter the text: \")\n",
    "user_input = user_input.lower()\n",
    "user_input = user_input.split(\" \")\n",
    "\n",
    "print(\"Duplicate words in a given string: \")\n",
    "for i in range(0, len(user_input)):\n",
    "    count = 1\n",
    "    for j in range(i+1, len(user_input)):\n",
    "        if(user_input[i] == (user_input[j])):\n",
    "            count = count + 1\n",
    "            user_input[j] = \"0\"\n",
    "\n",
    "    if(count > 1 and user_input [i] != \"0\"):\n",
    "        print(user_input[i])        "
   ]
  },
  {
   "cell_type": "code",
   "execution_count": 5,
   "metadata": {},
   "outputs": [
    {
     "data": {
      "text/plain": [
       "['hi', '!', 'how', ',', 'you', 'doing', '?', '.']"
      ]
     },
     "execution_count": 5,
     "metadata": {},
     "output_type": "execute_result"
    }
   ],
   "source": [
    "#tmrin 2\n",
    "\n",
    "import nltk\n",
    "user_input = input(\"Enter a text with punctuation marks: \")\n",
    "nltk.word_tokenize(user_input)"
   ]
  },
  {
   "cell_type": "code",
   "execution_count": null,
   "metadata": {},
   "outputs": [],
   "source": [
    "#tmrin 3\n",
    "\n",
    "import statistics\n",
    "user_input = input(\"Enter the numbers you have in mind: \")\n",
    "user_list = user_input.split()\n",
    "print(\"list: \", user_list)\n",
    "\n",
    "for i in range(len(user_list)):\n",
    "    user_list[i] = int(user_list[i])\n",
    "\n",
    "a = print(\"Average is: \", sum(user_list)/len(user_list))\n",
    "b = print(\"Variance of the numbers is: \", statistics.variance(user_list))"
   ]
  }
 ],
 "metadata": {
  "interpreter": {
   "hash": "592ee19e34ae6e2a895dc0660bf5db76e185414fa14fd313d40e8a4962ae111b"
  },
  "kernelspec": {
   "display_name": "Python 3.10.4 64-bit",
   "language": "python",
   "name": "python3"
  },
  "language_info": {
   "codemirror_mode": {
    "name": "ipython",
    "version": 3
   },
   "file_extension": ".py",
   "mimetype": "text/x-python",
   "name": "python",
   "nbconvert_exporter": "python",
   "pygments_lexer": "ipython3",
   "version": "3.10.4"
  },
  "orig_nbformat": 4
 },
 "nbformat": 4,
 "nbformat_minor": 2
}
