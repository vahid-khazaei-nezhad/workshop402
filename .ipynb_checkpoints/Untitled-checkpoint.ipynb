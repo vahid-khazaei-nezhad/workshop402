{
 "cells": [
  {
   "cell_type": "markdown",
   "id": "5e6378d0",
   "metadata": {},
   "source": [
    " 1)"
   ]
  },
  {
   "cell_type": "code",
   "execution_count": 9,
   "id": "c6830ad0",
   "metadata": {},
   "outputs": [
    {
     "name": "stdout",
     "output_type": "stream",
     "text": [
      "enter text : yttttdfd\n"
     ]
    },
    {
     "ename": "TypeError",
     "evalue": "'int' object is not iterable",
     "output_type": "error",
     "traceback": [
      "\u001b[1;31m---------------------------------------------------------------------------\u001b[0m",
      "\u001b[1;31mTypeError\u001b[0m                                 Traceback (most recent call last)",
      "\u001b[1;32m~\\AppData\\Local\\Temp/ipykernel_248/1540054304.py\u001b[0m in \u001b[0;36m<module>\u001b[1;34m\u001b[0m\n\u001b[0;32m      2\u001b[0m \u001b[0mc\u001b[0m\u001b[1;33m=\u001b[0m\u001b[1;36m0\u001b[0m\u001b[1;33m\u001b[0m\u001b[1;33m\u001b[0m\u001b[0m\n\u001b[0;32m      3\u001b[0m \u001b[0md\u001b[0m\u001b[1;33m=\u001b[0m\u001b[0mlen\u001b[0m\u001b[1;33m(\u001b[0m\u001b[0ma\u001b[0m\u001b[1;33m)\u001b[0m\u001b[1;33m\u001b[0m\u001b[1;33m\u001b[0m\u001b[0m\n\u001b[1;32m----> 4\u001b[1;33m \u001b[1;32mfor\u001b[0m \u001b[0mi\u001b[0m \u001b[1;32min\u001b[0m \u001b[0md\u001b[0m\u001b[1;33m:\u001b[0m\u001b[1;33m\u001b[0m\u001b[1;33m\u001b[0m\u001b[0m\n\u001b[0m\u001b[0;32m      5\u001b[0m     \u001b[0mb\u001b[0m\u001b[1;33m=\u001b[0m\u001b[0ma\u001b[0m\u001b[1;33m[\u001b[0m\u001b[0mi\u001b[0m\u001b[1;33m]\u001b[0m\u001b[1;33m\u001b[0m\u001b[1;33m\u001b[0m\u001b[0m\n\u001b[0;32m      6\u001b[0m     \u001b[1;32mfor\u001b[0m \u001b[0mj\u001b[0m \u001b[1;32min\u001b[0m \u001b[0md\u001b[0m\u001b[1;33m:\u001b[0m\u001b[1;33m\u001b[0m\u001b[1;33m\u001b[0m\u001b[0m\n",
      "\u001b[1;31mTypeError\u001b[0m: 'int' object is not iterable"
     ]
    }
   ],
   "source": [
    "a=list(input('enter text : '))\n",
    "c=0\n",
    "d=len(a)\n",
    "for i in d:\n",
    "    b=a[i]\n",
    "    for j in d:\n",
    "        if a[i]==a[j]:\n",
    "            c=c+1\n",
    "        j=j+1\n",
    "        print(a[i],c)\n",
    "    i=i+1"
   ]
  },
  {
   "cell_type": "markdown",
   "id": "5c5934ad",
   "metadata": {},
   "source": [
    "2)"
   ]
  },
  {
   "cell_type": "code",
   "execution_count": 1,
   "id": "9e3efc84",
   "metadata": {},
   "outputs": [
    {
     "name": "stdout",
     "output_type": "stream",
     "text": [
      "enter youre pragraph : ef,ggc?ghh\n"
     ]
    },
    {
     "ename": "TypeError",
     "evalue": "'str' object cannot be interpreted as an integer",
     "output_type": "error",
     "traceback": [
      "\u001b[1;31m---------------------------------------------------------------------------\u001b[0m",
      "\u001b[1;31mTypeError\u001b[0m                                 Traceback (most recent call last)",
      "\u001b[1;32m~\\AppData\\Local\\Temp/ipykernel_6312/1802638540.py\u001b[0m in \u001b[0;36m<module>\u001b[1;34m\u001b[0m\n\u001b[0;32m      1\u001b[0m \u001b[0ma\u001b[0m\u001b[1;33m=\u001b[0m\u001b[0minput\u001b[0m\u001b[1;33m(\u001b[0m\u001b[1;34m'enter youre pragraph : '\u001b[0m\u001b[1;33m)\u001b[0m\u001b[1;33m\u001b[0m\u001b[1;33m\u001b[0m\u001b[0m\n\u001b[1;32m----> 2\u001b[1;33m \u001b[0mprint\u001b[0m\u001b[1;33m(\u001b[0m\u001b[0ma\u001b[0m\u001b[1;33m.\u001b[0m\u001b[0msplit\u001b[0m\u001b[1;33m(\u001b[0m\u001b[1;34m','\u001b[0m\u001b[1;33m,\u001b[0m\u001b[1;34m'?'\u001b[0m\u001b[1;33m)\u001b[0m\u001b[1;33m)\u001b[0m\u001b[1;33m\u001b[0m\u001b[1;33m\u001b[0m\u001b[0m\n\u001b[0m",
      "\u001b[1;31mTypeError\u001b[0m: 'str' object cannot be interpreted as an integer"
     ]
    }
   ],
   "source": [
    "a=input('enter youre pragraph : ')\n",
    "print(a.split(','))"
   ]
  },
  {
   "cell_type": "code",
   "execution_count": 1,
   "id": "c7ebc921",
   "metadata": {},
   "outputs": [
    {
     "name": "stdout",
     "output_type": "stream",
     "text": [
      "enter text : dfg?fgg gj\n",
      "['dfg?fgg', 'gj']\n",
      "['dfg', 'fgg gj']\n",
      "['dfg?fgg', 'gj']\n",
      "['dfg', 'fgg gj']\n",
      "['dfg?fgg', 'gj']\n",
      "['dfg', 'fgg gj']\n",
      "['dfg?fgg', 'gj']\n",
      "['dfg', 'fgg gj']\n",
      "['dfg?fgg', 'gj']\n",
      "['dfg', 'fgg gj']\n",
      "['dfg?fgg', 'gj']\n",
      "['dfg', 'fgg gj']\n",
      "['dfg?fgg', 'gj']\n",
      "['dfg', 'fgg gj']\n",
      "['dfg?fgg', 'gj']\n",
      "['dfg', 'fgg gj']\n",
      "['dfg?fgg', 'gj']\n",
      "['dfg', 'fgg gj']\n",
      "['dfg?fgg', 'gj']\n",
      "['dfg', 'fgg gj']\n"
     ]
    }
   ],
   "source": [
    "a=input('enter text : ')\n",
    "for i in range (len(a)):\n",
    "    print(a.split( ))\n",
    "    print(a.split('?'))"
   ]
  },
  {
   "cell_type": "markdown",
   "id": "19be7a74",
   "metadata": {},
   "source": [
    "3)"
   ]
  },
  {
   "cell_type": "code",
   "execution_count": 10,
   "id": "884776b7",
   "metadata": {},
   "outputs": [
    {
     "name": "stdout",
     "output_type": "stream",
     "text": [
      "enter number and -1 to exit : 10\n",
      "enter number and -1 to exit : 20\n",
      "enter number and -1 to exit : 30\n",
      "enter number and -1 to exit : -1\n",
      "20.0\n"
     ]
    }
   ],
   "source": [
    "\n",
    "a_list = []\n",
    "i=0\n",
    "x=0\n",
    "sum=0\n",
    "while x!=-1:\n",
    "    x=int(input('enter number and -1 to exit : '))\n",
    "    a_list.append(x)\n",
    "    sum=sum+x\n",
    "    i=i+1\n",
    "print((sum+1)/(i-1))\n"
   ]
  },
  {
   "cell_type": "markdown",
   "id": "626d5fd0",
   "metadata": {},
   "source": [
    "5)"
   ]
  },
  {
   "cell_type": "code",
   "execution_count": 6,
   "id": "72b41388",
   "metadata": {},
   "outputs": [
    {
     "name": "stdout",
     "output_type": "stream",
     "text": [
      "[1, 3, 4]\n",
      "[4, 3, 1]\n"
     ]
    }
   ],
   "source": [
    "a = [4,1,3]\n",
    "\n",
    "sorted_a = sorted(a)\n",
    "\n",
    "print(sorted_a)\n",
    "a.sort(reverse= True)\n",
    "print(a)\n"
   ]
  },
  {
   "cell_type": "markdown",
   "id": "0231a9ac",
   "metadata": {},
   "source": [
    "4)"
   ]
  },
  {
   "cell_type": "code",
   "execution_count": null,
   "id": "c7b216d4",
   "metadata": {},
   "outputs": [
    {
     "name": "stdout",
     "output_type": "stream",
     "text": [
      "enter directory and 0 to exit : ydyrt.py\n",
      "py\n"
     ]
    }
   ],
   "source": [
    "a=input('enter directory and 0 to exit : ')\n",
    "\n",
    "while a!='0':\n",
    "    print(a.split('.')[1])\n",
    "    a=input('enter directory and 0 to exit : ')\n"
   ]
  },
  {
   "cell_type": "code",
   "execution_count": null,
   "id": "261a3176",
   "metadata": {},
   "outputs": [],
   "source": []
  }
 ],
 "metadata": {
  "kernelspec": {
   "display_name": "Python 3 (ipykernel)",
   "language": "python",
   "name": "python3"
  },
  "language_info": {
   "codemirror_mode": {
    "name": "ipython",
    "version": 3
   },
   "file_extension": ".py",
   "mimetype": "text/x-python",
   "name": "python",
   "nbconvert_exporter": "python",
   "pygments_lexer": "ipython3",
   "version": "3.9.7"
  }
 },
 "nbformat": 4,
 "nbformat_minor": 5
}
