{
 "cells": [
  {
   "cell_type": "markdown",
   "id": "broad-taxation",
   "metadata": {
    "heading_collapsed": true
   },
   "source": [
    "# Install & run Jupyter notebook"
   ]
  },
  {
   "cell_type": "markdown",
   "id": "million-modification",
   "metadata": {},
   "source": [
    "# Store and manipulate values"
   ]
  },
  {
   "cell_type": "code",
   "execution_count": 3,
   "id": "absolute-turkey",
   "metadata": {
    "run_control": {
     "marked": false
    }
   },
   "outputs": [
    {
     "data": {
      "text/plain": [
       "int"
      ]
     },
     "execution_count": 3,
     "metadata": {},
     "output_type": "execute_result"
    }
   ],
   "source": [
    "a = 0\n",
    "\n",
    "type(a)"
   ]
  },
  {
   "cell_type": "code",
   "execution_count": 4,
   "id": "phantom-mistake",
   "metadata": {},
   "outputs": [
    {
     "data": {
      "text/plain": [
       "float"
      ]
     },
     "execution_count": 4,
     "metadata": {},
     "output_type": "execute_result"
    }
   ],
   "source": [
    "a = 0.0\n",
    "\n",
    "type(a)"
   ]
  },
  {
   "cell_type": "code",
   "execution_count": 5,
   "id": "material-expression",
   "metadata": {},
   "outputs": [
    {
     "data": {
      "text/plain": [
       "11111111111111111111111111111111111111111111111111111111111111111111110"
      ]
     },
     "execution_count": 5,
     "metadata": {},
     "output_type": "execute_result"
    }
   ],
   "source": [
    "b = 11111111111111111111111111111111111111111111111111111111111111111111110\n",
    "\n",
    "b"
   ]
  },
  {
   "cell_type": "code",
   "execution_count": 6,
   "id": "composed-gossip",
   "metadata": {},
   "outputs": [
    {
     "data": {
      "text/plain": [
       "5649648651635168465165168549848549465165498498465168498465168498498465198498498165198498498498498"
      ]
     },
     "execution_count": 6,
     "metadata": {},
     "output_type": "execute_result"
    }
   ],
   "source": [
    "c = 5649648651635168465165168549848549465165498498465168498465168498498465198498498165198498498498498\n",
    "\n",
    "c"
   ]
  },
  {
   "cell_type": "code",
   "execution_count": null,
   "id": "alpha-worcester",
   "metadata": {},
   "outputs": [],
   "source": [
    "a = 1\n"
   ]
  },
  {
   "cell_type": "code",
   "execution_count": 7,
   "id": "unlike-analyst",
   "metadata": {},
   "outputs": [
    {
     "data": {
      "text/plain": [
       "(1, 2, 10, 13, 6.5, 2, -3, 1)"
      ]
     },
     "execution_count": 7,
     "metadata": {},
     "output_type": "execute_result"
    }
   ],
   "source": [
    "a = 1\n",
    "\n",
    "b  = 2\n",
    "\n",
    "c = 10\n",
    "\n",
    "d = a + b + c\n",
    "\n",
    "e = d / b\n",
    "\n",
    "f = a  * b\n",
    "\n",
    "g = c - d\n",
    "\n",
    "h = d % 2\n",
    "\n",
    "a, b, c, d, e, f, g, h"
   ]
  },
  {
   "cell_type": "code",
   "execution_count": 8,
   "id": "alternative-laptop",
   "metadata": {},
   "outputs": [
    {
     "data": {
      "text/plain": [
       "(1, 0)"
      ]
     },
     "execution_count": 8,
     "metadata": {},
     "output_type": "execute_result"
    }
   ],
   "source": [
    "a = 1\n",
    "    \n",
    "A = 0\n",
    "\n",
    "a, A"
   ]
  },
  {
   "cell_type": "markdown",
   "id": "insured-buyer",
   "metadata": {},
   "source": [
    "# Call built-in Functions"
   ]
  },
  {
   "cell_type": "code",
   "execution_count": 9,
   "id": "proper-applicant",
   "metadata": {},
   "outputs": [
    {
     "data": {
      "text/plain": [
       "int"
      ]
     },
     "execution_count": 9,
     "metadata": {},
     "output_type": "execute_result"
    }
   ],
   "source": [
    "type(A)"
   ]
  },
  {
   "cell_type": "code",
   "execution_count": 10,
   "id": "political-minnesota",
   "metadata": {},
   "outputs": [
    {
     "name": "stdout",
     "output_type": "stream",
     "text": [
      "1 2 10 13 6.5 2 -3\n"
     ]
    }
   ],
   "source": [
    "print(a, b, c, d, e, f, g)"
   ]
  },
  {
   "cell_type": "code",
   "execution_count": 11,
   "id": "emotional-georgia",
   "metadata": {},
   "outputs": [
    {
     "name": "stdout",
     "output_type": "stream",
     "text": [
      "Hello World\n"
     ]
    }
   ],
   "source": [
    "print('Hello World')"
   ]
  },
  {
   "cell_type": "code",
   "execution_count": 12,
   "id": "compact-shakespeare",
   "metadata": {},
   "outputs": [
    {
     "name": "stdout",
     "output_type": "stream",
     "text": [
      "<class 'float'>\n"
     ]
    }
   ],
   "source": [
    "print(type(e))"
   ]
  },
  {
   "cell_type": "markdown",
   "id": "aggressive-nicholas",
   "metadata": {},
   "source": [
    "# Read input"
   ]
  },
  {
   "cell_type": "code",
   "execution_count": 13,
   "id": "floral-lounge",
   "metadata": {},
   "outputs": [
    {
     "name": "stdout",
     "output_type": "stream",
     "text": [
      "Please enter an number: 10\n"
     ]
    },
    {
     "data": {
      "text/plain": [
       "'10'"
      ]
     },
     "execution_count": 13,
     "metadata": {},
     "output_type": "execute_result"
    }
   ],
   "source": [
    "input('Please enter an number: ')"
   ]
  },
  {
   "cell_type": "code",
   "execution_count": 14,
   "id": "major-shadow",
   "metadata": {},
   "outputs": [
    {
     "name": "stdout",
     "output_type": "stream",
     "text": [
      "Enter a: 10\n"
     ]
    },
    {
     "data": {
      "text/plain": [
       "str"
      ]
     },
     "execution_count": 14,
     "metadata": {},
     "output_type": "execute_result"
    }
   ],
   "source": [
    "type(input('Enter a: '))"
   ]
  },
  {
   "cell_type": "code",
   "execution_count": 15,
   "id": "complicated-maintenance",
   "metadata": {},
   "outputs": [
    {
     "name": "stdout",
     "output_type": "stream",
     "text": [
      "Enter your name: Vahid\n",
      "Vahid\n"
     ]
    }
   ],
   "source": [
    "a = input('Enter your name: ')\n",
    "\n",
    "print(a)"
   ]
  },
  {
   "cell_type": "code",
   "execution_count": 16,
   "id": "certified-roads",
   "metadata": {
    "run_control": {
     "marked": true
    }
   },
   "outputs": [
    {
     "name": "stdout",
     "output_type": "stream",
     "text": [
      "Enter a: 1\n",
      "Enter b: 2\n",
      "<class 'str'> <class 'str'>\n",
      "<class 'int'> <class 'int'>\n"
     ]
    }
   ],
   "source": [
    "a = input('Enter a: ')\n",
    "\n",
    "b = input('Enter b: ')\n",
    "\n",
    "print(type(a), type(b))\n",
    "\n",
    "print(type(int(a)), type(int(b)))"
   ]
  },
  {
   "cell_type": "code",
   "execution_count": 17,
   "id": "charitable-content",
   "metadata": {},
   "outputs": [
    {
     "name": "stdout",
     "output_type": "stream",
     "text": [
      "Enter a: 1\n"
     ]
    },
    {
     "data": {
      "text/plain": [
       "(str, float)"
      ]
     },
     "execution_count": 17,
     "metadata": {},
     "output_type": "execute_result"
    }
   ],
   "source": [
    "a = input('Enter a: ')\n",
    "\n",
    "type(a), type(float(a))"
   ]
  },
  {
   "cell_type": "code",
   "execution_count": 18,
   "id": "understood-inspiration",
   "metadata": {},
   "outputs": [
    {
     "name": "stdout",
     "output_type": "stream",
     "text": [
      "Enter a: 2\n"
     ]
    },
    {
     "data": {
      "text/plain": [
       "float"
      ]
     },
     "execution_count": 18,
     "metadata": {},
     "output_type": "execute_result"
    }
   ],
   "source": [
    "a = float(input('Enter a: '))\n",
    "\n",
    "type(a)"
   ]
  },
  {
   "cell_type": "markdown",
   "id": "moral-nurse",
   "metadata": {},
   "source": [
    "# Display output"
   ]
  },
  {
   "cell_type": "code",
   "execution_count": 19,
   "id": "fatal-tactics",
   "metadata": {},
   "outputs": [
    {
     "name": "stdout",
     "output_type": "stream",
     "text": [
      "my name is vahid\n"
     ]
    }
   ],
   "source": [
    "print('my name is vahid') "
   ]
  },
  {
   "cell_type": "code",
   "execution_count": 20,
   "id": "valid-mechanism",
   "metadata": {},
   "outputs": [
    {
     "name": "stdout",
     "output_type": "stream",
     "text": [
      "my name is vahid\n"
     ]
    }
   ],
   "source": [
    "a = 'vahid'\n",
    "\n",
    "print('my name is %s' % a)"
   ]
  },
  {
   "cell_type": "code",
   "execution_count": 21,
   "id": "peripheral-breakfast",
   "metadata": {},
   "outputs": [
    {
     "name": "stdout",
     "output_type": "stream",
     "text": [
      "my name is Vahid and i am 36 years old.\n"
     ]
    }
   ],
   "source": [
    "print('my name is %s and i am %d years old.' % ('Vahid', 36))"
   ]
  },
  {
   "cell_type": "code",
   "execution_count": 41,
   "id": "religious-producer",
   "metadata": {},
   "outputs": [
    {
     "name": "stdout",
     "output_type": "stream",
     "text": [
      "My name is      Vahid, and I'm a graduated    software engineer.\n"
     ]
    }
   ],
   "source": [
    "print('My name is %10s, and I\\'m a graduated %20s.' %  ('Vahid', 'software engineer'))"
   ]
  },
  {
   "cell_type": "code",
   "execution_count": 35,
   "id": "eight-acrobat",
   "metadata": {},
   "outputs": [
    {
     "name": "stdout",
     "output_type": "stream",
     "text": [
      "My name is Vahid     ,and I'm a graduated software engineer   .\n"
     ]
    }
   ],
   "source": [
    "print('My name is %-10s,' % 'Vahid' + 'and I\\'m a graduated %-20s.' %  'software engineer')"
   ]
  },
  {
   "cell_type": "code",
   "execution_count": 39,
   "id": "elect-incentive",
   "metadata": {},
   "outputs": [
    {
     "data": {
      "text/plain": [
       "'0: 10 - 1: 10.000000 _ 2: String _ 3: 10'"
      ]
     },
     "execution_count": 39,
     "metadata": {},
     "output_type": "execute_result"
    }
   ],
   "source": [
    "'0: %d - 1: %f _ 2: %s _ 3: %i' % (10, 10.0, 'String', 10)"
   ]
  },
  {
   "cell_type": "code",
   "execution_count": 22,
   "id": "antique-corner",
   "metadata": {},
   "outputs": [
    {
     "name": "stdout",
     "output_type": "stream",
     "text": [
      "my name is vahid and i am 36 years old.\n"
     ]
    }
   ],
   "source": [
    "#fstring\n",
    "\n",
    "name = 'vahid'\n",
    "\n",
    "age = 36\n",
    "\n",
    "print(f'my name is {name} and i am {age} years old.')"
   ]
  },
  {
   "cell_type": "code",
   "execution_count": 23,
   "id": "linear-fashion",
   "metadata": {},
   "outputs": [
    {
     "name": "stdout",
     "output_type": "stream",
     "text": [
      "My average is 12.00\n"
     ]
    }
   ],
   "source": [
    "a = 12.0002\n",
    "\n",
    "print(f'My average is {a:0.2f}')"
   ]
  },
  {
   "cell_type": "code",
   "execution_count": 24,
   "id": "personal-desktop",
   "metadata": {},
   "outputs": [
    {
     "name": "stdout",
     "output_type": "stream",
     "text": [
      "My average is 12.000\n"
     ]
    }
   ],
   "source": [
    "a = 12.0002\n",
    "\n",
    "print(f'My average is {a:0.3f}')"
   ]
  },
  {
   "cell_type": "code",
   "execution_count": 25,
   "id": "referenced-tooth",
   "metadata": {},
   "outputs": [
    {
     "name": "stdout",
     "output_type": "stream",
     "text": [
      "a value is:0.1, and b value is:0.2\n",
      "a value is:  0.1, and b value is:  0.2.\n",
      "a value is:0.1  , and b value is:0.2  .\n"
     ]
    }
   ],
   "source": [
    "a = 0.1\n",
    "\n",
    "b = 0.2\n",
    "\n",
    "print(f'a value is:{a}, and b value is:{b}')\n",
    "\n",
    "print(f'a value is:{a:5}, and b value is:{b:5}.')\n",
    "\n",
    "print(f'a value is:{a:<5}, and b value is:{b:<5}.')"
   ]
  },
  {
   "cell_type": "markdown",
   "id": "demanding-brake",
   "metadata": {},
   "source": [
    "# Import additional function"
   ]
  },
  {
   "cell_type": "markdown",
   "id": "boxed-latter",
   "metadata": {},
   "source": [
    "# Coment in code"
   ]
  },
  {
   "cell_type": "markdown",
   "id": "compact-christian",
   "metadata": {},
   "source": [
    "# Work with strings"
   ]
  },
  {
   "cell_type": "markdown",
   "id": "liberal-offer",
   "metadata": {},
   "source": [
    "# Exercises"
   ]
  },
  {
   "cell_type": "markdown",
   "id": "distant-carbon",
   "metadata": {},
   "source": [
    "## Exercise\n",
    "<div style=\"direction:rtl; color:blue; font-size:150%;\"> \n",
    "برنامه ای بنویسید که نام کار را دریافت و پیغام سلام را برای او چاپ نماید\n",
    "<div>"
   ]
  },
  {
   "cell_type": "code",
   "execution_count": 1,
   "id": "23c580da",
   "metadata": {},
   "outputs": [
    {
     "name": "stdout",
     "output_type": "stream",
     "text": [
      "enter your name : erfan\n",
      "hello erfan\n"
     ]
    }
   ],
   "source": [
    "#fstring\n",
    "name = input('enter your name : ')\n",
    "\n",
    "print(f'hello {name}')"
   ]
  },
  {
   "cell_type": "markdown",
   "id": "purple-thumb",
   "metadata": {},
   "source": [
    "## Exercise\n",
    "<div style=\"direction:rtl; color:blue; font-size:150%;\"> \n",
    "برنامه ای بنویسید که از کاربر طول و عرض اتاق را دریافت کرده و مساحت آن را در خورجی نمایش دهد.\n",
    "</div>"
   ]
  },
  {
   "cell_type": "code",
   "execution_count": 4,
   "id": "28a9898f",
   "metadata": {},
   "outputs": [
    {
     "name": "stdout",
     "output_type": "stream",
     "text": [
      "enter the length : 10\n",
      "enter the width : 20\n",
      "space = 200\n"
     ]
    }
   ],
   "source": [
    "length = int(input('enter the length : '))\n",
    "\n",
    "width = int(input('enter the width : '))\n",
    "\n",
    "space =length*width\n",
    "\n",
    "print('space = %d'%(space))"
   ]
  },
  {
   "cell_type": "markdown",
   "id": "above-taiwan",
   "metadata": {
    "code_folding": []
   },
   "source": [
    "## Exercise\n",
    "<br>\n",
    "<div style=\"direction:rtl; color:blue; font-size:150%;\">\n",
    "    به منظور تشویق مردم برای بازیافت، به ازای هر بطری یک لیتری و کمتر 0.1 دلار و به ازای هر بطری بزرگتر 0.25 دلار به صورت اتوماتیک توسط دستگاه های نصب شده در محل عبور و مرور شهروندان پرداخت می شود. برنامه ای بنویسید که از کاربر تعداد و نوع بطری های تحویل داده شده دریافت نموده و مبلغ پرداختی را محاسبه نماید </div>"
   ]
  },
  {
   "cell_type": "code",
   "execution_count": null,
   "id": "520de37d",
   "metadata": {},
   "outputs": [],
   "source": [
    "s=float(input('enter the amount of small bottles : '))\n",
    "\n",
    "b=float(input('enter the amount of large bottles : '))\n",
    "\n",
    "total=s*0.1+b*0.25\n",
    "\n",
    "\n",
    "print('the total money = %d'%total)"
   ]
  },
  {
   "cell_type": "markdown",
   "id": "local-google",
   "metadata": {},
   "source": [
    "## Exercise\n",
    "<br>\n",
    "<div style=\"direction:rtl; color:blue; font-size:150%;\"> \n",
    "برنامه ای برای یک رستوران بنویسید که هزینه یک وعده غذا را از ورودی دریافت کرده و سپس مالیات بر ارزش افزوده را به مقدار 9 درصد و انعام را در صورت رضایت به اندازه 18 درصد ارزش غذا بدون مالیات محاسبه نماید و سپس کل مبلغ پرداختی را در خروجی چاپ نماید.\n",
    "</div>"
   ]
  },
  {
   "cell_type": "code",
   "execution_count": null,
   "id": "acafea2b",
   "metadata": {},
   "outputs": [],
   "source": [
    "cost=float(input('enter tne cost of meal : '))\n",
    "\n",
    "a=float(input('enter 0 to dont pay tip and 1 to pay'))\n",
    "\n",
    "total=cost*0.09+cost*a+cost\n",
    "\n",
    "print('the total price is %d'%(total))"
   ]
  },
  {
   "cell_type": "markdown",
   "id": "human-longitude",
   "metadata": {},
   "source": [
    "## Exercise\n",
    "<br>\n",
    "<div style=\"direction:rtl; color:blue; font-size:150%;\"> \n",
    "برنامه ای بنویسید که یک عدد صحیح مثبت از ورودی دریافت نموده و حاصل جمع اعداد یک تا همان عدد را در خروجی نمایش دهد.\n",
    "</div>    \n",
    "<div style=\"direction:ltr; color:green; font-size:150%;\"> \n",
    "<br>\n",
    "Sum(n) = n (n + 1) / 2\n",
    "</div>\n"
   ]
  },
  {
   "cell_type": "code",
   "execution_count": null,
   "id": "08342af6",
   "metadata": {},
   "outputs": [],
   "source": [
    "n=int(input('enter an integer number : '))\n",
    "\n",
    "sum=n*(n+1)/2\n",
    "\n",
    "print('sum = %d'%(sum))"
   ]
  },
  {
   "cell_type": "markdown",
   "id": "stupid-drinking",
   "metadata": {},
   "source": [
    "## Exercise\n",
    "<br>\n",
    "<div style=\"direction:rtl; color:blue; font-size:150%;\"> \n",
    "تصور کنید که یک حساب پس انداز بانکی ایجاد نموده اید که سالانه 4 درصد سود به موجودی کل حساب یکجا پرداخت می نماید. محاسبه نمائید به ازای مبلغ مشخص برای یک، 3 و 5 سال بدون آن که به موجودی پس انداز خود دست بزنید. چقدر پس انداز خواهید داشت.\n",
    "</div>\n"
   ]
  },
  {
   "cell_type": "code",
   "execution_count": null,
   "id": "ae5f2da2",
   "metadata": {},
   "outputs": [],
   "source": [
    "p=float(input('enter the primary amount : '))\n",
    "\n",
    "a1=p*(1+0.04)\n",
    "a3=p*(1+0.04)*(1+0.04)*(1+0.04)\n",
    "a5=p*(1+0.04)*(1+0.04)*(1+0.04)*(1+0.04)*(1+0.04)\n",
    "\n",
    "print('the total amount with profit after 1 and 3 and 5 years is %d , %d , %d'%(a1,a3,a5))"
   ]
  },
  {
   "cell_type": "markdown",
   "id": "unique-principal",
   "metadata": {},
   "source": [
    "## Exercise\n",
    "<div style=\"direction:rtl; color:blue; font-size:150%;\"> \n",
    "برنامه ای بنویسید که دو عدد a,b را از ورودی دریافت کند و خروجی های زیر را تولید نماید\n",
    "</div>\n",
    "<div style=\"direction:ltr; color:green; font-size:150%;\"> \n",
    "<br><br>\n",
    "loga(b),\n",
    "log(a) / log(b),\n",
    "a^b,\n",
    "e^a + e^b\n",
    "</div>"
   ]
  },
  {
   "cell_type": "code",
   "execution_count": null,
   "id": "e6aa00fe",
   "metadata": {},
   "outputs": [],
   "source": [
    "import math\n",
    "a=int(input('enter a : '))\n",
    "b=int(input('enter b : '))\n",
    "q=math.log(b)*a\n",
    "\n",
    "print(math.log(a))\n",
    "print(math.log(b))\n",
    "print(q)\n",
    "print(math.pow(a,b))\n",
    "print(math.pow(math.e,a))\n",
    "print(math.pow(math.e,b))"
   ]
  },
  {
   "cell_type": "markdown",
   "id": "compound-sense",
   "metadata": {},
   "source": [
    "## Exercise\n",
    "<br>\n",
    "<div style=\"direction:rtl; color:blue; font-size:150%;\"> \n",
    "براساس مهارت جستجو خود یاد بگیرید که چطونه می توان میزان مصرف اتومبیل بر مبنای مایل بر گالن را به لیتر بر 100 کیلومتر تبدیل کرد   \n",
    "</div>\n",
    "<div style=\"direction:ltr; color:green; font-size:150%;\"> \n",
    "<br><br>\n",
    "MPG = Mile per Galon\n",
    "<br><br>    \n",
    "Liters per 100 kilometers\n",
    "</div> "
   ]
  },
  {
   "cell_type": "code",
   "execution_count": null,
   "id": "128f27eb",
   "metadata": {},
   "outputs": [],
   "source": [
    "mgp=float(input('enter mgp'))\n",
    "\n",
    "a=mgp*235.2\n",
    "\n",
    "print(a)\n",
    "\n",
    "lit=float(input('enter lit/100km'))\n",
    "\n",
    "b=lit/235.2\n",
    "\n",
    "print(b)"
   ]
  },
  {
   "cell_type": "markdown",
   "id": "tested-dressing",
   "metadata": {},
   "source": [
    "## Exercise\n",
    "<br>\n",
    "<div style=\"direction:rtl; color:blue; font-size:150%;\"> \n",
    "سطح زمین منحنی است و برای محاسبه فاصله بین دو نقطه روی سطح زمین از مختصات طول و عرض جغرافیایی استفاده می شود. برنامه ای بنویسید که کاربر مختصات دو نقطه روی سطح زمین را دریافت نموده و فاصله بین آن را نمایش دهد.\n",
    "</div>\n",
    "<div style=\"direction:ltr; color:green; font-size:150%;\"> \n",
    "<br><br>\n",
    "(t1, g1) => latitude and longitude of point1\n",
    "<br><br>\n",
    "(t2, g2) => latitude and longitude of point2\n",
    "<br><br>\n",
    "distance = 6371.01 × arccos(sin(t1) × sin(t2) + cos(t1) × cos(t2) × cos(g1 − g2))\n",
    "</div>"
   ]
  },
  {
   "cell_type": "code",
   "execution_count": null,
   "id": "8624ec88",
   "metadata": {},
   "outputs": [],
   "source": [
    "import math\n",
    "\n",
    "t1=float(input('enter t1   '))\n",
    "g1=float(input('enter g1   '))\n",
    "t2=float(input('enter t2   '))\n",
    "g2=float(input('enter g2   '))\n",
    "\n",
    "distance=6371.01*(math.sin(t1)*math.sin(t2))+math.cos(t1)*math.cos(t2)*math.cos(g1-g2)\n",
    "\n",
    "print(distance)"
   ]
  },
  {
   "cell_type": "markdown",
   "id": "violent-words",
   "metadata": {},
   "source": [
    "## Exercise\n",
    "<br>\n",
    "<div style=\"direction:rtl; color:blue; font-size:150%;\"> \n",
    "میزان انرژی لازم برای افزایش یک درجه ای دمای یک گرم از یک ماده را ظرفیت ویژه ای گرمائی آن گویند و با C نمایش می دهند.\n",
    "q میزان انرژی لازم برای افزایش دمای g گرم از یک ماده را نشان می دهند.\n",
    "برنامه ای بنویسید که ظرفیت ویژه ای گرمائی یک ماده، جرم ماده و میزان دمای اولیه و دمای مطلوب را از کاربر دریافت نموده و پارامتر q را در خروجی نمایش دهد.\n",
    "</div>\n",
    "<br>\n",
    "<div style=\"direction:ltr; color:green; font-size:150%;\"> \n",
    "q = mCT, t = delta t = t1 - t0\n",
    "<br>\n",
    "\n",
    "</div>"
   ]
  },
  {
   "cell_type": "code",
   "execution_count": null,
   "id": "ba307e89",
   "metadata": {},
   "outputs": [],
   "source": [
    "c = float(input('enter C  : '))\n",
    "m = float(input('enter m  : '))\n",
    "t1= float(input('enter t1 : '))\n",
    "t2= float(input('enter t2 : '))\n",
    "\n",
    "deltaT=t2-t1\n",
    "\n",
    "q=m*c*deltaT\n",
    "\n",
    "print(q)"
   ]
  }
 ],
 "metadata": {
  "kernelspec": {
   "display_name": "Python 3 (ipykernel)",
   "language": "python",
   "name": "python3"
  },
  "language_info": {
   "codemirror_mode": {
    "name": "ipython",
    "version": 3
   },
   "file_extension": ".py",
   "mimetype": "text/x-python",
   "name": "python",
   "nbconvert_exporter": "python",
   "pygments_lexer": "ipython3",
   "version": "3.9.7"
  },
  "toc": {
   "base_numbering": 1,
   "nav_menu": {},
   "number_sections": true,
   "sideBar": true,
   "skip_h1_title": false,
   "title_cell": "Table of Contents",
   "title_sidebar": "Contents",
   "toc_cell": false,
   "toc_position": {
    "height": "calc(100% - 180px)",
    "left": "10px",
    "top": "150px",
    "width": "273.188px"
   },
   "toc_section_display": true,
   "toc_window_display": true
  },
  "varInspector": {
   "cols": {
    "lenName": 16,
    "lenType": 16,
    "lenVar": 40
   },
   "kernels_config": {
    "python": {
     "delete_cmd_postfix": "",
     "delete_cmd_prefix": "del ",
     "library": "var_list.py",
     "varRefreshCmd": "print(var_dic_list())"
    },
    "r": {
     "delete_cmd_postfix": ") ",
     "delete_cmd_prefix": "rm(",
     "library": "var_list.r",
     "varRefreshCmd": "cat(var_dic_list()) "
    }
   },
   "types_to_exclude": [
    "module",
    "function",
    "builtin_function_or_method",
    "instance",
    "_Feature"
   ],
   "window_display": false
  }
 },
 "nbformat": 4,
 "nbformat_minor": 5
}
