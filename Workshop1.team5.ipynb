{
 "cells": [
  {
   "cell_type": "markdown",
   "id": "broad-taxation",
   "metadata": {
    "heading_collapsed": true
   },
   "source": [
    "# Install & run Jupyter notebook"
   ]
  },
  {
   "cell_type": "markdown",
   "id": "million-modification",
   "metadata": {
    "heading_collapsed": true
   },
   "source": [
    "# Store and manipulate values"
   ]
  },
  {
   "cell_type": "code",
   "execution_count": 3,
   "id": "absolute-turkey",
   "metadata": {
    "hidden": true,
    "run_control": {
     "marked": false
    }
   },
   "outputs": [
    {
     "data": {
      "text/plain": [
       "int"
      ]
     },
     "execution_count": 3,
     "metadata": {},
     "output_type": "execute_result"
    }
   ],
   "source": [
    "a = 0\n",
    "\n",
    "type(a)"
   ]
  },
  {
   "cell_type": "code",
   "execution_count": 4,
   "id": "phantom-mistake",
   "metadata": {
    "hidden": true
   },
   "outputs": [
    {
     "data": {
      "text/plain": [
       "float"
      ]
     },
     "execution_count": 4,
     "metadata": {},
     "output_type": "execute_result"
    }
   ],
   "source": [
    "a = 0.0\n",
    "\n",
    "type(a)"
   ]
  },
  {
   "cell_type": "code",
   "execution_count": 5,
   "id": "material-expression",
   "metadata": {
    "hidden": true
   },
   "outputs": [
    {
     "data": {
      "text/plain": [
       "11111111111111111111111111111111111111111111111111111111111111111111110"
      ]
     },
     "execution_count": 5,
     "metadata": {},
     "output_type": "execute_result"
    }
   ],
   "source": [
    "b = 11111111111111111111111111111111111111111111111111111111111111111111110\n",
    "\n",
    "b"
   ]
  },
  {
   "cell_type": "code",
   "execution_count": 6,
   "id": "composed-gossip",
   "metadata": {
    "hidden": true
   },
   "outputs": [
    {
     "data": {
      "text/plain": [
       "5649648651635168465165168549848549465165498498465168498465168498498465198498498165198498498498498"
      ]
     },
     "execution_count": 6,
     "metadata": {},
     "output_type": "execute_result"
    }
   ],
   "source": [
    "c = 5649648651635168465165168549848549465165498498465168498465168498498465198498498165198498498498498\n",
    "\n",
    "c"
   ]
  },
  {
   "cell_type": "code",
   "execution_count": null,
   "id": "alpha-worcester",
   "metadata": {
    "hidden": true
   },
   "outputs": [],
   "source": [
    "a = 1\n"
   ]
  },
  {
   "cell_type": "code",
   "execution_count": 7,
   "id": "unlike-analyst",
   "metadata": {
    "hidden": true
   },
   "outputs": [
    {
     "data": {
      "text/plain": [
       "(1, 2, 10, 13, 6.5, 2, -3, 1)"
      ]
     },
     "execution_count": 7,
     "metadata": {},
     "output_type": "execute_result"
    }
   ],
   "source": [
    "a = 1\n",
    "\n",
    "b  = 2\n",
    "\n",
    "c = 10\n",
    "\n",
    "d = a + b + c\n",
    "\n",
    "e = d / b\n",
    "\n",
    "f = a  * b\n",
    "\n",
    "g = c - d\n",
    "\n",
    "h = d % 2\n",
    "\n",
    "a, b, c, d, e, f, g, h"
   ]
  },
  {
   "cell_type": "code",
   "execution_count": 8,
   "id": "alternative-laptop",
   "metadata": {
    "hidden": true
   },
   "outputs": [
    {
     "data": {
      "text/plain": [
       "(1, 0)"
      ]
     },
     "execution_count": 8,
     "metadata": {},
     "output_type": "execute_result"
    }
   ],
   "source": [
    "a = 1\n",
    "    \n",
    "A = 0\n",
    "\n",
    "a, A"
   ]
  },
  {
   "cell_type": "markdown",
   "id": "insured-buyer",
   "metadata": {
    "heading_collapsed": true
   },
   "source": [
    "# Call built-in Functions"
   ]
  },
  {
   "cell_type": "code",
   "execution_count": 9,
   "id": "proper-applicant",
   "metadata": {
    "hidden": true
   },
   "outputs": [
    {
     "data": {
      "text/plain": [
       "int"
      ]
     },
     "execution_count": 9,
     "metadata": {},
     "output_type": "execute_result"
    }
   ],
   "source": [
    "type(A)"
   ]
  },
  {
   "cell_type": "code",
   "execution_count": 10,
   "id": "political-minnesota",
   "metadata": {
    "hidden": true
   },
   "outputs": [
    {
     "name": "stdout",
     "output_type": "stream",
     "text": [
      "1 2 10 13 6.5 2 -3\n"
     ]
    }
   ],
   "source": [
    "print(a, b, c, d, e, f, g)"
   ]
  },
  {
   "cell_type": "code",
   "execution_count": 11,
   "id": "emotional-georgia",
   "metadata": {
    "hidden": true
   },
   "outputs": [
    {
     "name": "stdout",
     "output_type": "stream",
     "text": [
      "Hello World\n"
     ]
    }
   ],
   "source": [
    "print('Hello World')"
   ]
  },
  {
   "cell_type": "markdown",
   "id": "aggressive-nicholas",
   "metadata": {
    "heading_collapsed": true
   },
   "source": [
    "# Read input"
   ]
  },
  {
   "cell_type": "code",
   "execution_count": 12,
   "id": "compact-shakespeare",
   "metadata": {
    "hidden": true
   },
   "outputs": [
    {
     "name": "stdout",
     "output_type": "stream",
     "text": [
      "<class 'float'>\n"
     ]
    }
   ],
   "source": [
    "print(type(e))"
   ]
  },
  {
   "cell_type": "code",
   "execution_count": 3,
   "id": "floral-lounge",
   "metadata": {
    "hidden": true
   },
   "outputs": [
    {
     "name": "stdout",
     "output_type": "stream",
     "text": [
      "Please enter an number: \n"
     ]
    },
    {
     "data": {
      "text/plain": [
       "'10'"
      ]
     },
     "execution_count": 3,
     "metadata": {},
     "output_type": "execute_result"
    }
   ],
   "source": [
    "print(\"Please enter an number: \")\n",
    "input('Please enter an number: ')"
   ]
  },
  {
   "cell_type": "code",
   "execution_count": 14,
   "id": "major-shadow",
   "metadata": {
    "hidden": true
   },
   "outputs": [
    {
     "name": "stdout",
     "output_type": "stream",
     "text": [
      "Enter a: 10\n"
     ]
    },
    {
     "data": {
      "text/plain": [
       "str"
      ]
     },
     "execution_count": 14,
     "metadata": {},
     "output_type": "execute_result"
    }
   ],
   "source": [
    "type(input('Enter a: '))"
   ]
  },
  {
   "cell_type": "code",
   "execution_count": 15,
   "id": "complicated-maintenance",
   "metadata": {
    "hidden": true
   },
   "outputs": [
    {
     "name": "stdout",
     "output_type": "stream",
     "text": [
      "Enter your name: Vahid\n",
      "Vahid\n"
     ]
    }
   ],
   "source": [
    "a = input('Enter your name: ')\n",
    "\n",
    "print(a)"
   ]
  },
  {
   "cell_type": "code",
   "execution_count": 16,
   "id": "certified-roads",
   "metadata": {
    "hidden": true,
    "run_control": {
     "marked": true
    }
   },
   "outputs": [
    {
     "name": "stdout",
     "output_type": "stream",
     "text": [
      "Enter a: 1\n",
      "Enter b: 2\n",
      "<class 'str'> <class 'str'>\n",
      "<class 'int'> <class 'int'>\n"
     ]
    }
   ],
   "source": [
    "a = input('Enter a: ')\n",
    "\n",
    "b = input('Enter b: ')\n",
    "\n",
    "print(type(a), type(b))\n",
    "\n",
    "print(type(int(a)), type(int(b)))"
   ]
  },
  {
   "cell_type": "code",
   "execution_count": 17,
   "id": "charitable-content",
   "metadata": {
    "hidden": true
   },
   "outputs": [
    {
     "name": "stdout",
     "output_type": "stream",
     "text": [
      "Enter a: 1\n"
     ]
    },
    {
     "data": {
      "text/plain": [
       "(str, float)"
      ]
     },
     "execution_count": 17,
     "metadata": {},
     "output_type": "execute_result"
    }
   ],
   "source": [
    "a = input('Enter a: ')\n",
    "\n",
    "type(a), type(float(a))"
   ]
  },
  {
   "cell_type": "code",
   "execution_count": 18,
   "id": "understood-inspiration",
   "metadata": {
    "hidden": true
   },
   "outputs": [
    {
     "name": "stdout",
     "output_type": "stream",
     "text": [
      "Enter a: 2\n"
     ]
    },
    {
     "data": {
      "text/plain": [
       "float"
      ]
     },
     "execution_count": 18,
     "metadata": {},
     "output_type": "execute_result"
    }
   ],
   "source": [
    "a = float(input('Enter a: '))\n",
    "\n",
    "type(a)"
   ]
  },
  {
   "cell_type": "markdown",
   "id": "moral-nurse",
   "metadata": {
    "heading_collapsed": true
   },
   "source": [
    "# Display output"
   ]
  },
  {
   "cell_type": "code",
   "execution_count": 4,
   "id": "fatal-tactics",
   "metadata": {
    "hidden": true
   },
   "outputs": [
    {
     "name": "stdout",
     "output_type": "stream",
     "text": [
      "my name is vahid\n"
     ]
    }
   ],
   "source": [
    "print('my name is vahid') "
   ]
  },
  {
   "cell_type": "code",
   "execution_count": 20,
   "id": "valid-mechanism",
   "metadata": {
    "hidden": true
   },
   "outputs": [
    {
     "name": "stdout",
     "output_type": "stream",
     "text": [
      "my name is vahid\n"
     ]
    }
   ],
   "source": [
    "a = 'vahid'\n",
    "\n",
    "print('my name is %s' % a)"
   ]
  },
  {
   "cell_type": "code",
   "execution_count": 21,
   "id": "peripheral-breakfast",
   "metadata": {
    "hidden": true
   },
   "outputs": [
    {
     "name": "stdout",
     "output_type": "stream",
     "text": [
      "my name is Vahid and i am 36 years old.\n"
     ]
    }
   ],
   "source": [
    "print('my name is %s and i am %d years old.' % ('Vahid', 36))"
   ]
  },
  {
   "cell_type": "code",
   "execution_count": 41,
   "id": "religious-producer",
   "metadata": {
    "hidden": true
   },
   "outputs": [
    {
     "name": "stdout",
     "output_type": "stream",
     "text": [
      "My name is      Vahid, and I'm a graduated    software engineer.\n"
     ]
    }
   ],
   "source": [
    "print('My name is %10s, and I\\'m a graduated %20s.' %  ('Vahid', 'software engineer'))"
   ]
  },
  {
   "cell_type": "code",
   "execution_count": 35,
   "id": "eight-acrobat",
   "metadata": {
    "hidden": true
   },
   "outputs": [
    {
     "name": "stdout",
     "output_type": "stream",
     "text": [
      "My name is Vahid     ,and I'm a graduated software engineer   .\n"
     ]
    }
   ],
   "source": [
    "print('My name is %-10s,' % 'Vahid' + 'and I\\'m a graduated %-20s.' %  'software engineer')"
   ]
  },
  {
   "cell_type": "code",
   "execution_count": 39,
   "id": "elect-incentive",
   "metadata": {
    "hidden": true
   },
   "outputs": [
    {
     "data": {
      "text/plain": [
       "'0: 10 - 1: 10.000000 _ 2: String _ 3: 10'"
      ]
     },
     "execution_count": 39,
     "metadata": {},
     "output_type": "execute_result"
    }
   ],
   "source": [
    "'0: %d - 1: %f _ 2: %s _ 3: %i' % (10, 10.0, 'String', 10)"
   ]
  },
  {
   "cell_type": "code",
   "execution_count": 22,
   "id": "antique-corner",
   "metadata": {
    "hidden": true
   },
   "outputs": [
    {
     "name": "stdout",
     "output_type": "stream",
     "text": [
      "my name is vahid and i am 36 years old.\n"
     ]
    }
   ],
   "source": [
    "#fstring\n",
    "\n",
    "name = 'vahid'\n",
    "\n",
    "age = 36\n",
    "\n",
    "print(f'my name is {name} and i am {age} years old.')"
   ]
  },
  {
   "cell_type": "code",
   "execution_count": 23,
   "id": "linear-fashion",
   "metadata": {
    "hidden": true
   },
   "outputs": [
    {
     "name": "stdout",
     "output_type": "stream",
     "text": [
      "My average is 12.00\n"
     ]
    }
   ],
   "source": [
    "a = 12.0002\n",
    "\n",
    "print(f'My average is {a:0.2f}')"
   ]
  },
  {
   "cell_type": "code",
   "execution_count": 24,
   "id": "personal-desktop",
   "metadata": {
    "hidden": true
   },
   "outputs": [
    {
     "name": "stdout",
     "output_type": "stream",
     "text": [
      "My average is 12.000\n"
     ]
    }
   ],
   "source": [
    "a = 12.0002\n",
    "\n",
    "print(f'My average is {a:0.3f}')"
   ]
  },
  {
   "cell_type": "code",
   "execution_count": 25,
   "id": "referenced-tooth",
   "metadata": {
    "hidden": true
   },
   "outputs": [
    {
     "name": "stdout",
     "output_type": "stream",
     "text": [
      "a value is:0.1, and b value is:0.2\n",
      "a value is:  0.1, and b value is:  0.2.\n",
      "a value is:0.1  , and b value is:0.2  .\n"
     ]
    }
   ],
   "source": [
    "a = 0.1\n",
    "\n",
    "b = 0.2\n",
    "\n",
    "print(f'a value is:{a}, and b value is:{b}')\n",
    "\n",
    "print(f'a value is:{a:5}, and b value is:{b:5}.')\n",
    "\n",
    "print(f'a value is:{a:<5}, and b value is:{b:<5}.')"
   ]
  },
  {
   "cell_type": "markdown",
   "id": "demanding-brake",
   "metadata": {
    "heading_collapsed": true
   },
   "source": [
    "# Import additional function"
   ]
  },
  {
   "cell_type": "code",
   "execution_count": 8,
   "id": "vertical-intake",
   "metadata": {
    "hidden": true
   },
   "outputs": [
    {
     "name": "stdout",
     "output_type": "stream",
     "text": [
      "2.0 16.0 5 4 -0.7568024953079282\n"
     ]
    }
   ],
   "source": [
    "import math\n",
    "\n",
    "a = 4\n",
    "\n",
    "b = 2\n",
    "\n",
    "print(math.sqrt(a), math.pow(a, b), math.ceil(4.23254), math.floor(4.23254), math.sin(a))"
   ]
  },
  {
   "cell_type": "code",
   "execution_count": 9,
   "id": "agreed-survey",
   "metadata": {
    "hidden": true
   },
   "outputs": [
    {
     "data": {
      "text/plain": [
       "-0.2879033166650653"
      ]
     },
     "execution_count": 9,
     "metadata": {},
     "output_type": "execute_result"
    }
   ],
   "source": [
    "math.sin(math.pow(a, b))"
   ]
  },
  {
   "cell_type": "code",
   "execution_count": 12,
   "id": "demanding-sword",
   "metadata": {
    "hidden": true
   },
   "outputs": [
    {
     "data": {
      "text/plain": [
       "(16.0, 2.0)"
      ]
     },
     "execution_count": 12,
     "metadata": {},
     "output_type": "execute_result"
    }
   ],
   "source": [
    "from math import pow, sqrt\n",
    "\n",
    "pow(a, b), sqrt(a)"
   ]
  },
  {
   "cell_type": "markdown",
   "id": "boxed-latter",
   "metadata": {},
   "source": [
    "# Coment in code"
   ]
  },
  {
   "cell_type": "code",
   "execution_count": 14,
   "id": "polar-cement",
   "metadata": {},
   "outputs": [
    {
     "data": {
      "text/plain": [
       "(3.14, 3.141592653589793)"
      ]
     },
     "execution_count": 14,
     "metadata": {},
     "output_type": "execute_result"
    }
   ],
   "source": [
    "'''\n",
    "This\n",
    "is\n",
    "my \n",
    "multilines\n",
    "comment\n",
    "'''\n",
    "\n",
    "# this is my sigle line comment\n",
    "\n",
    "a = 10 # radius of my circle\n",
    "\n",
    "b = 3.14 # this is a pi value\n",
    "\n",
    "c = b * a * a # calculate area of the circle\n",
    "\n",
    "######################################\n",
    "\n",
    "# increase readability\n",
    "# define descriptive name for variables\n",
    "\n",
    "radius = 10\n",
    "\n",
    "pi = 3.14; math.pi\n",
    "\n",
    "area = pi * radius * radius \n",
    "\n",
    "area = math.pi * mat.pow(radius, 2)\n",
    "\n",
    "my_email_address = 'v@gmail.com' # multi words namig style\n",
    "\n",
    "#1 Camel Case\n",
    "myEmamilAddress = 'v@gmail.com'\n",
    "\n",
    "#2 Snake Case, standard style\n",
    "my_email_address = 'v@gmail.com'"
   ]
  },
  {
   "cell_type": "markdown",
   "id": "compact-christian",
   "metadata": {},
   "source": [
    "# Work with strings"
   ]
  },
  {
   "cell_type": "code",
   "execution_count": 16,
   "id": "double-antarctica",
   "metadata": {},
   "outputs": [
    {
     "data": {
      "text/plain": [
       "('this is a string', 'this is a another string')"
      ]
     },
     "execution_count": 16,
     "metadata": {},
     "output_type": "execute_result"
    }
   ],
   "source": [
    "my_email_address = 'v@gmail.com' # this is a string sample\n",
    "\n",
    "'this is a string', \"this is a another string\"\n",
    "\n",
    "a = 'this is a string'\n",
    "\n",
    "b = \"this is a another string\"\n",
    "\n",
    "a, b\n"
   ]
  },
  {
   "cell_type": "code",
   "execution_count": 18,
   "id": "governing-stuff",
   "metadata": {},
   "outputs": [
    {
     "data": {
      "text/plain": [
       "(16, 24)"
      ]
     },
     "execution_count": 18,
     "metadata": {},
     "output_type": "execute_result"
    }
   ],
   "source": [
    "len(a), len(b)"
   ]
  },
  {
   "cell_type": "code",
   "execution_count": 23,
   "id": "magnetic-wireless",
   "metadata": {},
   "outputs": [
    {
     "name": "stdout",
     "output_type": "stream",
     "text": [
      "The length of a = 16    | The length of b = 24   \n"
     ]
    }
   ],
   "source": [
    "print(f'The length of a = {len(a):<5}', '|' ,f'The length of b = {len(b):<5}')"
   ]
  },
  {
   "cell_type": "code",
   "execution_count": 37,
   "id": "still-renaissance",
   "metadata": {},
   "outputs": [
    {
     "data": {
      "text/plain": [
       "(\"it's wing\", \"it's wing\", 'the value of \"a\" is a')"
      ]
     },
     "execution_count": 37,
     "metadata": {},
     "output_type": "execute_result"
    }
   ],
   "source": [
    "# 'it's wing'\n",
    "\n",
    "'it\\'s wing', \"it's wing\", \"the value of \\\"a\\\" is a\""
   ]
  },
  {
   "cell_type": "code",
   "execution_count": 36,
   "id": "charming-platform",
   "metadata": {},
   "outputs": [
    {
     "name": "stdout",
     "output_type": "stream",
     "text": [
      "my\tname\tis\tvahid\n",
      "my\n",
      "name\n",
      "is\n",
      "vahid\n",
      "mmmmmmmm\r\n",
      "name\r\n",
      "is\r\n",
      "vahid\n"
     ]
    },
    {
     "data": {
      "text/plain": [
       "'the value of \"a\" is a'"
      ]
     },
     "execution_count": 36,
     "metadata": {},
     "output_type": "execute_result"
    }
   ],
   "source": [
    "a = 'my name is vahid'\n",
    "\n",
    "b = 'my\\tname\\tis\\tvahid' # \\t -> tab space\n",
    "\n",
    "c = 'my\\nname\\nis\\nvahid' # \\n -> newline\n",
    "\n",
    "d = 'mmmmmmmm\\rname\\ris\\rvahid' # \\r -> line cariage\n",
    "\n",
    "print(b)\n",
    "\n",
    "print(c)\n",
    "\n",
    "print(d)\n",
    "\n"
   ]
  },
  {
   "cell_type": "code",
   "execution_count": 44,
   "id": "aboriginal-scottish",
   "metadata": {},
   "outputs": [
    {
     "name": "stdout",
     "output_type": "stream",
     "text": [
      "*\n",
      "**********\n",
      "**********\n",
      "==========\n",
      "area:  1661.9025137490005 premeter:  144.51326206513048\n"
     ]
    }
   ],
   "source": [
    "print('*')\n",
    "\n",
    "print('**********')\n",
    "\n",
    "print('*' * 10)\n",
    "\n",
    "print('=' * 10)\n",
    "\n",
    "radius = 23\n",
    "\n",
    "print('area: ', math.pi * math.pow(radius, 2), 'premeter: ', 2 * math.pi * radius)"
   ]
  },
  {
   "cell_type": "code",
   "execution_count": 46,
   "id": "bulgarian-detective",
   "metadata": {},
   "outputs": [
    {
     "name": "stdout",
     "output_type": "stream",
     "text": [
      "area:  314.1592653589793\n",
      "********************\n",
      "premeter:  62.83185307179586\n"
     ]
    }
   ],
   "source": [
    "print('area: ', math.pi * math.pow(radius, 2))\n",
    "\n",
    "print('*' * 20)\n",
    "\n",
    "print('premeter: ', 2 * math.pi * radius)"
   ]
  },
  {
   "cell_type": "code",
   "execution_count": 51,
   "id": "missing-assistant",
   "metadata": {},
   "outputs": [
    {
     "name": "stdout",
     "output_type": "stream",
     "text": [
      "a\n",
      "b\n",
      "a_b\n",
      "ab"
     ]
    }
   ],
   "source": [
    "print('a'), print('b')\n",
    "\n",
    "print('a','b' ,sep='_') #seperate arguments by sep\n",
    "\n",
    "print('a', end='') # ends line with end\n",
    "\n",
    "print('b', end='')"
   ]
  },
  {
   "cell_type": "code",
   "execution_count": 53,
   "id": "continuous-hammer",
   "metadata": {},
   "outputs": [
    {
     "data": {
      "text/plain": [
       "('a', 'c', 'f')"
      ]
     },
     "execution_count": 53,
     "metadata": {},
     "output_type": "execute_result"
    }
   ],
   "source": [
    "a = 'abcdefg'\n",
    "\n",
    "a[0], a[2], a[5]"
   ]
  },
  {
   "cell_type": "code",
   "execution_count": 55,
   "id": "traditional-cocktail",
   "metadata": {},
   "outputs": [
    {
     "data": {
      "text/plain": [
       "('g', 'f')"
      ]
     },
     "execution_count": 55,
     "metadata": {},
     "output_type": "execute_result"
    }
   ],
   "source": [
    "a = 'abcdefg'\n",
    "\n",
    "a[-1], a[-2]"
   ]
  },
  {
   "cell_type": "code",
   "execution_count": 59,
   "id": "atlantic-soldier",
   "metadata": {},
   "outputs": [
    {
     "data": {
      "text/plain": [
       "('cde', 'de', 'efg', 'abcde')"
      ]
     },
     "execution_count": 59,
     "metadata": {},
     "output_type": "execute_result"
    }
   ],
   "source": [
    "a = 'abcdefg'\n",
    "\n",
    "#a[start:end]\n",
    "\n",
    "a[2 : 5], a[3 : -2], a[-3 : ], a[ : 5]"
   ]
  },
  {
   "cell_type": "code",
   "execution_count": 66,
   "id": "geological-potato",
   "metadata": {},
   "outputs": [
    {
     "data": {
      "text/plain": [
       "('abcde', 'abcde', 'ef')"
      ]
     },
     "execution_count": 66,
     "metadata": {},
     "output_type": "execute_result"
    }
   ],
   "source": [
    "a = 'abcdefg'\n",
    "# '0a 1b 2c 3d 4e 5f 6g'\n",
    "\n",
    "a[0:5], a[0: -2], a[-3 : -1]"
   ]
  },
  {
   "cell_type": "code",
   "execution_count": 61,
   "id": "simplified-acquisition",
   "metadata": {},
   "outputs": [
    {
     "data": {
      "text/plain": [
       "('ace', 'ac')"
      ]
     },
     "execution_count": 61,
     "metadata": {},
     "output_type": "execute_result"
    }
   ],
   "source": [
    "#a[start:end:step]\n",
    "\n",
    "a = 'abcdefg'\n",
    "\n",
    "a[0 : 5 : 2], a[ :-3: 2]\n"
   ]
  },
  {
   "cell_type": "markdown",
   "id": "liberal-offer",
   "metadata": {},
   "source": [
    "# Exercises"
   ]
  },
  {
   "cell_type": "markdown",
   "id": "distant-carbon",
   "metadata": {},
   "source": [
    "## Exercise\n",
    "<div style=\"direction:rtl; color:blue; font-size:150%;\"> \n",
    "برنامه ای بنویسید که نام کار را دریافت و پیغام سلام را برای او چاپ نماید\n",
    "<div>"
   ]
  },
  {
   "cell_type": "code",
   "execution_count": 1,
   "id": "97c63099",
   "metadata": {},
   "outputs": [
    {
     "name": "stdout",
     "output_type": "stream",
     "text": [
      "Hello Mahdie\n"
     ]
    }
   ],
   "source": [
    "name=input(\"enter your name:\")\n",
    "print(\"Hello\", name)"
   ]
  },
  {
   "cell_type": "markdown",
   "id": "purple-thumb",
   "metadata": {},
   "source": [
    "## Exercise\n",
    "<div style=\"direction:rtl; color:blue; font-size:150%;\"> \n",
    "برنامه ای بنویسید که از کاربر طول و عرض اتاق را دریافت کرده و مساحت آن را در خورجی نمایش دهد.\n",
    "</div>"
   ]
  },
  {
   "cell_type": "code",
   "execution_count": 15,
   "id": "c646f4bf",
   "metadata": {},
   "outputs": [
    {
     "name": "stdout",
     "output_type": "stream",
     "text": [
      "It is the room area=4250.0\n"
     ]
    }
   ],
   "source": [
    "a=float(input(\"enter the length of the room:\"))\n",
    "b=float(input(\"enter the width of the room:\"))\n",
    "\n",
    "print(f\"It is the room area={a*b}\")\n"
   ]
  },
  {
   "cell_type": "markdown",
   "id": "above-taiwan",
   "metadata": {
    "code_folding": []
   },
   "source": [
    "## Exercise\n",
    "<br>\n",
    "<div style=\"direction:rtl; color:blue; font-size:150%;\">\n",
    "    به منظور تشویق مردم برای بازیافت، به ازای هر بطری یک لیتری و کمتر 0.1 دلار و به ازای هر بطری بزرگتر 0.25 دلار به صورت اتوماتیک توسط دستگاه های نصب شده در محل عبور و مرور شهروندان پرداخت می شود. برنامه ای بنویسید که از کاربر تعداد و نوع بطری های تحویل داده شده دریافت نموده و مبلغ پرداختی را محاسبه نماید </div>"
   ]
  },
  {
   "cell_type": "code",
   "execution_count": 3,
   "id": "f281b75d",
   "metadata": {},
   "outputs": [
    {
     "name": "stdout",
     "output_type": "stream",
     "text": [
      "It is total amount paid=2.95 $\n"
     ]
    }
   ],
   "source": [
    "c=int(input(\"How many small bottles do you have?\"))\n",
    "d=int(input(\"How many larg bottles do you have?\"))\n",
    "\n",
    "e=(c*0.1)+(d*0.25)\n",
    "\n",
    "print(f\"It is total amount paid={e} $\")\n"
   ]
  },
  {
   "cell_type": "markdown",
   "id": "human-longitude",
   "metadata": {},
   "source": [
    "## Exercise\n",
    "<br>\n",
    "<div style=\"direction:rtl; color:blue; font-size:150%;\"> \n",
    "برنامه ای بنویسید که یک عدد صحیح مثبت از ورودی دریافت نموده و حاصل جمع اعداد یک تا همان عدد را در خروجی نمایش دهد.\n",
    "</div>    \n",
    "<div style=\"direction:ltr; color:green; font-size:150%;\"> \n",
    "<br>\n",
    "Sum(n) = n (n + 1) / 2\n",
    "</div>\n"
   ]
  },
  {
   "cell_type": "code",
   "execution_count": 7,
   "id": "b8d11917",
   "metadata": {},
   "outputs": [
    {
     "name": "stdout",
     "output_type": "stream",
     "text": [
      "The sum of 1 to 8 is 36.0\n"
     ]
    }
   ],
   "source": [
    "n=int(input(\"Enter a number:\"))\n",
    "\n",
    "sum=n*(n+1)/2\n",
    "\n",
    "print(f\"The sum of 1 to {n} is {sum}\")\n"
   ]
  },
  {
   "cell_type": "markdown",
   "id": "stupid-drinking",
   "metadata": {},
   "source": [
    "## Exercise\n",
    "<br>\n",
    "<div style=\"direction:rtl; color:blue; font-size:150%;\"> \n",
    "تصور کنید که یک حساب پس انداز بانکی ایجاد نموده اید که سالانه 4 درصد سود به موجودی کل حساب یکجا پرداخت می نماید. محاسبه نمائید به ازای مبلغ مشخص برای یک، 3 و 5 سال بدون آن که به موجودی پس انداز خود دست بزنید. چقدر پس انداز خواهید داشت.\n",
    "</div>\n"
   ]
  },
  {
   "cell_type": "code",
   "execution_count": 8,
   "id": "bafb75c2",
   "metadata": {},
   "outputs": [
    {
     "name": "stdout",
     "output_type": "stream",
     "text": [
      "inventory after 1 year is 52.0\n",
      "inventory after 3 years is 156.0\n",
      "inventory after 5 years is 260.0\n"
     ]
    }
   ],
   "source": [
    "n=float(input(\"How much inventory do you have?\"))\n",
    "\n",
    "a=n+(n*0.04)\n",
    "b=a*3\n",
    "c=a*5\n",
    "\n",
    "print(f\"inventory after 1 year is {a}\")\n",
    "print(f\"inventory after 3 years is {b}\")\n",
    "print(f\"inventory after 5 years is {c}\")\n"
   ]
  },
  {
   "cell_type": "markdown",
   "id": "unique-principal",
   "metadata": {},
   "source": [
    "## Exercise\n",
    "<div style=\"direction:rtl; color:blue; font-size:150%;\"> \n",
    "برنامه ای بنویسید که دو عدد a,b را از ورودی دریافت کند و خروجی های زیر را تولید نماید\n",
    "</div>\n",
    "<div style=\"direction:ltr; color:green; font-size:150%;\"> \n",
    "<br><br>\n",
    "loga(b),\n",
    "log(a) / log(b),\n",
    "a^b,\n",
    "e^a + e^b\n",
    "</div>"
   ]
  },
  {
   "cell_type": "code",
   "execution_count": 11,
   "id": "3fe87709",
   "metadata": {},
   "outputs": [
    {
     "name": "stdout",
     "output_type": "stream",
     "text": [
      "0.7124143742160444\n",
      "0.7124143742160444\n",
      "16384.0\n",
      "1151.2313084616028\n"
     ]
    }
   ],
   "source": [
    "a=float(input(\"Enter first number:\"))\n",
    "b=float(input(\"Enter second number:\"))\n",
    "\n",
    "import math\n",
    "\n",
    "print(math.log(a,b))\n",
    "\n",
    "print(math.log(a)/math.log(b))\n",
    "\n",
    "print(pow(a,b))\n",
    "\n",
    "print(math.exp(a)+math.exp(b))\n"
   ]
  },
  {
   "cell_type": "markdown",
   "id": "compound-sense",
   "metadata": {},
   "source": [
    "## Exercise\n",
    "<br>\n",
    "<div style=\"direction:rtl; color:blue; font-size:150%;\"> \n",
    "براساس مهارت جستجو خود یاد بگیرید که چطونه می توان میزان مصرف اتومبیل بر مبنای مایل بر گالن را به لیتر بر 100 کیلومتر تبدیل کرد   \n",
    "</div>\n",
    "<div style=\"direction:ltr; color:green; font-size:150%;\"> \n",
    "<br><br>\n",
    "MPG = Mile per Galon\n",
    "<br><br>    \n",
    "Liters per 100 kilometers\n",
    "</div> "
   ]
  },
  {
   "cell_type": "code",
   "execution_count": 1,
   "id": "85e55dc1",
   "metadata": {},
   "outputs": [
    {
     "name": "stdout",
     "output_type": "stream",
     "text": [
      "11394.0\n"
     ]
    }
   ],
   "source": [
    "MPG=int(input('enter MPG:'))\n",
    "\n",
    "print(MPG*253.2)"
   ]
  },
  {
   "cell_type": "markdown",
   "id": "tested-dressing",
   "metadata": {},
   "source": [
    "## Exercise\n",
    "<br>\n",
    "<div style=\"direction:rtl; color:blue; font-size:150%;\"> \n",
    "سطح زمین منحنی است و برای محاسبه فاصله بین دو نقطه روی سطح زمین از مختصات طول و عرض جغرافیایی استفاده می شود. برنامه ای بنویسید که کاربر مختصات دو نقطه روی سطح زمین را دریافت نموده و فاصله بین آن را نمایش دهد.\n",
    "</div>\n",
    "<div style=\"direction:ltr; color:green; font-size:150%;\"> \n",
    "<br><br>\n",
    "(t1, g1) => latitude and longitude of point1\n",
    "<br><br>\n",
    "(t2, g2) => latitude and longitude of point2\n",
    "<br><br>\n",
    "distance = 6371.01 × arccos(sin(t1) × sin(t2) + cos(t1) × cos(t2) × cos(g1 − g2))\n",
    "</div>"
   ]
  },
  {
   "cell_type": "code",
   "execution_count": 16,
   "id": "0c78db59",
   "metadata": {},
   "outputs": [
    {
     "name": "stdout",
     "output_type": "stream",
     "text": [
      "the distance is= 17258.730639357604\n"
     ]
    }
   ],
   "source": [
    "import math\n",
    "t1=float(input('enter the t1'))\n",
    "\n",
    "g1=float(input('enter the g1'))\n",
    "\n",
    "t2=float(input('enter the t2'))\n",
    "\n",
    "g2=float(input('enter the g2'))\n",
    "\n",
    "x=math.sin(t1)*math.sin(t2)+math.cos(t1)*math.cos(t2)*math.cos(g1-g2)\n",
    "\n",
    "a=math.acos(x)\n",
    "\n",
    "distance=6371.01*a\n",
    "\n",
    "print('the distance is=',distance)"
   ]
  },
  {
   "cell_type": "markdown",
   "id": "violent-words",
   "metadata": {},
   "source": [
    "## Exercise\n",
    "<br>\n",
    "<div style=\"direction:rtl; color:blue; font-size:150%;\"> \n",
    "میزان انرژی لازم برای افزایش یک درجه ای دمای یک گرم از یک ماده را ظرفیت ویژه ای گرمائی آن گویند و با C نمایش می دهند.\n",
    "q میزان انرژی لازم برای افزایش دمای g گرم از یک ماده را نشان می دهند.\n",
    "برنامه ای بنویسید که ظرفیت ویژه ای گرمائی یک ماده، جرم ماده و میزان دمای اولیه و دمای مطلوب را از کاربر دریافت نموده و پارامتر q را در خروجی نمایش دهد.\n",
    "</div>\n",
    "<br>\n",
    "<div style=\"direction:ltr; color:green; font-size:150%;\"> \n",
    "q = mCT, t = delta t = t1 - t0\n",
    "<br>\n",
    "\n",
    "</div>"
   ]
  },
  {
   "cell_type": "code",
   "execution_count": 13,
   "id": "0e493ea0",
   "metadata": {},
   "outputs": [
    {
     "name": "stdout",
     "output_type": "stream",
     "text": [
      "Q is= -81900\n"
     ]
    }
   ],
   "source": [
    "m=int(input('enter g:'))\n",
    "\n",
    "C=int(input('Enter C:'))\n",
    "\n",
    "t1=int(input('enter t1:'))\n",
    "\n",
    "t2=int(input('enter t2:'))\n",
    "\n",
    "T=t2-t1\n",
    "\n",
    "q=m*C*T\n",
    "\n",
    "print('Q is=',q)"
   ]
  }
 ],
 "metadata": {
  "kernelspec": {
   "display_name": "Python 3",
   "language": "python",
   "name": "python3"
  },
  "language_info": {
   "codemirror_mode": {
    "name": "ipython",
    "version": 3
   },
   "file_extension": ".py",
   "mimetype": "text/x-python",
   "name": "python",
   "nbconvert_exporter": "python",
   "pygments_lexer": "ipython3",
   "version": "3.10.2"
  },
  "toc": {
   "base_numbering": 1,
   "nav_menu": {},
   "number_sections": true,
   "sideBar": true,
   "skip_h1_title": false,
   "title_cell": "Table of Contents",
   "title_sidebar": "Contents",
   "toc_cell": false,
   "toc_position": {
    "height": "calc(100% - 180px)",
    "left": "10px",
    "top": "150px",
    "width": "273.188px"
   },
   "toc_section_display": true,
   "toc_window_display": false
  },
  "varInspector": {
   "cols": {
    "lenName": 16,
    "lenType": 16,
    "lenVar": 40
   },
   "kernels_config": {
    "python": {
     "delete_cmd_postfix": "",
     "delete_cmd_prefix": "del ",
     "library": "var_list.py",
     "varRefreshCmd": "print(var_dic_list())"
    },
    "r": {
     "delete_cmd_postfix": ") ",
     "delete_cmd_prefix": "rm(",
     "library": "var_list.r",
     "varRefreshCmd": "cat(var_dic_list()) "
    }
   },
   "position": {
    "height": "144.844px",
    "left": "969px",
    "right": "20px",
    "top": "72px",
    "width": "350px"
   },
   "types_to_exclude": [
    "module",
    "function",
    "builtin_function_or_method",
    "instance",
    "_Feature"
   ],
   "window_display": false
  }
 },
 "nbformat": 4,
 "nbformat_minor": 5
}
