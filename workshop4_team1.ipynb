{
 "cells": [
  {
   "cell_type": "markdown",
   "id": "7f903273",
   "metadata": {},
   "source": [
    "# 1\n"
   ]
  },
  {
   "cell_type": "code",
   "execution_count": 2,
   "id": "b5127fc7",
   "metadata": {},
   "outputs": [
    {
     "name": "stdout",
     "output_type": "stream",
     "text": [
      "Enter your string : babol is a beautiful city babol is very big\n",
      "{'babol': 2, 'is': 2, 'a': 1, 'beautiful': 1, 'city': 1, 'very': 1, 'big': 1}\n"
     ]
    }
   ],
   "source": [
    "def word_count(str):\n",
    "    '''\n",
    "    \n",
    "    This is a function of word repetition\n",
    "    \n",
    "    parameters :\n",
    "        \n",
    "         counts : a dictionary\n",
    "        \n",
    "         words : Input string\n",
    "    \n",
    "    returns : word repetition\n",
    "    \n",
    "    '''\n",
    "    \n",
    "    counts = dict()\n",
    "    words = str.split()\n",
    "\n",
    "    for word in words:\n",
    "        if word in counts:\n",
    "            counts[word] += 1\n",
    "        else:\n",
    "            counts[word] = 1\n",
    "\n",
    "    return counts\n",
    "\n",
    "x = input('Enter your string : ')\n",
    "print(word_count(x))\n"
   ]
  },
  {
   "cell_type": "markdown",
   "id": "e04df1d6",
   "metadata": {},
   "source": [
    "# 3"
   ]
  },
  {
   "cell_type": "code",
   "execution_count": 6,
   "id": "f8ba2987",
   "metadata": {},
   "outputs": [
    {
     "name": "stdout",
     "output_type": "stream",
     "text": [
      "Enter the number (Enter 0 for exit) : 20\n",
      "Enter the number (Enter 0 for exit) : 18\n",
      "Enter the number (Enter 0 for exit) : 19\n",
      "Enter the number (Enter 0 for exit) : 13\n",
      "Enter the number (Enter 0 for exit) : 0\n",
      "17.5\n",
      "********************\n",
      "Average is : 17.5\n",
      "********************\n",
      "Variance is : 9.666666666666666\n",
      "********************\n",
      "sedev is : 3.1091263510296048\n",
      "********************\n",
      "max is : 20 , min is : 13\n",
      "********************\n"
     ]
    },
    {
     "data": {
      "image/png": "[encoded data removed]",
      "text/plain": [
       "<Figure size 432x288 with 1 Axes>"
      ]
     },
     "metadata": {
      "needs_background": "light"
     },
     "output_type": "display_data"
    }
   ],
   "source": [
    "import statistics\n",
    "from matplotlib import pyplot as plt\n",
    "my_list = []\n",
    "y = int(input('Enter the number (Enter 0 for exit) : '))\n",
    "while y != 0:\n",
    "    my_list.append(y)\n",
    "    y = int(input('Enter the number (Enter 0 for exit) : ')) \n",
    "    \n",
    "a = statistics.mean(my_list)\n",
    "v = statistics.variance(my_list)\n",
    "e = statistics.stdev(my_list)\n",
    "m = statistics.mode(my_list)\n",
    "print(a)\n",
    "print('*'*20)\n",
    "print(f'Average is : {a}')\n",
    "print('*'*20)\n",
    "print(f'Variance is : {v}')\n",
    "print('*'*20)\n",
    "print(f'sedev is : {e}')\n",
    "print('*'*20)\n",
    "print(f'max is : {max(my_list)} , min is : {min(my_list)}')\n",
    "print('*'*20)\n",
    "plt.hist(my_list , 10)\n",
    "plt.show()\n",
    "print('*'*20)\n",
    "print(f'mode is : {m}')\n",
    "print('*'*20)\n",
    "\n",
    "\n",
    "    \n",
    "   "
   ]
  },
  {
   "cell_type": "markdown",
   "id": "3de6d7cd",
   "metadata": {},
   "source": [
    "# 4"
   ]
  },
  {
   "cell_type": "code",
   "execution_count": 1,
   "id": "4a227113",
   "metadata": {},
   "outputs": [
    {
     "name": "stdout",
     "output_type": "stream",
     "text": [
      "Enter your file name : (Enter blank line for exit : )cartoon.py\n",
      "Enter your file name : (Enter blank line for exit : )film.mp4\n",
      "Enter your file name : (Enter blank line for exit : )iran.mp3\n",
      "Enter your file name : (Enter blank line for exit : )tehran.mp3\n",
      "Enter your file name : (Enter blank line for exit : )mazandaran.py\n",
      "Enter your file name : (Enter blank line for exit : )fifa.exe\n",
      "Enter your file name : (Enter blank line for exit : )\n",
      " jpg list is :  []\n",
      "--------------------\n",
      " mp4 list is :  [['film', 'mp4']]\n",
      "--------------------\n",
      " mp3 list is :  [['iran', 'mp3'], ['tehran', 'mp3']]\n",
      "--------------------\n",
      " py list is :  [['cartoon', 'py'], ['mazandaran', 'py']]\n",
      "--------------------\n",
      " exe list is :  [['fifa', 'exe']]\n"
     ]
    }
   ],
   "source": [
    "my_list = []\n",
    "jpg_list = []\n",
    "mp4_list = []\n",
    "mp3_list = []\n",
    "py_list = []\n",
    "exe_list = []\n",
    "\n",
    "x = input('Enter your file name : (Enter blank line for exit : )')\n",
    "while x != \"\":\n",
    "    my_list.append(x)\n",
    "    x = input('Enter your file name : (Enter blank line for exit : )')\n",
    "new_list = []    \n",
    "for i in my_list:\n",
    "    y = i.split('.')\n",
    "    new_list.append(y)\n",
    "    \n",
    "for j in new_list:\n",
    "    if 'jpg' in j:\n",
    "        jpg_list.append(j)\n",
    "    if 'mp4' in j:\n",
    "        mp4_list.append(j)\n",
    "    if 'py' in j:\n",
    "        py_list.append(j)\n",
    "    if 'exe' in j:\n",
    "        exe_list.append(j)\n",
    "    if 'mp3' in j:\n",
    "        mp3_list.append(j)    \n",
    "    \n",
    "        \n",
    "print(' jpg list is : ' , jpg_list)\n",
    "print('-'*20)\n",
    "print(' mp4 list is : ' , mp4_list)\n",
    "print('-'*20)\n",
    "print(' mp3 list is : ' , mp3_list)\n",
    "print('-'*20)\n",
    "print(' py list is : ' , py_list)\n",
    "print('-'*20)\n",
    "print(' exe list is : ' , exe_list)"
   ]
  },
  {
   "cell_type": "markdown",
   "id": "91c9a63a",
   "metadata": {},
   "source": [
    "# 5"
   ]
  },
  {
   "cell_type": "code",
   "execution_count": 19,
   "id": "6dd159e2",
   "metadata": {},
   "outputs": [
    {
     "name": "stdout",
     "output_type": "stream",
     "text": [
      "{'b': 4, 'c': 3, 'a': 2, 'd': 1, 'e': 0}\n"
     ]
    }
   ],
   "source": [
    " x = {'a': 2, 'b': 4, 'c': 3, 'd': 1, 'e': 0}\n",
    "print({k: v for k, v in sorted(x.items(), key=lambda item: item[1],reverse=True)})\n"
   ]
  }
 ],
 "metadata": {
  "kernelspec": {
   "display_name": "Python 3 (ipykernel)",
   "language": "python",
   "name": "python3"
  },
  "language_info": {
   "codemirror_mode": {
    "name": "ipython",
    "version": 3
   },
   "file_extension": ".py",
   "mimetype": "text/x-python",
   "name": "python",
   "nbconvert_exporter": "python",
   "pygments_lexer": "ipython3",
   "version": "3.9.7"
  }
 },
 "nbformat": 4,
 "nbformat_minor": 5
}
