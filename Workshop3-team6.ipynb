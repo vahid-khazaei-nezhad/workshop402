{
 "cells": [
  {
   "cell_type": "markdown",
   "id": "f19f0959",
   "metadata": {},
   "source": [
    "# Excersize \n",
    "<br>\n",
    "<div style=\"direction:rtl; color:blue; font-size:150%;\">\n",
    "تابعی بنویسید که دو ضلع کوتاه تر یک مثلث قائم الزاویه را از ورودی دریافت کرده و اندازه وتر را برگرداند.\n",
    "<br>\n"
   ]
  },
  {
   "cell_type": "code",
   "execution_count": 1,
   "id": "371b197a",
   "metadata": {},
   "outputs": [],
   "source": [
    "def value_of_hypotenuse(sideA,sideB):\n",
    "    '''\n",
    "    this is a function for calculating the value of hypotenuse\n",
    "    \n",
    "        parametrs:\n",
    "            - side1: upper side\n",
    "            - side2: lower side\n",
    "        \n",
    "        return:\n",
    "            -value of hypotenuse\n",
    "        \n",
    "    '''\n",
    "    from math import sqrt,pow\n",
    "    \n",
    "    return (sqrt(pow(sideA,2)+pow(sideB,2)))"
   ]
  },
  {
   "cell_type": "code",
   "execution_count": 2,
   "id": "1522437b",
   "metadata": {},
   "outputs": [
    {
     "name": "stdout",
     "output_type": "stream",
     "text": [
      "Enter the side: 5\n",
      "Enter the other side: 8\n"
     ]
    },
    {
     "data": {
      "text/plain": [
       "9.433981132056603"
      ]
     },
     "execution_count": 2,
     "metadata": {},
     "output_type": "execute_result"
    }
   ],
   "source": [
    "sideA = float(input(\"Enter the side: \"))\n",
    "\n",
    "sideB = float(input(\"Enter the other side: \"))\n",
    "\n",
    "value_of_hypotenuse(sideA,sideB)"
   ]
  },
  {
   "cell_type": "markdown",
   "id": "31dbd3b2",
   "metadata": {},
   "source": [
    "# Excersize \n",
    "<br>\n",
    "<div style=\"direction:rtl; color:blue; font-size:150%;\">\n",
    "نحوه محاسبه کرایه تاکسی براساس مسافت طی شده بر حسب کیلومتر است. به این صورت که مبلغ ورودی و برای 10 کیلومتر اول معادل 4 دلار و به ازای هر کیلومتر اضافی 0.25 دلار به کرایه افزوده می شود. برنامه ای بنویسید که کرایه تاکسی(تاکسی متر) را محاسبه نماید. \n",
    "<br>\n"
   ]
  },
  {
   "cell_type": "code",
   "execution_count": null,
   "id": "f8e5d55e",
   "metadata": {},
   "outputs": [],
   "source": [
    "Distance = int (input('please enter the distance travelled: '))\n",
    "if Distance < 10 :\n",
    "    print('Your fare will be 4$')\n",
    "else:\n",
    "    Distance = Distance - 10\n",
    "    Fare = float(4 + (Distance*0.25))\n",
    "    print('Your fare will be ',Fare)"
   ]
  },
  {
   "cell_type": "markdown",
   "id": "4640c233",
   "metadata": {
    "run_control": {
     "marked": true
    }
   },
   "source": [
    "# Excersize \n",
    "<br>\n",
    "<div style=\"direction:rtl; color:blue; font-size:150%;\">\n",
    "برنامه ای بنویسید که سه عدد از ورودی را دریافت نموده و مقدار میانه \n",
    "(Median)\n",
    "را به عنوان نتیجه در خروجی بازگرداند.\n",
    "    برنامه را در قالب یک \n",
    "    main\n",
    "    فایل پیاده سازی نمائید که بتوان آن را در برنامه \n",
    "    import \n",
    "    نمود.\n",
    "</div>\n",
    "    "
   ]
  },
  {
   "cell_type": "code",
   "execution_count": 33,
   "id": "cf8ec5ec",
   "metadata": {},
   "outputs": [],
   "source": [
    "def median(a,b,c):\n",
    "    '''\n",
    "    this is a function for calculating the median of given numbers\n",
    "    \n",
    "        parametrs:\n",
    "            - a: first number\n",
    "            - b: second number\n",
    "            - c: third number\n",
    "    '''\n",
    "    if b < a and a < c:\n",
    "        print(a)\n",
    "    elif c < a and a < b:\n",
    "        print(a)\n",
    "    \n",
    "    elif c < b and b < a:\n",
    "        print(b)\n",
    "    elif a < b and b < z:\n",
    "        print(b)\n",
    "    \n",
    "    elif b < c and c < a:\n",
    "        print(c)    \n",
    "    elif a < c and c < b:\n",
    "        print(c)"
   ]
  },
  {
   "cell_type": "code",
   "execution_count": 34,
   "id": "ebce0d66",
   "metadata": {},
   "outputs": [],
   "source": [
    "def main():\n",
    "    \n",
    "    firstNumber = float(input(\"Enter the first number: \"))\n",
    "    \n",
    "    secondNumber = float(input(\"Enter the second number: \"))\n",
    "    \n",
    "    thirdNumber = float(input(\"Enter the third number: \"))\n",
    "    \n",
    "    median(firstNumber,secondNumber,thirdNumber)\n",
    "    \n",
    "    "
   ]
  },
  {
   "cell_type": "code",
   "execution_count": 35,
   "id": "0564c64b",
   "metadata": {},
   "outputs": [
    {
     "name": "stdout",
     "output_type": "stream",
     "text": [
      "Enter the first number: 6\n",
      "Enter the first number: 2\n",
      "Enter the first number: 4\n",
      "4.0\n"
     ]
    }
   ],
   "source": [
    "main()"
   ]
  },
  {
   "cell_type": "markdown",
   "id": "53e92f2f",
   "metadata": {},
   "source": [
    "# Excersize \n",
    "<br>\n",
    "<div style=\"direction:rtl; color:blue; font-size:150%;\">\n",
    "برنامه ای بنویسید که یک متن رشته ای از کاربر دریافت نموده و آن را درست در وسط ترمینال خروجی چاپ نماید. برای این کار تابعی بنویسید که به عنوان پارامتر اول رشته و به عنوان پارامتر دوم عرض ترمینال برجسب کاراکتر را دریافت نماید و خروجی تابع یک رشته است که متن  در وسط ان قرار داده شده است.\n",
    "</div>"
   ]
  },
  {
   "cell_type": "code",
   "execution_count": 95,
   "id": "bd81d171",
   "metadata": {
    "scrolled": false
   },
   "outputs": [],
   "source": [
    "def MidPrinter(yourString, width):\n",
    "    ''' \n",
    "    This is a function to write a string variable in a terminal\n",
    "        \n",
    "        parameters:\n",
    "        - YourString: the string that you want to write inside your terminal\n",
    "        - Width: Width of the terminal\n",
    "    '''\n",
    "    if width % 2 == 1:\n",
    "        width = width + 1\n",
    "    num = width/2\n",
    "    print(f'{\"*\"}'*int(num),yourString,f'{\"*\"}'*int(num))"
   ]
  },
  {
   "cell_type": "code",
   "execution_count": 96,
   "id": "341d38c0",
   "metadata": {},
   "outputs": [
    {
     "name": "stdout",
     "output_type": "stream",
     "text": [
      "***** hoho *****\n"
     ]
    }
   ],
   "source": [
    "MidPrinter(\"hoho\", 10)\n"
   ]
  },
  {
   "cell_type": "markdown",
   "id": "ccfbfed6",
   "metadata": {},
   "source": [
    "# Excersize \n",
    "<br>\n",
    "<div style=\"direction:rtl; color:blue; font-size:150%;\">\n",
    "برنامه ای بنویسید که طول سه ضلع را از ورودی دریافت کرده و در خروجی نشان دهد آیا با آن سه ضلع می توان یک مثلث رسم نمود یا نه\n",
    "</div>"
   ]
  },
  {
   "cell_type": "code",
   "execution_count": 7,
   "id": "b5eae230",
   "metadata": {},
   "outputs": [],
   "source": [
    "def check_triangle(a,b,c):\n",
    "    '''\n",
    "    this is a function for checking if a triabgle can be made with given lengths\n",
    "    \n",
    "        parametrs:\n",
    "            - a: first length\n",
    "            - b: second length\n",
    "            - c: third length\n",
    "    '''\n",
    "    \n",
    "    if a + b >= c and b + c >= a and c + a >= b:\n",
    "        print(\"Triangle can be made!\")\n",
    "        \n",
    "    else:\n",
    "        print(\"Triangle cannot be made!\")\n",
    "    "
   ]
  },
  {
   "cell_type": "code",
   "execution_count": 8,
   "id": "caa2dce7",
   "metadata": {},
   "outputs": [
    {
     "name": "stdout",
     "output_type": "stream",
     "text": [
      "Enter the first Length: 4\n",
      "Enter the second Length: 4\n",
      "Enter the third Length: 4\n",
      "Triangle can be made!\n"
     ]
    }
   ],
   "source": [
    "    firstLength = float(input(\"Enter the first Length: \"))\n",
    "    \n",
    "    secondLength = float(input(\"Enter the second Length: \"))\n",
    "    \n",
    "    thirdLength = float(input(\"Enter the third Length: \"))\n",
    "    \n",
    "    check_triangle(firstLength,secondLength,thirdLength)"
   ]
  },
  {
   "cell_type": "markdown",
   "id": "7e3b75e7",
   "metadata": {
    "run_control": {
     "marked": true
    }
   },
   "source": [
    "# Excersize \n",
    "<br>\n",
    "<div style=\"direction:rtl; color:blue; font-size:150%;\">\n",
    "برنامه ای بنویسید که یک رشته به زبان انگلیسی را از ورودی دریافت نموده و در خروجی کاراکترهای زیر را به حروف بزرگ\n",
    "Capitalize\n",
    "کرده باشد.\n",
    "</div>\n",
    "<div style=\"direction:rtl; color:blue; font-size:150%;\">\n",
    "    <br>\n",
    "    • Capitalize the first non-space character in the string,\n",
    "    <br>\n",
    "    • Capitalize the first non-space character after a period, exclamationmark or question\n",
    "        mark, and\n",
    "    <br>\n",
    "    • Capitalize a lowercase “i” if it is preceded by a space and followed by a space,\n",
    "        period, exclamation mark, question mark or apostrophe.\n",
    "    <br>\n",
    "    \n",
    "</div>\n",
    "<br>\n"
   ]
  },
  {
   "cell_type": "code",
   "execution_count": 159,
   "id": "8a223fcd",
   "metadata": {},
   "outputs": [
    {
     "name": "stdout",
     "output_type": "stream",
     "text": [
      "Enter a string: haha lol\n",
      "Haha Lol\n"
     ]
    }
   ],
   "source": [
    "import string\n",
    "\n",
    "s = input(\"Enter a string: \")\n",
    "\n",
    "s2 = string.capwords(s)\n",
    "\n",
    "for i in range (len(s2)):\n",
    "\n",
    "    if s2[i] in ['.', '?', '!']:\n",
    "        j = i+1\n",
    "        if s2[j].islower():\n",
    "            s3 = s2[j-1:] + s2[j].upper() + s2[j-1:]\n",
    "       \n",
    "    \n",
    "    if s2[i] == 'i' and s2[i-1] in ['.','!','?',',',' ']:\n",
    "        s2[i].upper() \n",
    "\n",
    "\n",
    "print(s2)\n",
    "\n"
   ]
  },
  {
   "cell_type": "markdown",
   "id": "54d7083a",
   "metadata": {},
   "source": [
    "# Excersize \n",
    "<br>\n",
    "<div style=\"direction:rtl; color:blue; font-size:150%;\">\n",
    "برنامه ای بنویسید که یک رشته را از ورودی دریافت نموده و بررسی نماید که آیا تمام کاراکترهای موجود در آن مقادیر اینتیجر هستند یا نه؟\n",
    "برای بررسی رشته حتما ابتدا فضای خالی ابتدا و انتهای رشته را حذف نمائید.\n",
    "</div>\n"
   ]
  },
  {
   "cell_type": "code",
   "execution_count": 12,
   "id": "377f0dc6",
   "metadata": {},
   "outputs": [
    {
     "name": "stdout",
     "output_type": "stream",
     "text": [
      "Enter a string: llp533\n",
      "No, llp533 is not integer only\n"
     ]
    }
   ],
   "source": [
    "\n",
    "stringA = input(\"Enter a string: \")\n",
    "    \n",
    "if stringA.isnumeric():\n",
    "    \n",
    "    print(f'Yes, {stringA} is integer only')\n",
    "\n",
    "else:\n",
    "    \n",
    "    print(f'No, {stringA} is not integer only')"
   ]
  },
  {
   "cell_type": "markdown",
   "id": "6bf1e98c",
   "metadata": {},
   "source": [
    "# Excersize \n",
    "<br>\n",
    "<div style=\"direction:rtl; color:blue; font-size:150%;\">\n",
    "برنامه ای بنویسید که یک پسورد تصادفی به طول 7 الی 10 کاراکتر تولید کند. پسورد باید براساس کد اسکی حاوی حروف کوچک، حروف بزرگ، اعداد و کاراکترهای زیر باشد\n",
    "{-, _, *, @, #, ~, !, +, *}\n",
    "</div>"
   ]
  },
  {
   "cell_type": "code",
   "execution_count": null,
   "id": "38c1337f",
   "metadata": {},
   "outputs": [],
   "source": [
    "def PasswordGenerator():\n",
    "    '''\n",
    "    this function generates a random 7-10 character long password that contains capital and small letters, numbers and symbols.\n",
    "    '''\n",
    "import random\n",
    "import string\n",
    "\n",
    "characters = list(string.ascii_letters + string.digits + \"-_*@#~!+*\")\n",
    "\n",
    "\n",
    "lengths = [7, 8, 9, 10]\n",
    "    \n",
    "length = random.choice(lengths)\n",
    "\n",
    "random.shuffle(characters)\n",
    "\n",
    "\n",
    "password = []\n",
    "for i in range(length):\n",
    "    password.append(random.choice(characters))\n",
    "\n",
    "\n",
    "random.shuffle(password)\n",
    "\n",
    "\n",
    "\n",
    "print(\"\".join(password))\n",
    "    "
   ]
  },
  {
   "cell_type": "markdown",
   "id": "bdecda6d",
   "metadata": {},
   "source": [
    "# Excersize \n",
    "<br>\n",
    "<div style=\"direction:rtl; color:blue; font-size:150%;\">\n",
    "برنامه ای بنویسید که معتبر بودن یک پسور را براساس قوانین زیر بررسی کند.\n",
    "    1- طول پسورد حداقل 8 کاراکتر باشد\n",
    "    2- پسورد حتما حاوی حروف کوچک، بزرگ، اعداد و کاراکترهای خاص تمرین 8 باشد\n",
    "</div>"
   ]
  },
  {
   "cell_type": "code",
   "execution_count": 46,
   "id": "58d9a74e",
   "metadata": {},
   "outputs": [],
   "source": [
    "def password_checker(password):\n",
    "    '''\n",
    "    this is a function for checking a password\n",
    "    \n",
    "        parametrs:\n",
    "            - password: the password that user enters\n",
    "    \n",
    "    '''\n",
    "    if len(password) < 8:\n",
    "        print(\"error! it must be 8 or more characters\")\n",
    "        return\n",
    "###   \n",
    "    upperCaseStatus = False\n",
    "    \n",
    "    for i in password:\n",
    "        if i.isupper():\n",
    "            upperCaseStatus = True\n",
    "            break\n",
    "    \n",
    "    if upperCaseStatus == False:\n",
    "        print(\"Uppercase is needed!\")\n",
    "        return\n",
    "###          \n",
    "    \n",
    "    lowerCaseStatus = False\n",
    "  \n",
    "    for i in password:\n",
    "        if i.islower():\n",
    "            lowerCaseStatus = True\n",
    "            break\n",
    "    \n",
    "    if lowerCaseStatus == False:\n",
    "        print(\"Lowercase is needed!\")\n",
    "        return\n",
    "###        \n",
    "   \n",
    "    specialCaseStatus = False\n",
    "    \n",
    "    for i in password:\n",
    "        if i.isalnum():\n",
    "            specialCaseStatus = False\n",
    "        else:\n",
    "            specialCaseStatus = True\n",
    "            break\n",
    "    \n",
    "    if specialCaseStatus == False:\n",
    "        print(\"Special characters needed!\")\n",
    "        return \n",
    "###        \n",
    "    \n",
    "    numberStatus = False\n",
    "  \n",
    "    for i in password:\n",
    "        if i.isdigit():\n",
    "            numberStatus = True\n",
    "            break\n",
    "    \n",
    "    if numberStatus == False:\n",
    "        print(\"Number is needed!\")\n",
    "        return\n",
    "###        \n",
    "\n",
    "    print(\"your password is good!\")        "
   ]
  },
  {
   "cell_type": "code",
   "execution_count": 48,
   "id": "504ab289",
   "metadata": {},
   "outputs": [
    {
     "name": "stdout",
     "output_type": "stream",
     "text": [
      "your password is good!\n"
     ]
    }
   ],
   "source": [
    "password_checker(\"ohgrfK0j*=\")"
   ]
  },
  {
   "cell_type": "markdown",
   "id": "49fc2c8f",
   "metadata": {},
   "source": [
    "# Excersize \n",
    "<br>\n",
    "<div style=\"direction:rtl; color:blue; font-size:150%;\">\n",
    "ماژولی پیاده سازی نمائید شامل توابع زیر که بتواند کلیه اعمال مربوط به اعتبارسنجی ورودی توسط کاربر را انجام دهد.\n",
    "    1- بررسی کلیه کارکترهای ورودی عددی باشد\n",
    "    2- بررسی کلیه کاراکترهای ورودی حروف الفبا باشد\n",
    "    3- شماره تلفن فرمت درستی داشته باشد\n",
    "    4- شماره موبایل فرمت درستی داشته باشد\n",
    "    5- آدرس ایمیل فرمت درستی داشته باشد\n",
    "    6- پسورد ورودی مطابق قوانین تعریف شده در تمرین های 7و 8 باشد\n",
    "    7- آدرس پستی شامل کاراکتر، عدد و خط تیره باشد\n",
    "    8- کدپستی مطابق استاندارد ده رقمی و حاوی عدد باشد\n",
    "</div>"
   ]
  },
  {
   "cell_type": "code",
   "execution_count": null,
   "id": "78c56760",
   "metadata": {},
   "outputs": [],
   "source": [
    "def CheckNumber(userinput):\n",
    "    user_input = userinput\n",
    "    if type(user_input) == int:\n",
    "        print('entered value is in numbers')\n",
    "    else:\n",
    "        print('entered value is not in numbers')\n",
    "        \n",
    "        ############\n",
    "        \n",
    "def checkEmail (email)\n",
    "emailStatus = False\n",
    "for i in range (len(email)):\n",
    "\n",
    "    if email[i] in ['@']:\n",
    "        print(\"email is fine\")\n",
    "        emailStatus = True\n",
    "        break\n",
    "    \n",
    "if emailStatus == False:\n",
    "    print(\"email is not fine\")\n",
    "\n",
    "        ###########\n",
    "   \n",
    "        \n",
    "def CheckLetters(userinput):\n",
    "    user_input = userinput\n",
    "    if type(user_input) == str:\n",
    "        print('entered value is in letters')\n",
    "    else:\n",
    "        print('entered value is not in letters')\n",
    "        \n",
    "        ###########\n",
    "        \n",
    "def CheckPhone(userinput):\n",
    "    \n",
    "    Num = len(str(userinput))\n",
    "    if Num != 8:\n",
    "         print('phone numbers should be 8 numbers long!')\n",
    "            \n",
    "        ###########\n",
    "            \n",
    "            \n",
    "def CheckMobile(userinput):\n",
    "    '''\n",
    "    checks if mobile number has 11 digits and if it starts with 09.\n",
    "    \n",
    "        parameters:\n",
    "            - userinput: mobile number that user enters\n",
    "    '''\n",
    "    Num = len(str(userinput))\n",
    "    if Num != 11:\n",
    "         print('phone numbers should be 11 numbers long!')\n",
    "    if userinput[0] != 0:\n",
    "        print('invalid format')\n",
    "    if userinput[1] != 9:\n",
    "        print('invalid format')\n",
    "        \n",
    "        ###########\n",
    "        \n",
    "def password_checker(password):\n",
    "    '''\n",
    "    this is a function for checking a password\n",
    "    \n",
    "        parametrs:\n",
    "            - password: the password that user enters\n",
    "    \n",
    "    '''\n",
    "    if len(password) < 8:\n",
    "        print(\"error! it must be 8 or more characters\")\n",
    "        return\n",
    "###   \n",
    "    upperCaseStatus = False\n",
    "    \n",
    "    for i in password:\n",
    "        if i.isupper():\n",
    "            upperCaseStatus = True\n",
    "            break\n",
    "    \n",
    "    if upperCaseStatus == False:\n",
    "        print(\"Uppercase is needed!\")\n",
    "        return\n",
    "###          \n",
    "    \n",
    "    lowerCaseStatus = False\n",
    "  \n",
    "    for i in password:\n",
    "        if i.islower():\n",
    "            lowerCaseStatus = True\n",
    "            break\n",
    "    \n",
    "    if lowerCaseStatus == False:\n",
    "        print(\"Lowercase is needed!\")\n",
    "        return\n",
    "###        \n",
    "   \n",
    "    specialCaseStatus = False\n",
    "    \n",
    "    for i in password:\n",
    "        if i.isalnum():\n",
    "            specialCaseStatus = False\n",
    "        else:\n",
    "            specialCaseStatus = True\n",
    "            break\n",
    "    \n",
    "    if specialCaseStatus == False:\n",
    "        print(\"Special characters needed!\")\n",
    "        return \n",
    "###        \n",
    "    \n",
    "    numberStatus = False\n",
    "  \n",
    "    for i in password:\n",
    "        if i.isdigit():\n",
    "            numberStatus = True\n",
    "            break\n",
    "    \n",
    "    if numberStatus == False:\n",
    "        print(\"Number is needed!\")\n",
    "        return\n",
    "###        \n",
    "\n",
    "    print(\"your password is good!\")  \n",
    "  \n",
    "\n",
    "        ###########\n",
    "\n",
    "\n",
    "\n",
    "def AdressChecker(userinput):\n",
    "    '''\n",
    "    this is a function for checking an adress\n",
    "    \n",
    "        parametrs:\n",
    "            - adress: the adress that user enters\n",
    "    \n",
    "    '''\n",
    "     \n",
    "   \n",
    "    UnderlineStatus = False\n",
    "    \n",
    "    \n",
    "    if ('-' in userinput):\n",
    "            UnderlineStatus = True\n",
    "    if ('_' in userinput):\n",
    "            UnderlineStatus = True\n",
    "    \n",
    "    if UnderlineeStatus == False:\n",
    "        print(\"Please include underlines in your adress.\")\n",
    "        return \n",
    "###        \n",
    "    \n",
    "    numberStatus = False\n",
    "  \n",
    "    if any(chr.isdigit() for chr in userinput):\n",
    "        numberStatus = true\n",
    "    if numberStatus == False:\n",
    "        print(\"Number is needed!\")\n",
    "        return\n",
    "###        \n",
    "\n",
    "    letterStatus = False\n",
    "  \n",
    "    for i in userinput:\n",
    "        if i.isalpha():\n",
    "            letterStatus = True\n",
    "            break\n",
    "    \n",
    "    if letterStatus == False:\n",
    "        print(\"You need to include letters in the adress!\")\n",
    "        return\n",
    "\n",
    "\n",
    "    print(\"acceptable adress\")\n",
    "\n",
    "    ##########\n",
    "    \n",
    "def CheckPostalCode(userinput):\n",
    "\n",
    "    numberStatus = False\n",
    "    \n",
    "    if len(userinput) != 10:\n",
    "        print(\"Postal code needs to contain 10 digits.\")\n",
    "        return\n",
    "  \n",
    "    if any(chr.isdigit() for chr in userinput):\n",
    "        numberStatus = True\n",
    "    if numberStatus == False:\n",
    "        print(\"Number is needed!\")\n",
    "        return\n",
    "    \n",
    "            "
   ]
  }
 ],
 "metadata": {
  "kernelspec": {
   "display_name": "Python 3 (ipykernel)",
   "language": "python",
   "name": "python3"
  },
  "language_info": {
   "codemirror_mode": {
    "name": "ipython",
    "version": 3
   },
   "file_extension": ".py",
   "mimetype": "text/x-python",
   "name": "python",
   "nbconvert_exporter": "python",
   "pygments_lexer": "ipython3",
   "version": "3.9.7"
  },
  "toc": {
   "base_numbering": 1,
   "nav_menu": {
    "height": "180px",
    "width": "202px"
   },
   "number_sections": true,
   "sideBar": true,
   "skip_h1_title": false,
   "title_cell": "Table of Contents",
   "title_sidebar": "Contents",
   "toc_cell": false,
   "toc_position": {},
   "toc_section_display": true,
   "toc_window_display": false
  },
  "varInspector": {
   "cols": {
    "lenName": 16,
    "lenType": 16,
    "lenVar": 40
   },
   "kernels_config": {
    "python": {
     "delete_cmd_postfix": "",
     "delete_cmd_prefix": "del ",
     "library": "var_list.py",
     "varRefreshCmd": "print(var_dic_list())"
    },
    "r": {
     "delete_cmd_postfix": ") ",
     "delete_cmd_prefix": "rm(",
     "library": "var_list.r",
     "varRefreshCmd": "cat(var_dic_list()) "
    }
   },
   "types_to_exclude": [
    "module",
    "function",
    "builtin_function_or_method",
    "instance",
    "_Feature"
   ],
   "window_display": false
  }
 },
 "nbformat": 4,
 "nbformat_minor": 5
}
