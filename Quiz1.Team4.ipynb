{
 "cells": [
  {
   "cell_type": "code",
   "execution_count": 8,
   "metadata": {},
   "outputs": [
    {
     "name": "stdout",
     "output_type": "stream",
     "text": [
      "....\n",
      ".\n",
      ".-..\n",
      ".-..\n",
      "---\n",
      "None\n",
      ".--\n",
      "---\n",
      ".-.\n",
      ".-..\n",
      "-..\n"
     ]
    }
   ],
   "source": [
    "#Question 1\n",
    "\n",
    "user_input = input(\"Enter the text for convering to morse code: \")\n",
    "user_input = user_input.upper()\n",
    "\n",
    "morse_code = {  'A':'.-', 'B':'-...',\n",
    "                    'C':'-.-.', 'D':'-..', 'E':'.',\n",
    "                    'F':'..-.', 'G':'--.', 'H':'....',\n",
    "                    'I':'..', 'J':'.---', 'K':'-.-',\n",
    "                    'L':'.-..', 'M':'--', 'N':'-.',\n",
    "                    'O':'---', 'P':'.--.', 'Q':'--.-',\n",
    "                    'R':'.-.', 'S':'...', 'T':'-',\n",
    "                    'U':'..-', 'V':'...-', 'W':'.--',\n",
    "                    'X':'-..-', 'Y':'-.--', 'Z':'--..',\n",
    "                    '1':'.----', '2':'..---', '3':'...--',\n",
    "                    '4':'....-', '5':'.....', '6':'-....',\n",
    "                    '7':'--...', '8':'---..', '9':'----.',\n",
    "                    '0':'-----', ', ':'--..--', '.':'.-.-.-',\n",
    "                    '?':'..--..', '/':'-..-.', '-':'-....-',\n",
    "                    '(':'-.--.', ')':'-.--.-'}\n",
    "\n",
    "for i in range(0, len(user_input)):\n",
    "    print(morse_code.get(user_input[i]))                    "
   ]
  },
  {
   "cell_type": "code",
   "execution_count": 2,
   "metadata": {},
   "outputs": [
    {
     "name": "stdout",
     "output_type": "stream",
     "text": [
      "seven hundred sixty five\n"
     ]
    }
   ],
   "source": [
    "#Question 2\n",
    "\n",
    "number = {0: \"zero\", 1: \"one\" , 2: 'two', 3: 'three', 4: 'four',\n",
    "          5: 'five', 6: 'six', 7: 'seven', 8: 'eight', 9: 'nine',\n",
    "          10: \"ten\",11:\"eleven\",12:\"twelve\",13:\"thirteen\",\n",
    "          14:\"fourteen\",15:\"fifteen\",16:\"sixteen\",17:\"seventeen\",18:\"eighteen\",       \n",
    "          19:\"ninteen\",20: \"twenty\", 30: \"thirty\", 40: \"forty\", 50: \"fifty\",\n",
    "          60: \"sixty\", 70: \"seventy\", 80: \"eighty\", 90: \"ninty\"}\n",
    "\n",
    "user_input = int(input(\"Enter the number that you wanna convert: \"))\n",
    "\n",
    "lenght = len(str(user_input))\n",
    "\n",
    "if lenght == 1:\n",
    "    print(number[user_input])\n",
    "\n",
    "elif lenght == 2:\n",
    "    if 9 < user_input < 21:\n",
    "        print(number[user_input])\n",
    "\n",
    "    else:\n",
    "        single_digits = user_input % 10\n",
    "        two_digits = user_input - single_digits\n",
    "        print(number[two_digits], \"and\", number[single_digits])\n",
    "\n",
    "elif lenght == 3:\n",
    "    single_digits = user_input % 10\n",
    "    two_digits = int((user_input/10) % 10)\n",
    "    tens = int(user_input/100)\n",
    "    print(number[tens], \"hundred\", number[two_digits*10],number[single_digits])"
   ]
  },
  {
   "cell_type": "code",
   "execution_count": 48,
   "metadata": {},
   "outputs": [
    {
     "name": "stdout",
     "output_type": "stream",
     "text": [
      "No\n"
     ]
    }
   ],
   "source": [
    "#Question 3\n",
    "\n",
    "string1 = input('Enter the first word: ')\n",
    "string2 = input('Enter the second word: ')\n",
    "\n",
    "def sortString(s1, s2):\n",
    "    sorted_string1 = ''.join(sorted(s1.lower()))\n",
    "    sorted_string2 = ''.join(sorted(s2.lower()))\n",
    "    \n",
    "    if sorted_string1 == sorted_string2:\n",
    "        print(\"Yes\")\n",
    "    else:\n",
    "        print(\"No\")    \n",
    "\n",
    "sortString(string1, string2)                  "
   ]
  },
  {
   "cell_type": "code",
   "execution_count": 14,
   "metadata": {},
   "outputs": [
    {
     "name": "stdout",
     "output_type": "stream",
     "text": [
      "For the charecter  H  you have to push the  4  button for  2  time\n",
      "For the charecter  E  you have to push the  3  button for  2  time\n",
      "For the charecter  L  you have to push the  5  button for  3  time\n",
      "For the charecter  L  you have to push the  5  button for  3  time\n",
      "For the charecter  O  you have to push the  6  button for  3  time\n",
      "For the charecter     you have to push the  0  button for  1  time\n",
      "For the charecter  W  you have to push the  9  button for  1  time\n",
      "For the charecter  O  you have to push the  6  button for  3  time\n",
      "For the charecter  R  you have to push the  7  button for  3  time\n",
      "For the charecter  L  you have to push the  5  button for  3  time\n",
      "For the charecter  D  you have to push the  3  button for  1  time\n"
     ]
    }
   ],
   "source": [
    "#Question 4\n",
    "\n",
    "keys = { '.':[1, 1], ',':[2, 1], '!':[3, 1], '?':[4, 1], ':':[5, 1], 'A':[1, 2], 'B':[2, 2], 'C':[3, 2], \n",
    "         'D':[1, 3], 'E':[2, 3], 'F':[3, 3], 'G':[1, 4], 'H':[2, 4], 'I':[3, 4], \n",
    "         'J':[1, 5], 'K':[2, 5], 'L':[3, 5], 'M':[1, 6], 'N':[2, 6], 'O':[3, 6],\n",
    "         'P':[1, 7], 'Q':[2, 7], 'R':[3, 7], 'S':[4, 7], 'T':[1, 8], 'U':[2, 8], 'V':[3, 8],\n",
    "         'W':[1, 9], 'X':[2, 9], 'Y':[3, 9], 'Z':[4, 9], ' ':[1, 0]}         \n",
    "\n",
    "user_input = input(\"Enter the text: \")\n",
    "user_input = user_input.upper()\n",
    "\n",
    "for i in range(0, len(user_input)):\n",
    "    a = keys.get(user_input[i])\n",
    "    print(\"For the charecter \", user_input[i], \" you have to push the \", a[1], \" button for \", a[0], \" time\")"
   ]
  },
  {
   "cell_type": "code",
   "execution_count": 20,
   "metadata": {},
   "outputs": [
    {
     "data": {
      "text/plain": [
       "'The number is not ptime'"
      ]
     },
     "execution_count": 20,
     "metadata": {},
     "output_type": "execute_result"
    }
   ],
   "source": [
    "#Question 5\n",
    "\n",
    "user_input = int(input(\"Enter the number: \"))\n",
    "\n",
    "def isprime(num):\n",
    "    for i in range(2, int(num**0.5) + 1):\n",
    "        if num% i == 0:\n",
    "            return \"The number is not ptime\"\n",
    "    else:\n",
    "        def nextprime(n):\n",
    "            p=n+1\n",
    "            for i in range(2,p):\n",
    "                if(p%i==0):\n",
    "                    p=p+1\n",
    "            else:\n",
    "                print(p,end=\" \")\n",
    "    nextprime(num)\n",
    "\n",
    "isprime(user_input)"
   ]
  }
 ],
 "metadata": {
  "interpreter": {
   "hash": "592ee19e34ae6e2a895dc0660bf5db76e185414fa14fd313d40e8a4962ae111b"
  },
  "kernelspec": {
   "display_name": "Python 3.10.4 64-bit",
   "language": "python",
   "name": "python3"
  },
  "language_info": {
   "codemirror_mode": {
    "name": "ipython",
    "version": 3
   },
   "file_extension": ".py",
   "mimetype": "text/x-python",
   "name": "python",
   "nbconvert_exporter": "python",
   "pygments_lexer": "ipython3",
   "version": "3.10.4"
  },
  "orig_nbformat": 4
 },
 "nbformat": 4,
 "nbformat_minor": 2
}
