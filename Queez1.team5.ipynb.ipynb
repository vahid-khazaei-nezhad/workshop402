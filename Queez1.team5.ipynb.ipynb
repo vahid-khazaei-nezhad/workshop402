{
 "cells": [
  {
   "cell_type": "code",
   "execution_count": 47,
   "metadata": {},
   "outputs": [
    {
     "name": "stdout",
     "output_type": "stream",
     "text": [
      "the morse code of this massage [  Ba sakam va vqt bkheyr   ] is :  -... .-  ... .- -.- .- --  ...- .-  ...- --.- -  -... -.- .... . -.-- .-.  \n"
     ]
    }
   ],
   "source": [
    "#Tmrin_1\n",
    "\n",
    "# Dictionary of morse code\n",
    "\n",
    "MORSE_CODE_DICT = { 'A':'.-', 'B':'-...',\n",
    "                    'C':'-.-.', 'D':'-..', 'E':'.',\n",
    "                    'F':'..-.', 'G':'--.', 'H':'....',\n",
    "                    'I':'..', 'J':'.---', 'K':'-.-',\n",
    "                    'L':'.-..', 'M':'--', 'N':'-.',\n",
    "                    'O':'---', 'P':'.--.', 'Q':'--.-',\n",
    "                    'R':'.-.', 'S':'...', 'T':'-',\n",
    "                    'U':'..-', 'V':'...-', 'W':'.--',\n",
    "                    'X':'-..-', 'Y':'-.--', 'Z':'--..',\n",
    "                    '1':'.----', '2':'..---', '3':'...--',\n",
    "                    '4':'....-', '5':'.....', '6':'-....',\n",
    "                    '7':'--...', '8':'---..', '9':'----.',\n",
    "                    '0':'-----', ', ':'--..--', '.':'.-.-.-',\n",
    "                    '?':'..--..', '/':'-..-.', '-':'-....-',\n",
    "                    '(':'-.--.', ')':'-.--.-'}\n",
    "\n",
    "def ramz_goshaii(message) :\n",
    "    \n",
    "    #bray rmz_goshaii rshte vard shde b code morse\n",
    "   \n",
    "    ramz = ''\n",
    "    \n",
    "    for letter in message :\n",
    "        if letter != ' ' :\n",
    "            ramz = ramz + MORSE_CODE_DICT[letter] + ' '\n",
    "        else :\n",
    "            ramz = ramz + ' '\n",
    " \n",
    "    return ramz\n",
    "\n",
    "#end of function\n",
    "\n",
    "message = input(\"enter your message\")\n",
    "\n",
    "result = ramz_goshaii(message.upper())\n",
    "\n",
    "print (\"The morse code of this massage [ \", message ,\"] is : \", result)\n",
    " \n",
    "\n",
    "\n"
   ]
  },
  {
   "cell_type": "code",
   "execution_count": 49,
   "metadata": {},
   "outputs": [
    {
     "name": "stdout",
     "output_type": "stream",
     "text": [
      "456 is : chahar sad o  panjah  o  shish\n"
     ]
    }
   ],
   "source": [
    "#Tmrin_2\n",
    "\n",
    "#dictionary bray tbdil adad b hrof\n",
    "\n",
    "adad = {0: \"sefr\", 1: \"yek\", 2: 'do', 3: 'se', 4: 'chahar',\n",
    "        5: 'panj', 6: 'shish', 7: 'haft', 8: 'hasht', 9: 'noh',\n",
    "        10: \"dah\",11:\"yazdah\",12:\"davazdah\",13:\"sizdah\",\n",
    "        14:\"chahardah\",15:\"ponzdah\",16:\"shanzdah\",17:\"hefdah\",18:\"hejdah\",       \n",
    "        19:\"nozdah\",20: \"bist\", 30: \"si\", 40: \"chehl\", 50: \"panjah\",\n",
    "        60: \"shast\", 70: \"haftad\", 80: \"hashtad\", 90: \"navad\"}\n",
    "\n",
    "vorodi = int((input(\"adad ra vared konin = \")))\n",
    "\n",
    "len_vorodi = len(str(vorodi))\n",
    "\n",
    "#1 raghami\n",
    "\n",
    "if len_vorodi == 1:\n",
    "    print(adad[vorodi])\n",
    "    \n",
    "#2 raghami    \n",
    "\n",
    "elif len_vorodi == 2:\n",
    "    if 9 < vorodi < 21:\n",
    "       print(adad[vorodi])\n",
    "        \n",
    "    else:    \n",
    "         yekan = vorodi % 10\n",
    "    \n",
    "         dahgan = vorodi - yekan\n",
    "    \n",
    "         print(adad[dahgan], \" o \", adad[yekan])\n",
    "\n",
    "#3 raghami\n",
    "\n",
    "elif len_vorodi == 3:\n",
    "    \n",
    "    yekan = vorodi % 10\n",
    "\n",
    "    dahgan = int((vorodi/10) % 10)\n",
    "    \n",
    "    sadgan = int(vorodi/100)\n",
    "    \n",
    "    \n",
    "    print(vorodi , \"is :\",adad[sadgan], \"sad o \", adad[dahgan*10], \" o \", adad[yekan])"
   ]
  },
  {
   "cell_type": "code",
   "execution_count": 50,
   "metadata": {},
   "outputs": [
    {
     "name": "stdout",
     "output_type": "stream",
     "text": [
      "Lists are equal / similar elements with same frequency\n"
     ]
    }
   ],
   "source": [
    "#Tmrin_3\n",
    "\n",
    "def check(list_1 , list_2) :\n",
    "    \n",
    "    \"\"\" \n",
    "    In tabe hrof hr list ra mrtb krde \n",
    "    va bahm moqayse miknd\n",
    "    \n",
    "    \"\"\"\n",
    "    if len(list_1) != len(list_2) :\n",
    "        return False\n",
    "    \n",
    "    return sorted(list_1) == sorted(list_2)\n",
    "\n",
    "#end of function\n",
    "\n",
    "\n",
    "first_list = input(\"list 1:\")\n",
    "\n",
    "first_list = list(first_list)\n",
    "\n",
    "sec_list = input(\"list 1:\")\n",
    "\n",
    "sec_list = list(sec_list)\n",
    "\n",
    "\n",
    "if check(first_list , sec_list) == False :\n",
    "    print(\"Lists are not equal\")\n",
    "else:\n",
    "    print(\"Lists are equal / similar elements with same frequency\")\n",
    "    "
   ]
  },
  {
   "cell_type": "code",
   "execution_count": 53,
   "metadata": {},
   "outputs": [
    {
     "name": "stdout",
     "output_type": "stream",
     "text": [
      "barye S docme 7 ra 4 bar feshar dahid\n",
      "barye L docme 5 ra 3 bar feshar dahid\n",
      "barye A docme 2 ra 1 bar feshar dahid\n",
      "barye M docme 6 ra 1 bar feshar dahid\n",
      "barye   docme 0 ra 1 bar feshar dahid\n",
      "barye V docme 8 ra 3 bar feshar dahid\n",
      "barye Q docme 7 ra 2 bar feshar dahid\n",
      "barye T docme 8 ra 1 bar feshar dahid\n",
      "barye   docme 0 ra 1 bar feshar dahid\n",
      "barye B docme 2 ra 2 bar feshar dahid\n",
      "barye K docme 5 ra 2 bar feshar dahid\n",
      "barye H docme 4 ra 2 bar feshar dahid\n",
      "barye E docme 3 ra 2 bar feshar dahid\n",
      "barye Y docme 9 ra 3 bar feshar dahid\n",
      "barye R docme 7 ra 3 bar feshar dahid\n",
      "barye   docme 0 ra 1 bar feshar dahid\n",
      "barye ? docme 1 ra 3 bar feshar dahid\n",
      "barye   docme 0 ra 1 bar feshar dahid\n",
      "barye ! docme 1 ra 4 bar feshar dahid\n"
     ]
    }
   ],
   "source": [
    "#Tmrin_4\n",
    "\n",
    "#dictionary bray hr hrf chnd bar tkrar\n",
    "\n",
    "docme = {\".\": \"1\", \",\": \"1\", \"?\": \"1\", \"!\": \"1\", \":\": \"1\",\n",
    "         \"A\": \"2\", \"B\": \"2\", \"C\": \"2\",\n",
    "         \"D\": \"3\", \"E\": \"3\", \"F\": \"3\",\n",
    "         \"G\": \"4\", \"H\": \"4\", \"I\": \"4\",\n",
    "         \"J\": \"5\", \"K\": \"5\", \"L\": \"5\",\n",
    "         \"M\": \"6\", \"N\": \"6\", \"O\": \"6\",\n",
    "         \"P\": \"7\", \"Q\": \"7\", \"R\": \"7\", \"S\": \"7\",\n",
    "         \"T\": \"8\", \"U\": \"8\", \"V\": \"8\",\n",
    "         \"W\": \"9\", \"X\": \"9\", \"Y\": \"9\", \"Z\": \"9\",\n",
    "         \" \": \"0\"}\n",
    "\n",
    "#dictionary bray hr hrf kdam klid\n",
    "\n",
    "tedad = {\".\": \"1\", \",\": \"2\", \"?\": \"3\", \"!\": \"4\", \":\": \"5\",\n",
    "         \"A\": \"1\", \"B\": \"2\", \"C\": \"3\",\n",
    "         \"D\": \"1\", \"E\": \"2\", \"F\": \"3\",\n",
    "         \"G\": \"1\", \"H\": \"2\", \"I\": \"3\",\n",
    "         \"J\": \"1\", \"K\": \"2\", \"L\": \"3\",\n",
    "         \"M\": \"1\", \"N\": \"2\", \"O\": \"3\",\n",
    "         \"P\": \"1\", \"Q\": \"2\", \"R\": \"3\", \"S\": \"4\",\n",
    "         \"T\": \"1\", \"U\": \"2\", \"V\": \"3\",\n",
    "         \"W\": \"1\", \"X\": \"2\", \"Y\": \"3\", \"Z\": \"4\",\n",
    "         \" \": \"1\"}\n",
    "\n",
    "\n",
    "vorodi = input(\"harf ra vared konin = \")\n",
    "\n",
    "vorodi_upper = vorodi.upper()\n",
    "\n",
    "\n",
    "l_vorodi = []\n",
    "\n",
    "for i in range(len(vorodi)):\n",
    "    \n",
    "    l_vorodi.append(vorodi[i])\n",
    "    \n",
    "for j in range(len(l_vorodi)):\n",
    "    \n",
    "    print(f\"barye {vorodi_upper[j]} docme {docme[vorodi_upper[j]]} ra {tedad[vorodi_upper[j]]} bar feshar dahid\")"
   ]
  },
  {
   "cell_type": "code",
   "execution_count": null,
   "metadata": {},
   "outputs": [],
   "source": [
    "#Tmrin_5 b 2 ravesh hl shde : library va algoritm"
   ]
  },
  {
   "cell_type": "code",
   "execution_count": 54,
   "metadata": {},
   "outputs": [
    {
     "name": "stdout",
     "output_type": "stream",
     "text": [
      "____________________\n",
      "\n",
      "adad aval badi =  121\n",
      "____________________\n"
     ]
    }
   ],
   "source": [
    "#Tmrin_5 with algoritm\n",
    "\n",
    "vorodi_adad_aval = int(input(\"adad aval ra vared konin = \"))\n",
    "\n",
    "l_adad_aval = [2, 3, 5]\n",
    "for i in range(0, 100):\n",
    "    if vorodi_adad_aval == 2:\n",
    "        print(\"____________________\\n\")\n",
    "\n",
    "        print(\"adad aval badi = \", 3)\n",
    "\n",
    "        print(\"____________________\")\n",
    "\n",
    "        break\n",
    "    \n",
    "    elif vorodi_adad_aval == 3:\n",
    "        print(\"____________________\\n\")\n",
    "\n",
    "        print(\"adad aval badi = \", 5)\n",
    "\n",
    "        print(\"____________________\")\n",
    "\n",
    "        break\n",
    "\n",
    "    elif vorodi_adad_aval == 5:\n",
    "        print(\"____________________\\n\")\n",
    "\n",
    "        print(\"adad aval badi = \", 7)\n",
    "\n",
    "        print(\"____________________\")\n",
    "\n",
    "        break\n",
    "\n",
    "    elif vorodi_adad_aval % 2 != 0 and vorodi_adad_aval % 3 != 0 and vorodi_adad_aval % 5 != 0:\n",
    "\n",
    "        for j in range(5, vorodi_adad_aval+20):\n",
    "\n",
    "            if j % 2 != 0 and j % 3 != 0 and j % 5 != 0:\n",
    "\n",
    "                l_adad_aval.append(j)\n",
    "\n",
    "        addres = l_adad_aval.index(vorodi_adad_aval)\n",
    "        print(\"____________________\\n\")\n",
    "\n",
    "        print(\"adad aval badi = \", l_adad_aval[addres+1])\n",
    "\n",
    "        print(\"____________________\")\n",
    "        break\n",
    "    else:\n",
    "        vorodi_adad_aval = int(\n",
    "            input(\"adad aval nabod => dobare vared konin = \"))"
   ]
  },
  {
   "cell_type": "code",
   "execution_count": 56,
   "metadata": {},
   "outputs": [
    {
     "name": "stdout",
     "output_type": "stream",
     "text": [
      "adad aval badi :  7\n"
     ]
    }
   ],
   "source": [
    "#Tmrin_5 with library\n",
    "\n",
    "from sympy import *\n",
    "\n",
    "number = int(input(\"enetr a number:\"))\n",
    "\n",
    "check = isprime(number)\n",
    "\n",
    "if check == True : \n",
    "    \n",
    "    print(nextprime(number))\n",
    "\n",
    "elif check == False : \n",
    "   \n",
    "    number = int(input(\"enetr a number:\"))\n",
    "    \n",
    "    check = isprime(number)\n",
    "    \n",
    "    if check == True : \n",
    "    \n",
    "       print(\"adad aval badi : \" , nextprime(number))\n",
    "\n",
    "\n"
   ]
  }
 ],
 "metadata": {
  "interpreter": {
   "hash": "d406864f2ee78ecc67afccccd0a48c216f41ca3a0f9ca739a0b9d8b15ae422ba"
  },
  "kernelspec": {
   "display_name": "Python 3.10.2 64-bit",
   "language": "python",
   "name": "python3"
  },
  "language_info": {
   "codemirror_mode": {
    "name": "ipython",
    "version": 3
   },
   "file_extension": ".py",
   "mimetype": "text/x-python",
   "name": "python",
   "nbconvert_exporter": "python",
   "pygments_lexer": "ipython3",
   "version": "3.10.2"
  },
  "orig_nbformat": 4
 },
 "nbformat": 4,
 "nbformat_minor": 2
}
