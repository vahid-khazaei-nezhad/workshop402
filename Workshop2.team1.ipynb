{
 "cells": [
  {
   "cell_type": "markdown",
   "id": "shaped-fitting",
   "metadata": {},
   "source": [
    "<div style=\"direction:ltr; color:blue; font-size:200%; text-align: center; font-weight: bold;\">\n",
    "\n",
    "<head> Workshop 2: Decision Making & Loops </head>\n",
    "    \n",
    "</div>"
   ]
  },
  {
   "cell_type": "markdown",
   "id": "informal-boulder",
   "metadata": {},
   "source": [
    "## \n",
    "<br>\n",
    "<div style=\"direction:rtl; color:blue; font-size:150%;\"> \n",
    "برنامه ای بنویسید که 5 عدد متوالی را از کاربر دریافت نموده و مشخص نماید ورودی کاربر زوج یا فرد است.\n",
    "</div>"
   ]
  },
  {
   "cell_type": "code",
   "execution_count": null,
   "id": "780225a3",
   "metadata": {},
   "outputs": [],
   "source": [
    "counter = 0\n",
    "    \n",
    "while counter < 5: \n",
    "    \n",
    "    number = int(input(\"Enter a number: \"))\n",
    "    \n",
    "    if number % 2 == 0:\n",
    "        print(number, \"is even!\")\n",
    "    else: \n",
    "        print(number, \"is odd!\")\n",
    "    \n",
    "    counter += 1 \n"
   ]
  },
  {
   "cell_type": "markdown",
   "id": "further-tracker",
   "metadata": {},
   "source": [
    "## \n",
    "<br>\n",
    "<div style=\"direction:rtl; color:blue; font-size:150%;\"> \n",
    "برنامه ای بنویسید که از کاربر یک کلمه را دریافت نماید و مشخص کند کدامیک از کاراکترهای آن صدا دار و کدامیک بی صدا هستند. کاراکترهای صدا دار شامل e, a, i, o, u هستند\n",
    "</div>"
   ]
  },
  {
   "cell_type": "code",
   "execution_count": 1,
   "id": "93010fd6",
   "metadata": {},
   "outputs": [
    {
     "name": "stdout",
     "output_type": "stream",
     "text": [
      "please enter a letter :qeert\n",
      "q is Not Vowel\n",
      "e is Vowel\n",
      "e is Vowel\n",
      "r is Not Vowel\n",
      "t is Not Vowel\n"
     ]
    }
   ],
   "source": [
    "word = input('please enter a letter :')\n",
    "\n",
    "for i in range (len(word)):\n",
    "\n",
    "    if word[i] in ['u','U','o','O','i','I','a','A','E','e']:\n",
    "        print(word[i] ,'is Vowel')\n",
    "    \n",
    "    else: \n",
    "        print(word[i] ,'is Not Vowel')"
   ]
  },
  {
   "cell_type": "markdown",
   "id": "tough-burner",
   "metadata": {},
   "source": [
    "## \n",
    "<br>\n",
    "<div style=\"direction:rtl; color:blue; font-size:150%;\">\n",
    "برنامه ای بنویسید که مطابق جدول زیر شدت زلزه را توصیف نماید\n",
    "</div>\n",
    "\n",
    "<div>\n",
    "<br>\n",
    "<br>\n",
    "<img src=\"richter.png\" alt=\"Richter intensity\" width=\"500\" height=\"600\">\n",
    "</div>"
   ]
  },
  {
   "cell_type": "code",
   "execution_count": null,
   "id": "a567aec4",
   "metadata": {},
   "outputs": [],
   "source": [
    "magnitude = float(input(\"Please enter the magnitude: \"))\n",
    "\n",
    "if magnitude < 2:\n",
    "    \n",
    "    print (\"It's Micro!\")\n",
    "    \n",
    "elif (magnitude >= 2 and magnitude < 3):\n",
    "    \n",
    "    print (\"It's Very Minor!\")\n",
    "\n",
    "elif (magnitude >= 3 and magnitude < 4):\n",
    "    \n",
    "    print (\"It's Minor!\")\n",
    "\n",
    "elif (magnitude >= 4 and magnitude < 5):\n",
    "    \n",
    "    print (\"It's Light!\")\n",
    "\n",
    "elif (magnitude >= 5 and magnitude < 6):\n",
    "    \n",
    "    print (\"It's Moderate!\")\n",
    "    \n",
    "elif (magnitude >= 6 and magnitude < 7):\n",
    "    \n",
    "    print (\"It's Strong!\")\n",
    "    \n",
    "elif (magnitude >= 7 and magnitude < 8):\n",
    "    \n",
    "    print (\"It's Major!\")\n",
    "    \n",
    "elif (magnitude >= 8 and magnitude < 10):\n",
    "    \n",
    "    print (\"It's Great!\")\n",
    "    \n",
    "elif (magnitude >= 10):\n",
    "    \n",
    "    print (\"It's Meteoric!\")\n",
    "    \n",
    "else:\n",
    "    \n",
    "    print(\"Number is not in the range!\")\n"
   ]
  },
  {
   "cell_type": "markdown",
   "id": "engaging-edmonton",
   "metadata": {},
   "source": [
    "## \n",
    "<br>\n",
    "<div style=\"direction:rtl; color:blue; font-size:150%;\">\n",
    "برنامه ای بنویسید که از کاربر تعدادی ورودی را دریافت نماید و دریافت ورودی از کاربر را تا زمان ورود کاراکتر e یا E ادامه دهد. سپس میانگین، ماکزیمم و مینیمم ورودی های کاربر را در خروجی نمایش دهد.\n",
    "</div>"
   ]
  },
  {
   "cell_type": "code",
   "execution_count": 38,
   "id": "16c5705c",
   "metadata": {},
   "outputs": [
    {
     "name": "stdout",
     "output_type": "stream",
     "text": [
      "please input a number: 1\n",
      "please input a number: 2\n",
      "please input a number: 3\n",
      "please input a number: 4\n",
      "please input a number: 5\n",
      "please input a number: E\n",
      "max is 5\n",
      "min is is 1\n",
      "average is 3.0\n"
     ]
    }
   ],
   "source": [
    "x = (input('please input a number: '))\n",
    "Max = int(x)\n",
    "Min = int(x)\n",
    "Sum = int(0)\n",
    "num = int(0)\n",
    "while x not in ['e','E']:\n",
    "    if int(x) > Max:\n",
    "        Max = int(x)\n",
    "    if int(x) < Min:\n",
    "        Min = int(x)\n",
    "    Sum = Sum + int(x)\n",
    "    num = num + 1\n",
    "    x = (input('please input a number: '))\n",
    "\n",
    "print('max is', Max)\n",
    "print('min is', Min)\n",
    "print('average is', Sum/num)"
   ]
  },
  {
   "cell_type": "markdown",
   "id": "auburn-celebration",
   "metadata": {},
   "source": [
    "## \n",
    "<br>\n",
    "<div style=\"direction:rtl; color:blue; font-size:150%;\">\n",
    "برنامه ای بنویسید شامل ده سطر و دو ستون، ستون اول دارای هدر سلسیوس و ستون دوم دارای هدر فارنهایت باشد. در هر سطر معادل سلسیوس و فارنهایت ده عدد تصائفی بین 0 تا صد درجه را نمایش دهد.\n",
    "</div>"
   ]
  },
  {
   "cell_type": "code",
   "execution_count": null,
   "id": "0fc2e383",
   "metadata": {},
   "outputs": [],
   "source": [
    "from random import randint\n",
    "\n",
    "print (\"Celsius \\t Fahrenheit\")\n",
    "\n",
    "for i in range(10):\n",
    "\n",
    "    c = float(randint(0, 100))\n",
    "   \n",
    "    f = (c*(9/5)) + 32\n",
    "    \n",
    "    print(c,\"\\t\\t\",f) "
   ]
  },
  {
   "cell_type": "markdown",
   "id": "intermediate-reality",
   "metadata": {},
   "source": [
    "## \n",
    "<br>\n",
    "<div style=\"direction:rtl; color:blue; font-size:150%;\">\n",
    "برنامه ای بنویسید که کاربر رشته های باینری 9 بیتی را وارد کند و برنامه بررسی کند که آیا رشته باینری وارد شده even parity هست یا نه؟ \n",
    "\n",
    "در رشته های باینری even parity تعداد یک ها باید زوج باشد در اینصورت بیت نهم رشته باینری به گونه ای تنظیم می شود که این زوج بودن تعداد یک ها حفظ شود\n",
    "\n",
    "</div>\n",
    "<div style=\"direction:ltr; color:green; font-size:150%;\">\n",
    "<br>\n",
    "<br>\n",
    "\"111010101\" -> True even parity\n",
    "<br>\n",
    "\"010001111\" -> False\n",
    "<br>\n",
    "\"110000010\" -> False\n",
    "</div>"
   ]
  },
  {
   "cell_type": "code",
   "execution_count": null,
   "id": "a48602e4",
   "metadata": {},
   "outputs": [
    {
     "name": "stdout",
     "output_type": "stream",
     "text": [
      "please enter your binary code (9 numbers long): 111111111\n"
     ]
    }
   ],
   "source": [
    "number = (input(\"Please Enter 9 bit number made of 0 & 1: \"))\n",
    "\n",
    "counter = 0\n",
    "\n",
    "for i in range(9):\n",
    "    \n",
    "    if number[i] == \"1\":\n",
    "        counter = counter + 1\n",
    "\n",
    "if counter % 2 == 0:\n",
    "    \n",
    "    print (\"The number is even parity!\")\n",
    "\n",
    "else:\n",
    "    print (\"The number is not even parity!\")\n",
    "        "
   ]
  },
  {
   "cell_type": "markdown",
   "id": "quantitative-bracelet",
   "metadata": {},
   "source": [
    "## \n",
    "<br>\n",
    "<div style=\"direction:rtl; color:blue; font-size:150%;\">\n",
    "  می دانیم که هر عدد هر عدد بزرگتر و مساوی یک را می توان به صورت حاصلضرب اعداد اول نوشت. برنامه ای بنویسید که از ورودی یک عدد صحیح بزگتر از یک را دریافت کرده و آن را به اعداد اول تجزیه کند\n",
    "\n",
    "</div>\n"
   ]
  },
  {
   "cell_type": "code",
   "execution_count": null,
   "id": "9e6fbf7c",
   "metadata": {},
   "outputs": [],
   "source": [
    "import math \n",
    "  \n",
    "def primeFactors(n): \n",
    "      \n",
    "    while n % 2 == 0: \n",
    "        print (2), \n",
    "        n = n / 2\n",
    "          \n",
    "    for i in range(3,int(math.sqrt(n))+1,2): \n",
    "           \n",
    "        while n % i== 0: \n",
    "            print (i), \n",
    "            n = n / i \n",
    "              \n",
    "    if n > 2: \n",
    "        print (n) \n",
    "          \n",
    "  \n",
    "n = int(input('Enter yor number : '))\n",
    "primeFactors(n) \n",
    "  \n"
   ]
  },
  {
   "cell_type": "markdown",
   "id": "sapphire-update",
   "metadata": {},
   "source": [
    "## \n",
    "<br>\n",
    "<div style=\"direction:rtl; color:blue; font-size:150%;\">\n",
    "برنامه ای بنویسید که پرتاب یک سکه را شبیه سازی کند. برای پرتاب سکه از کاربر تعداد دفعات پرتاب پرسیده می شود و سپس رشته ای به طول خواسته شده با ترکیب حروف H, T تولید می شود. حرف H نشان گر Head و T نشانگر Tail است   \n",
    "</div>\n"
   ]
  },
  {
   "cell_type": "code",
   "execution_count": 49,
   "id": "5af0b2ee",
   "metadata": {},
   "outputs": [
    {
     "name": "stdout",
     "output_type": "stream",
     "text": [
      "enter times that you want to roll. 5\n",
      "THTHT\n"
     ]
    }
   ],
   "source": [
    "import random\n",
    "result = str('')\n",
    "head = str('H')\n",
    "tail = str('T')\n",
    "counter = int(input('enter times that you want to roll. '))\n",
    "while counter > 0:\n",
    "    coin = int(random.randint(0, 2))\n",
    "    if coin == 0:\n",
    "        result = result + head\n",
    "    else:\n",
    "        result = result + tail\n",
    "    counter = counter - 1\n",
    "        \n",
    "\n",
    "print(result)"
   ]
  },
  {
   "cell_type": "markdown",
   "id": "analyzed-rover",
   "metadata": {},
   "source": [
    "## \n",
    "<br>\n",
    "<div style=\"direction:rtl; color:blue; font-size:150%;\">\n",
    "برنامه ای بنویسید که از کاربر یک رشته را دریافت نموده و بگوید رشته ی ورودی پالیندروم هست یا خیر\n",
    "رشته پالیندروم رشته ای است که اگر کاراکترهای آن از چب به راست و یا راست به چپ خوانده شود رشته ای یکسان بدست بیاید\n",
    "</div>"
   ]
  },
  {
   "cell_type": "code",
   "execution_count": null,
   "id": "8b87ea47",
   "metadata": {},
   "outputs": [],
   "source": [
    "#heyo\n",
    "\n",
    "a = (input(\"Enter a string: \"))\n",
    "\n",
    "if a == a[::-1]:\n",
    "   \n",
    "    print (\"it is palindrome!\")\n",
    "\n",
    "else:\n",
    "    \n",
    "    print (\"it is not palindrome!\")\n"
   ]
  },
  {
   "cell_type": "markdown",
   "id": "associate-jones",
   "metadata": {},
   "source": [
    "## \n",
    "<br>\n",
    "<div style=\"direction:rtl; color:blue; font-size:150%;\">\n",
    "شبه کد زیر را به کمک زبان پایتون پیاده سازی نمائید.\n",
    "در این روش شرط خاتمه حلقه را برابر abs(guess * guess - x) < 0.001 \n",
    "</div>\n",
    "<br>\n",
    "<div style=\"direction:ltr; color:green; font-size:150%;\">\n",
    "Read x from the user <br>\n",
    "Initialize guess to x/2 <br>\n",
    "While guess is not good enough do <br>\n",
    "Update guess to be the average of guess and x/guess\n",
    "</div>"
   ]
  },
  {
   "cell_type": "code",
   "execution_count": 1,
   "id": "98076db3",
   "metadata": {},
   "outputs": [
    {
     "name": "stdout",
     "output_type": "stream",
     "text": [
      "Enter x :  200\n",
      "updated guess is  14.142135968022693\n"
     ]
    }
   ],
   "source": [
    "x = float(input(\"Enter x :  \"))\n",
    "s = float(x/2)\n",
    "while abs(s * s - x) >= 0.001:\n",
    "    s = float((s + x/s)/2)\n",
    "\n",
    "print('updated guess is ', s)"
   ]
  }
 ],
 "metadata": {
  "kernelspec": {
   "display_name": "Python 3 (ipykernel)",
   "language": "python",
   "name": "python3"
  },
  "language_info": {
   "codemirror_mode": {
    "name": "ipython",
    "version": 3
   },
   "file_extension": ".py",
   "mimetype": "text/x-python",
   "name": "python",
   "nbconvert_exporter": "python",
   "pygments_lexer": "ipython3",
   "version": "3.9.7"
  },
  "toc": {
   "base_numbering": 1,
   "nav_menu": {},
   "number_sections": true,
   "sideBar": true,
   "skip_h1_title": false,
   "title_cell": "Table of Contents",
   "title_sidebar": "Contents",
   "toc_cell": false,
   "toc_position": {},
   "toc_section_display": true,
   "toc_window_display": false
  },
  "varInspector": {
   "cols": {
    "lenName": 16,
    "lenType": 16,
    "lenVar": 40
   },
   "kernels_config": {
    "python": {
     "delete_cmd_postfix": "",
     "delete_cmd_prefix": "del ",
     "library": "var_list.py",
     "varRefreshCmd": "print(var_dic_list())"
    },
    "r": {
     "delete_cmd_postfix": ") ",
     "delete_cmd_prefix": "rm(",
     "library": "var_list.r",
     "varRefreshCmd": "cat(var_dic_list()) "
    }
   },
   "types_to_exclude": [
    "module",
    "function",
    "builtin_function_or_method",
    "instance",
    "_Feature"
   ],
   "window_display": false
  }
 },
 "nbformat": 4,
 "nbformat_minor": 5
}
